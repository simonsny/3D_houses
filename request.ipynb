{
 "cells": [
  {
   "cell_type": "code",
   "execution_count": 1,
   "id": "electoral-hampshire",
   "metadata": {},
   "outputs": [],
   "source": [
    "%config Completer.use_jedi = False"
   ]
  },
  {
   "cell_type": "code",
   "execution_count": 2,
   "id": "imperial-spine",
   "metadata": {},
   "outputs": [],
   "source": [
    "import requests"
   ]
  },
  {
   "cell_type": "code",
   "execution_count": null,
   "id": "normal-belarus",
   "metadata": {},
   "outputs": [],
   "source": [
    "def get_info_from_adress(params):\\\n",
    "    diccie = {}\n",
    "    r = json.loads(requests.get(\n",
    "    \"https://api.basisregisters.vlaanderen.be/v1/adresmatch\", params=params\n",
    "    ).content)\n",
    "    polygon = r['geometriePolygoon']['polygon']['coordinates']\n",
    "    coords = r['adresMatches']['adresPositie']\n",
    "    \n",
    "    return diccie"
   ]
  },
  {
   "cell_type": "code",
   "execution_count": 18,
   "id": "together-forty",
   "metadata": {},
   "outputs": [],
   "source": [
    "url = 'https://api.basisregisters.vlaanderen.be/v1/postcode/3550'"
   ]
  },
  {
   "cell_type": "code",
   "execution_count": 19,
   "id": "sharing-employment",
   "metadata": {},
   "outputs": [],
   "source": [
    "r = requests.get(url)"
   ]
  },
  {
   "cell_type": "code",
   "execution_count": 20,
   "id": "metric-spice",
   "metadata": {},
   "outputs": [
    {
     "data": {
      "text/plain": [
       "<Response [403]>"
      ]
     },
     "execution_count": 20,
     "metadata": {},
     "output_type": "execute_result"
    }
   ],
   "source": [
    "r"
   ]
  },
  {
   "cell_type": "code",
   "execution_count": 21,
   "id": "false-tuition",
   "metadata": {},
   "outputs": [
    {
     "data": {
      "text/plain": [
       "b'{\"message\":\"Missing Authentication Token\"}'"
      ]
     },
     "execution_count": 21,
     "metadata": {},
     "output_type": "execute_result"
    }
   ],
   "source": [
    "r.content"
   ]
  },
  {
   "cell_type": "code",
   "execution_count": 46,
   "id": "front-delay",
   "metadata": {},
   "outputs": [],
   "source": [
    "postcode, streetname, house_number = 2000, 'Grote markt ', 1\n",
    "url = \"https://api.basisregisters.vlaanderen.be/v1/adresmatch\""
   ]
  },
  {
   "cell_type": "code",
   "execution_count": 47,
   "id": "transparent-kansas",
   "metadata": {},
   "outputs": [],
   "source": [
    "import json"
   ]
  },
  {
   "cell_type": "code",
   "execution_count": 79,
   "id": "foster-kruger",
   "metadata": {},
   "outputs": [],
   "source": []
  },
  {
   "cell_type": "code",
   "execution_count": 108,
   "id": "corresponding-alloy",
   "metadata": {},
   "outputs": [],
   "source": [
    "params = {\"postcode\": 3550, \"straatnaam\": 'kapelstraat', \"huisnummer\": 78 }\n",
    "r = requests.get(\n",
    "    \"https://api.basisregisters.vlaanderen.be/v1/adresmatch\", params=params\n",
    ")\n",
    "content = json.loads(r.content)"
   ]
  },
  {
   "cell_type": "code",
   "execution_count": 109,
   "id": "simplified-forum",
   "metadata": {},
   "outputs": [
    {
     "data": {
      "text/plain": [
       "{'adresMatches': [{'identificator': {'id': 'https://data.vlaanderen.be/id/adres/548083',\n",
       "    'naamruimte': 'https://data.vlaanderen.be/id/adres',\n",
       "    'objectId': '548083',\n",
       "    'versieId': '2011-04-29T14:52:46+02:00'},\n",
       "   'detail': 'https://api.basisregisters.vlaanderen.be/v1/adressen/548083',\n",
       "   'gemeente': {'objectId': '71070',\n",
       "    'detail': 'https://api.basisregisters.vlaanderen.be/v1/gemeenten/71070',\n",
       "    'gemeentenaam': {'geografischeNaam': {'spelling': 'Heusden-Zolder',\n",
       "      'taal': 'nl'}}},\n",
       "   'postinfo': {'objectId': '3550',\n",
       "    'detail': 'https://api.basisregisters.vlaanderen.be/v1/postinfo/3550'},\n",
       "   'straatnaam': {'objectId': '117347',\n",
       "    'detail': 'https://api.basisregisters.vlaanderen.be/v1/straatnamen/117347',\n",
       "    'straatnaam': {'geografischeNaam': {'spelling': 'Kapelstraat',\n",
       "      'taal': 'nl'}}},\n",
       "   'huisnummer': '78',\n",
       "   'volledigAdres': {'geografischeNaam': {'spelling': 'Kapelstraat 78, 3550 Heusden-Zolder',\n",
       "     'taal': 'nl'}},\n",
       "   'adresPositie': {'point': {'coordinates': [213449.14, 191851.46],\n",
       "     'type': 'Point'}},\n",
       "   'positieSpecificatie': 'gebouweenheid',\n",
       "   'positieGeometrieMethode': 'afgeleidVanObject',\n",
       "   'adresStatus': 'inGebruik',\n",
       "   'officieelToegekend': True,\n",
       "   'adresseerbareObjecten': [{'objectType': 'gebouweenheid',\n",
       "     'objectId': '6651495',\n",
       "     'detail': 'https://api.basisregisters.vlaanderen.be/v1/gebouweenheden/6651495'},\n",
       "    {'objectType': 'perceel',\n",
       "     'objectId': '71025A1273-00S000',\n",
       "     'detail': 'https://api.basisregisters.vlaanderen.be/v1/percelen/71025A1273-00S000'}],\n",
       "   'score': 100.0}],\n",
       " 'warnings': []}"
      ]
     },
     "execution_count": 109,
     "metadata": {},
     "output_type": "execute_result"
    }
   ],
   "source": [
    "content"
   ]
  },
  {
   "cell_type": "code",
   "execution_count": 88,
   "id": "pressed-chaos",
   "metadata": {},
   "outputs": [],
   "source": [
    "list_buildings = content['adresMatches'][0]['adresseerbareObjecten']"
   ]
  },
  {
   "cell_type": "code",
   "execution_count": 103,
   "id": "tamil-gravity",
   "metadata": {},
   "outputs": [],
   "source": [
    "for gebouw in list_buildings:\n",
    "    c = requests.get(gebouw['detail'])\n",
    "    content = json.loads(c.content)\n",
    "    break"
   ]
  },
  {
   "cell_type": "code",
   "execution_count": 104,
   "id": "advised-ranch",
   "metadata": {},
   "outputs": [
    {
     "data": {
      "text/plain": [
       "{'identificator': {'id': 'https://data.vlaanderen.be/id/gebouweenheid/6651495',\n",
       "  'naamruimte': 'https://data.vlaanderen.be/id/gebouweenheid',\n",
       "  'objectId': '6651495',\n",
       "  'versieId': '2011-04-29T14:52:46+02:00'},\n",
       " 'geometriePunt': {'point': {'coordinates': [213449.14, 191851.46],\n",
       "   'type': 'Point'}},\n",
       " 'positieGeometrieMethode': 'afgeleidVanObject',\n",
       " 'gebouweenheidStatus': 'gerealiseerd',\n",
       " 'functie': 'nietGekend',\n",
       " 'gebouw': {'objectId': '6649986',\n",
       "  'detail': 'https://api.basisregisters.vlaanderen.be/v1/gebouwen/6649986'},\n",
       " 'adressen': [{'objectId': '548083',\n",
       "   'detail': 'https://api.basisregisters.vlaanderen.be/v1/adressen/548083'}]}"
      ]
     },
     "execution_count": 104,
     "metadata": {},
     "output_type": "execute_result"
    }
   ],
   "source": [
    "content"
   ]
  },
  {
   "cell_type": "code",
   "execution_count": 106,
   "id": "large-dynamics",
   "metadata": {},
   "outputs": [],
   "source": [
    "gebouw = json.loads(requests.get('https://api.basisregisters.vlaanderen.be/v1/gebouwen/6649986').content)"
   ]
  },
  {
   "cell_type": "code",
   "execution_count": 107,
   "id": "central-drunk",
   "metadata": {},
   "outputs": [
    {
     "data": {
      "text/plain": [
       "[[[213441.57336710393, 191844.68320721015],\n",
       "  [213457.30763911456, 191845.41523921117],\n",
       "  [213456.86027911305, 191855.03213521838],\n",
       "  [213454.53541511297, 191854.9239752181],\n",
       "  [213451.65426310897, 191860.71469521895],\n",
       "  [213442.56728710234, 191856.7793352194],\n",
       "  [213443.68741510808, 191854.23725521564],\n",
       "  [213441.13432710618, 191854.1184712164],\n",
       "  [213441.57336710393, 191844.68320721015]]]"
      ]
     },
     "execution_count": 107,
     "metadata": {},
     "output_type": "execute_result"
    }
   ],
   "source": [
    "gebouw['geometriePolygoon']['polygon']['coordinates']"
   ]
  },
  {
   "cell_type": "code",
   "execution_count": 102,
   "id": "solid-failing",
   "metadata": {},
   "outputs": [
    {
     "data": {
      "text/plain": [
       "{'identificator': {'id': 'https://data.vlaanderen.be/id/gebouw/6649986',\n",
       "  'naamruimte': 'https://data.vlaanderen.be/id/gebouw',\n",
       "  'objectId': '6649986',\n",
       "  'versieId': '2011-04-29T13:11:28+02:00'},\n",
       " 'geometriePolygoon': {'polygon': {'coordinates': [[[213441.57336710393,\n",
       "      191844.68320721015],\n",
       "     [213457.30763911456, 191845.41523921117],\n",
       "     [213456.86027911305, 191855.03213521838],\n",
       "     [213454.53541511297, 191854.9239752181],\n",
       "     [213451.65426310897, 191860.71469521895],\n",
       "     [213442.56728710234, 191856.7793352194],\n",
       "     [213443.68741510808, 191854.23725521564],\n",
       "     [213441.13432710618, 191854.1184712164],\n",
       "     [213441.57336710393, 191844.68320721015]]],\n",
       "   'type': 'Polygon'}},\n",
       " 'geometrieMethode': 'ingemetenGRB',\n",
       " 'gebouwStatus': 'gerealiseerd',\n",
       " 'gebouweenheden': [{'objectId': '6651495',\n",
       "   'detail': 'https://api.basisregisters.vlaanderen.be/v1/gebouweenheden/6651495'}],\n",
       " 'percelen': [{'objectId': '71025A1273-00S000',\n",
       "   'detail': 'https://api.basisregisters.vlaanderen.be/v1/percelen/71025A1273-00S000'}]}"
      ]
     },
     "execution_count": 102,
     "metadata": {},
     "output_type": "execute_result"
    }
   ],
   "source": [
    "json.loads(requests.get('https://api.basisregisters.vlaanderen.be/v1/gebouwen/6649986').content)"
   ]
  },
  {
   "cell_type": "code",
   "execution_count": 66,
   "id": "korean-silly",
   "metadata": {},
   "outputs": [
    {
     "data": {
      "text/plain": [
       "{'point': {'coordinates': [213449.14, 191851.46], 'type': 'Point'}}"
      ]
     },
     "execution_count": 66,
     "metadata": {},
     "output_type": "execute_result"
    }
   ],
   "source": [
    "adresPositie = content['adresMatches'][0]['adresPositie']\n",
    "adresPositie"
   ]
  },
  {
   "cell_type": "code",
   "execution_count": 67,
   "id": "filled-myrtle",
   "metadata": {},
   "outputs": [
    {
     "data": {
      "text/plain": [
       "[{'objectType': 'gebouweenheid',\n",
       "  'objectId': '6651495',\n",
       "  'detail': 'https://api.basisregisters.vlaanderen.be/v1/gebouweenheden/6651495'},\n",
       " {'objectType': 'perceel',\n",
       "  'objectId': '71025A1273-00S000',\n",
       "  'detail': 'https://api.basisregisters.vlaanderen.be/v1/percelen/71025A1273-00S000'}]"
      ]
     },
     "execution_count": 67,
     "metadata": {},
     "output_type": "execute_result"
    }
   ],
   "source": [
    "content['adresMatches'][0]['adresseerbareObjecten']"
   ]
  },
  {
   "cell_type": "code",
   "execution_count": 71,
   "id": "amended-period",
   "metadata": {},
   "outputs": [
    {
     "data": {
      "text/plain": [
       "'6651495'"
      ]
     },
     "execution_count": 71,
     "metadata": {},
     "output_type": "execute_result"
    }
   ],
   "source": [
    "objectId = content['adresMatches'][0]['adresseerbareObjecten'][0]['objectId']\n",
    "objectId"
   ]
  },
  {
   "cell_type": "code",
   "execution_count": 76,
   "id": "iraqi-italic",
   "metadata": {},
   "outputs": [
    {
     "data": {
      "text/plain": [
       "{'identificator': {'id': 'https://data.vlaanderen.be/id/gebouweenheid/6651495',\n",
       "  'naamruimte': 'https://data.vlaanderen.be/id/gebouweenheid',\n",
       "  'objectId': '6651495',\n",
       "  'versieId': '2011-04-29T14:52:46+02:00'},\n",
       " 'geometriePunt': {'point': {'coordinates': [213449.14, 191851.46],\n",
       "   'type': 'Point'}},\n",
       " 'positieGeometrieMethode': 'afgeleidVanObject',\n",
       " 'gebouweenheidStatus': 'gerealiseerd',\n",
       " 'functie': 'nietGekend',\n",
       " 'gebouw': {'objectId': '6649986',\n",
       "  'detail': 'https://api.basisregisters.vlaanderen.be/v1/gebouwen/6649986'},\n",
       " 'adressen': [{'objectId': '548083',\n",
       "   'detail': 'https://api.basisregisters.vlaanderen.be/v1/adressen/548083'}]}"
      ]
     },
     "execution_count": 76,
     "metadata": {},
     "output_type": "execute_result"
    }
   ],
   "source": [
    "r_gebouw = requests.get('https://api.basisregisters.vlaanderen.be/v1/gebouweenheden/6651495')\n",
    "content_gebouw = json.loads(r_gebouw.content)\n",
    "content_gebouw"
   ]
  },
  {
   "cell_type": "code",
   "execution_count": 75,
   "id": "affecting-painting",
   "metadata": {
    "scrolled": true
   },
   "outputs": [
    {
     "data": {
      "text/plain": [
       "{'gebouweenheden': [{'identificator': {'id': 'https://data.vlaanderen.be/id/gebouweenheid/5667547',\n",
       "    'naamruimte': 'https://data.vlaanderen.be/id/gebouweenheid',\n",
       "    'objectId': '5667547',\n",
       "    'versieId': '2019-07-10T01:10:29+02:00'},\n",
       "   'detail': 'https://api.basisregisters.vlaanderen.be/v1/gebouweenheden/5667547',\n",
       "   'gebouweenheidStatus': 'gerealiseerd'},\n",
       "  {'identificator': {'id': 'https://data.vlaanderen.be/id/gebouweenheid/5667548',\n",
       "    'naamruimte': 'https://data.vlaanderen.be/id/gebouweenheid',\n",
       "    'objectId': '5667548',\n",
       "    'versieId': '2011-10-06T05:30:06+02:00'},\n",
       "   'detail': 'https://api.basisregisters.vlaanderen.be/v1/gebouweenheden/5667548',\n",
       "   'gebouweenheidStatus': 'gehistoreerd'},\n",
       "  {'identificator': {'id': 'https://data.vlaanderen.be/id/gebouweenheid/5667549',\n",
       "    'naamruimte': 'https://data.vlaanderen.be/id/gebouweenheid',\n",
       "    'objectId': '5667549',\n",
       "    'versieId': '2011-10-06T05:30:06+02:00'},\n",
       "   'detail': 'https://api.basisregisters.vlaanderen.be/v1/gebouweenheden/5667549',\n",
       "   'gebouweenheidStatus': 'gehistoreerd'},\n",
       "  {'identificator': {'id': 'https://data.vlaanderen.be/id/gebouweenheid/5667550',\n",
       "    'naamruimte': 'https://data.vlaanderen.be/id/gebouweenheid',\n",
       "    'objectId': '5667550',\n",
       "    'versieId': '2011-10-06T05:30:06+02:00'},\n",
       "   'detail': 'https://api.basisregisters.vlaanderen.be/v1/gebouweenheden/5667550',\n",
       "   'gebouweenheidStatus': 'gehistoreerd'},\n",
       "  {'identificator': {'id': 'https://data.vlaanderen.be/id/gebouweenheid/5667551',\n",
       "    'naamruimte': 'https://data.vlaanderen.be/id/gebouweenheid',\n",
       "    'objectId': '5667551',\n",
       "    'versieId': '2011-10-06T05:30:06+02:00'},\n",
       "   'detail': 'https://api.basisregisters.vlaanderen.be/v1/gebouweenheden/5667551',\n",
       "   'gebouweenheidStatus': 'gehistoreerd'},\n",
       "  {'identificator': {'id': 'https://data.vlaanderen.be/id/gebouweenheid/5667552',\n",
       "    'naamruimte': 'https://data.vlaanderen.be/id/gebouweenheid',\n",
       "    'objectId': '5667552',\n",
       "    'versieId': '2011-10-06T05:30:06+02:00'},\n",
       "   'detail': 'https://api.basisregisters.vlaanderen.be/v1/gebouweenheden/5667552',\n",
       "   'gebouweenheidStatus': 'gehistoreerd'},\n",
       "  {'identificator': {'id': 'https://data.vlaanderen.be/id/gebouweenheid/5667553',\n",
       "    'naamruimte': 'https://data.vlaanderen.be/id/gebouweenheid',\n",
       "    'objectId': '5667553',\n",
       "    'versieId': '2011-10-06T05:30:06+02:00'},\n",
       "   'detail': 'https://api.basisregisters.vlaanderen.be/v1/gebouweenheden/5667553',\n",
       "   'gebouweenheidStatus': 'gehistoreerd'},\n",
       "  {'identificator': {'id': 'https://data.vlaanderen.be/id/gebouweenheid/5667554',\n",
       "    'naamruimte': 'https://data.vlaanderen.be/id/gebouweenheid',\n",
       "    'objectId': '5667554',\n",
       "    'versieId': '2011-10-06T05:30:06+02:00'},\n",
       "   'detail': 'https://api.basisregisters.vlaanderen.be/v1/gebouweenheden/5667554',\n",
       "   'gebouweenheidStatus': 'gehistoreerd'},\n",
       "  {'identificator': {'id': 'https://data.vlaanderen.be/id/gebouweenheid/5667555',\n",
       "    'naamruimte': 'https://data.vlaanderen.be/id/gebouweenheid',\n",
       "    'objectId': '5667555',\n",
       "    'versieId': '2011-10-06T05:30:06+02:00'},\n",
       "   'detail': 'https://api.basisregisters.vlaanderen.be/v1/gebouweenheden/5667555',\n",
       "   'gebouweenheidStatus': 'gehistoreerd'},\n",
       "  {'identificator': {'id': 'https://data.vlaanderen.be/id/gebouweenheid/5667556',\n",
       "    'naamruimte': 'https://data.vlaanderen.be/id/gebouweenheid',\n",
       "    'objectId': '5667556',\n",
       "    'versieId': '2015-06-02T00:57:30+02:00'},\n",
       "   'detail': 'https://api.basisregisters.vlaanderen.be/v1/gebouweenheden/5667556',\n",
       "   'gebouweenheidStatus': 'gehistoreerd'},\n",
       "  {'identificator': {'id': 'https://data.vlaanderen.be/id/gebouweenheid/5667557',\n",
       "    'naamruimte': 'https://data.vlaanderen.be/id/gebouweenheid',\n",
       "    'objectId': '5667557',\n",
       "    'versieId': '2015-10-01T11:25:36+02:00'},\n",
       "   'detail': 'https://api.basisregisters.vlaanderen.be/v1/gebouweenheden/5667557',\n",
       "   'gebouweenheidStatus': 'gerealiseerd'},\n",
       "  {'identificator': {'id': 'https://data.vlaanderen.be/id/gebouweenheid/5667558',\n",
       "    'naamruimte': 'https://data.vlaanderen.be/id/gebouweenheid',\n",
       "    'objectId': '5667558',\n",
       "    'versieId': '2015-10-01T11:23:23+02:00'},\n",
       "   'detail': 'https://api.basisregisters.vlaanderen.be/v1/gebouweenheden/5667558',\n",
       "   'gebouweenheidStatus': 'gerealiseerd'},\n",
       "  {'identificator': {'id': 'https://data.vlaanderen.be/id/gebouweenheid/5667559',\n",
       "    'naamruimte': 'https://data.vlaanderen.be/id/gebouweenheid',\n",
       "    'objectId': '5667559',\n",
       "    'versieId': '2015-10-01T11:08:26+02:00'},\n",
       "   'detail': 'https://api.basisregisters.vlaanderen.be/v1/gebouweenheden/5667559',\n",
       "   'gebouweenheidStatus': 'gerealiseerd'},\n",
       "  {'identificator': {'id': 'https://data.vlaanderen.be/id/gebouweenheid/5667560',\n",
       "    'naamruimte': 'https://data.vlaanderen.be/id/gebouweenheid',\n",
       "    'objectId': '5667560',\n",
       "    'versieId': '2015-10-01T11:03:53+02:00'},\n",
       "   'detail': 'https://api.basisregisters.vlaanderen.be/v1/gebouweenheden/5667560',\n",
       "   'gebouweenheidStatus': 'gerealiseerd'},\n",
       "  {'identificator': {'id': 'https://data.vlaanderen.be/id/gebouweenheid/5667561',\n",
       "    'naamruimte': 'https://data.vlaanderen.be/id/gebouweenheid',\n",
       "    'objectId': '5667561',\n",
       "    'versieId': '2015-10-01T11:06:04+02:00'},\n",
       "   'detail': 'https://api.basisregisters.vlaanderen.be/v1/gebouweenheden/5667561',\n",
       "   'gebouweenheidStatus': 'gerealiseerd'},\n",
       "  {'identificator': {'id': 'https://data.vlaanderen.be/id/gebouweenheid/5667562',\n",
       "    'naamruimte': 'https://data.vlaanderen.be/id/gebouweenheid',\n",
       "    'objectId': '5667562',\n",
       "    'versieId': '2019-07-10T01:03:02+02:00'},\n",
       "   'detail': 'https://api.basisregisters.vlaanderen.be/v1/gebouweenheden/5667562',\n",
       "   'gebouweenheidStatus': 'gehistoreerd'},\n",
       "  {'identificator': {'id': 'https://data.vlaanderen.be/id/gebouweenheid/5667563',\n",
       "    'naamruimte': 'https://data.vlaanderen.be/id/gebouweenheid',\n",
       "    'objectId': '5667563',\n",
       "    'versieId': '2011-04-29T13:29:51+02:00'},\n",
       "   'detail': 'https://api.basisregisters.vlaanderen.be/v1/gebouweenheden/5667563',\n",
       "   'gebouweenheidStatus': 'gerealiseerd'},\n",
       "  {'identificator': {'id': 'https://data.vlaanderen.be/id/gebouweenheid/5667564',\n",
       "    'naamruimte': 'https://data.vlaanderen.be/id/gebouweenheid',\n",
       "    'objectId': '5667564',\n",
       "    'versieId': '2013-06-26T03:04:21+02:00'},\n",
       "   'detail': 'https://api.basisregisters.vlaanderen.be/v1/gebouweenheden/5667564',\n",
       "   'gebouweenheidStatus': 'gerealiseerd'},\n",
       "  {'identificator': {'id': 'https://data.vlaanderen.be/id/gebouweenheid/5667565',\n",
       "    'naamruimte': 'https://data.vlaanderen.be/id/gebouweenheid',\n",
       "    'objectId': '5667565',\n",
       "    'versieId': '2011-07-27T23:00:10+02:00'},\n",
       "   'detail': 'https://api.basisregisters.vlaanderen.be/v1/gebouweenheden/5667565',\n",
       "   'gebouweenheidStatus': 'gerealiseerd'},\n",
       "  {'identificator': {'id': 'https://data.vlaanderen.be/id/gebouweenheid/5667566',\n",
       "    'naamruimte': 'https://data.vlaanderen.be/id/gebouweenheid',\n",
       "    'objectId': '5667566',\n",
       "    'versieId': '2011-04-29T13:23:17+02:00'},\n",
       "   'detail': 'https://api.basisregisters.vlaanderen.be/v1/gebouweenheden/5667566',\n",
       "   'gebouweenheidStatus': 'gerealiseerd'},\n",
       "  {'identificator': {'id': 'https://data.vlaanderen.be/id/gebouweenheid/5667567',\n",
       "    'naamruimte': 'https://data.vlaanderen.be/id/gebouweenheid',\n",
       "    'objectId': '5667567',\n",
       "    'versieId': '2011-04-29T13:23:17+02:00'},\n",
       "   'detail': 'https://api.basisregisters.vlaanderen.be/v1/gebouweenheden/5667567',\n",
       "   'gebouweenheidStatus': 'gerealiseerd'},\n",
       "  {'identificator': {'id': 'https://data.vlaanderen.be/id/gebouweenheid/5667568',\n",
       "    'naamruimte': 'https://data.vlaanderen.be/id/gebouweenheid',\n",
       "    'objectId': '5667568',\n",
       "    'versieId': '2011-04-29T13:23:17+02:00'},\n",
       "   'detail': 'https://api.basisregisters.vlaanderen.be/v1/gebouweenheden/5667568',\n",
       "   'gebouweenheidStatus': 'gerealiseerd'},\n",
       "  {'identificator': {'id': 'https://data.vlaanderen.be/id/gebouweenheid/5667569',\n",
       "    'naamruimte': 'https://data.vlaanderen.be/id/gebouweenheid',\n",
       "    'objectId': '5667569',\n",
       "    'versieId': '2011-04-29T13:23:17+02:00'},\n",
       "   'detail': 'https://api.basisregisters.vlaanderen.be/v1/gebouweenheden/5667569',\n",
       "   'gebouweenheidStatus': 'gerealiseerd'},\n",
       "  {'identificator': {'id': 'https://data.vlaanderen.be/id/gebouweenheid/5667570',\n",
       "    'naamruimte': 'https://data.vlaanderen.be/id/gebouweenheid',\n",
       "    'objectId': '5667570',\n",
       "    'versieId': '2011-04-29T13:29:03+02:00'},\n",
       "   'detail': 'https://api.basisregisters.vlaanderen.be/v1/gebouweenheden/5667570',\n",
       "   'gebouweenheidStatus': 'gerealiseerd'},\n",
       "  {'identificator': {'id': 'https://data.vlaanderen.be/id/gebouweenheid/5667571',\n",
       "    'naamruimte': 'https://data.vlaanderen.be/id/gebouweenheid',\n",
       "    'objectId': '5667571',\n",
       "    'versieId': '2011-04-29T13:23:17+02:00'},\n",
       "   'detail': 'https://api.basisregisters.vlaanderen.be/v1/gebouweenheden/5667571',\n",
       "   'gebouweenheidStatus': 'gerealiseerd'},\n",
       "  {'identificator': {'id': 'https://data.vlaanderen.be/id/gebouweenheid/5667572',\n",
       "    'naamruimte': 'https://data.vlaanderen.be/id/gebouweenheid',\n",
       "    'objectId': '5667572',\n",
       "    'versieId': '2011-04-29T13:23:17+02:00'},\n",
       "   'detail': 'https://api.basisregisters.vlaanderen.be/v1/gebouweenheden/5667572',\n",
       "   'gebouweenheidStatus': 'gerealiseerd'},\n",
       "  {'identificator': {'id': 'https://data.vlaanderen.be/id/gebouweenheid/5667573',\n",
       "    'naamruimte': 'https://data.vlaanderen.be/id/gebouweenheid',\n",
       "    'objectId': '5667573',\n",
       "    'versieId': '2011-04-29T13:23:17+02:00'},\n",
       "   'detail': 'https://api.basisregisters.vlaanderen.be/v1/gebouweenheden/5667573',\n",
       "   'gebouweenheidStatus': 'gerealiseerd'},\n",
       "  {'identificator': {'id': 'https://data.vlaanderen.be/id/gebouweenheid/5667574',\n",
       "    'naamruimte': 'https://data.vlaanderen.be/id/gebouweenheid',\n",
       "    'objectId': '5667574',\n",
       "    'versieId': '2011-04-29T13:23:17+02:00'},\n",
       "   'detail': 'https://api.basisregisters.vlaanderen.be/v1/gebouweenheden/5667574',\n",
       "   'gebouweenheidStatus': 'gerealiseerd'},\n",
       "  {'identificator': {'id': 'https://data.vlaanderen.be/id/gebouweenheid/5667575',\n",
       "    'naamruimte': 'https://data.vlaanderen.be/id/gebouweenheid',\n",
       "    'objectId': '5667575',\n",
       "    'versieId': '2011-04-29T13:23:17+02:00'},\n",
       "   'detail': 'https://api.basisregisters.vlaanderen.be/v1/gebouweenheden/5667575',\n",
       "   'gebouweenheidStatus': 'gerealiseerd'},\n",
       "  {'identificator': {'id': 'https://data.vlaanderen.be/id/gebouweenheid/5667576',\n",
       "    'naamruimte': 'https://data.vlaanderen.be/id/gebouweenheid',\n",
       "    'objectId': '5667576',\n",
       "    'versieId': '2011-04-29T13:23:17+02:00'},\n",
       "   'detail': 'https://api.basisregisters.vlaanderen.be/v1/gebouweenheden/5667576',\n",
       "   'gebouweenheidStatus': 'gerealiseerd'},\n",
       "  {'identificator': {'id': 'https://data.vlaanderen.be/id/gebouweenheid/5667577',\n",
       "    'naamruimte': 'https://data.vlaanderen.be/id/gebouweenheid',\n",
       "    'objectId': '5667577',\n",
       "    'versieId': '2011-04-29T13:23:17+02:00'},\n",
       "   'detail': 'https://api.basisregisters.vlaanderen.be/v1/gebouweenheden/5667577',\n",
       "   'gebouweenheidStatus': 'gerealiseerd'},\n",
       "  {'identificator': {'id': 'https://data.vlaanderen.be/id/gebouweenheid/5667578',\n",
       "    'naamruimte': 'https://data.vlaanderen.be/id/gebouweenheid',\n",
       "    'objectId': '5667578',\n",
       "    'versieId': '2011-04-29T13:23:17+02:00'},\n",
       "   'detail': 'https://api.basisregisters.vlaanderen.be/v1/gebouweenheden/5667578',\n",
       "   'gebouweenheidStatus': 'gerealiseerd'},\n",
       "  {'identificator': {'id': 'https://data.vlaanderen.be/id/gebouweenheid/5667579',\n",
       "    'naamruimte': 'https://data.vlaanderen.be/id/gebouweenheid',\n",
       "    'objectId': '5667579',\n",
       "    'versieId': '2015-06-02T00:57:51+02:00'},\n",
       "   'detail': 'https://api.basisregisters.vlaanderen.be/v1/gebouweenheden/5667579',\n",
       "   'gebouweenheidStatus': 'gehistoreerd'},\n",
       "  {'identificator': {'id': 'https://data.vlaanderen.be/id/gebouweenheid/5667580',\n",
       "    'naamruimte': 'https://data.vlaanderen.be/id/gebouweenheid',\n",
       "    'objectId': '5667580',\n",
       "    'versieId': '2015-06-02T00:57:51+02:00'},\n",
       "   'detail': 'https://api.basisregisters.vlaanderen.be/v1/gebouweenheden/5667580',\n",
       "   'gebouweenheidStatus': 'gehistoreerd'},\n",
       "  {'identificator': {'id': 'https://data.vlaanderen.be/id/gebouweenheid/5667607',\n",
       "    'naamruimte': 'https://data.vlaanderen.be/id/gebouweenheid',\n",
       "    'objectId': '5667607',\n",
       "    'versieId': '2011-04-29T14:51:53+02:00'},\n",
       "   'detail': 'https://api.basisregisters.vlaanderen.be/v1/gebouweenheden/5667607',\n",
       "   'gebouweenheidStatus': 'gerealiseerd'},\n",
       "  {'identificator': {'id': 'https://data.vlaanderen.be/id/gebouweenheid/5667608',\n",
       "    'naamruimte': 'https://data.vlaanderen.be/id/gebouweenheid',\n",
       "    'objectId': '5667608',\n",
       "    'versieId': '2011-04-29T14:57:43+02:00'},\n",
       "   'detail': 'https://api.basisregisters.vlaanderen.be/v1/gebouweenheden/5667608',\n",
       "   'gebouweenheidStatus': 'gerealiseerd'},\n",
       "  {'identificator': {'id': 'https://data.vlaanderen.be/id/gebouweenheid/5667612',\n",
       "    'naamruimte': 'https://data.vlaanderen.be/id/gebouweenheid',\n",
       "    'objectId': '5667612',\n",
       "    'versieId': '2018-03-02T08:24:31+01:00'},\n",
       "   'detail': 'https://api.basisregisters.vlaanderen.be/v1/gebouweenheden/5667612',\n",
       "   'gebouweenheidStatus': 'gehistoreerd'},\n",
       "  {'identificator': {'id': 'https://data.vlaanderen.be/id/gebouweenheid/5667613',\n",
       "    'naamruimte': 'https://data.vlaanderen.be/id/gebouweenheid',\n",
       "    'objectId': '5667613',\n",
       "    'versieId': '2019-04-22T05:10:37+02:00'},\n",
       "   'detail': 'https://api.basisregisters.vlaanderen.be/v1/gebouweenheden/5667613',\n",
       "   'gebouweenheidStatus': 'gerealiseerd'},\n",
       "  {'identificator': {'id': 'https://data.vlaanderen.be/id/gebouweenheid/5667614',\n",
       "    'naamruimte': 'https://data.vlaanderen.be/id/gebouweenheid',\n",
       "    'objectId': '5667614',\n",
       "    'versieId': '2020-12-10T04:04:58+01:00'},\n",
       "   'detail': 'https://api.basisregisters.vlaanderen.be/v1/gebouweenheden/5667614',\n",
       "   'gebouweenheidStatus': 'gehistoreerd'},\n",
       "  {'identificator': {'id': 'https://data.vlaanderen.be/id/gebouweenheid/5667616',\n",
       "    'naamruimte': 'https://data.vlaanderen.be/id/gebouweenheid',\n",
       "    'objectId': '5667616',\n",
       "    'versieId': '2018-02-21T02:25:51+01:00'},\n",
       "   'detail': 'https://api.basisregisters.vlaanderen.be/v1/gebouweenheden/5667616',\n",
       "   'gebouweenheidStatus': 'gehistoreerd'},\n",
       "  {'identificator': {'id': 'https://data.vlaanderen.be/id/gebouweenheid/5667617',\n",
       "    'naamruimte': 'https://data.vlaanderen.be/id/gebouweenheid',\n",
       "    'objectId': '5667617',\n",
       "    'versieId': '2018-03-02T08:33:42+01:00'},\n",
       "   'detail': 'https://api.basisregisters.vlaanderen.be/v1/gebouweenheden/5667617',\n",
       "   'gebouweenheidStatus': 'gehistoreerd'},\n",
       "  {'identificator': {'id': 'https://data.vlaanderen.be/id/gebouweenheid/5667618',\n",
       "    'naamruimte': 'https://data.vlaanderen.be/id/gebouweenheid',\n",
       "    'objectId': '5667618',\n",
       "    'versieId': '2018-01-04T05:36:40+01:00'},\n",
       "   'detail': 'https://api.basisregisters.vlaanderen.be/v1/gebouweenheden/5667618',\n",
       "   'gebouweenheidStatus': 'gerealiseerd'},\n",
       "  {'identificator': {'id': 'https://data.vlaanderen.be/id/gebouweenheid/5667619',\n",
       "    'naamruimte': 'https://data.vlaanderen.be/id/gebouweenheid',\n",
       "    'objectId': '5667619',\n",
       "    'versieId': '2011-04-29T15:08:37+02:00'},\n",
       "   'detail': 'https://api.basisregisters.vlaanderen.be/v1/gebouweenheden/5667619',\n",
       "   'gebouweenheidStatus': 'gerealiseerd'},\n",
       "  {'identificator': {'id': 'https://data.vlaanderen.be/id/gebouweenheid/5667620',\n",
       "    'naamruimte': 'https://data.vlaanderen.be/id/gebouweenheid',\n",
       "    'objectId': '5667620',\n",
       "    'versieId': '2012-03-28T00:13:05+02:00'},\n",
       "   'detail': 'https://api.basisregisters.vlaanderen.be/v1/gebouweenheden/5667620',\n",
       "   'gebouweenheidStatus': 'gerealiseerd'},\n",
       "  {'identificator': {'id': 'https://data.vlaanderen.be/id/gebouweenheid/5667630',\n",
       "    'naamruimte': 'https://data.vlaanderen.be/id/gebouweenheid',\n",
       "    'objectId': '5667630',\n",
       "    'versieId': '2011-04-29T14:53:42+02:00'},\n",
       "   'detail': 'https://api.basisregisters.vlaanderen.be/v1/gebouweenheden/5667630',\n",
       "   'gebouweenheidStatus': 'gerealiseerd'},\n",
       "  {'identificator': {'id': 'https://data.vlaanderen.be/id/gebouweenheid/5667631',\n",
       "    'naamruimte': 'https://data.vlaanderen.be/id/gebouweenheid',\n",
       "    'objectId': '5667631',\n",
       "    'versieId': '2019-04-22T05:09:41+02:00'},\n",
       "   'detail': 'https://api.basisregisters.vlaanderen.be/v1/gebouweenheden/5667631',\n",
       "   'gebouweenheidStatus': 'gerealiseerd'},\n",
       "  {'identificator': {'id': 'https://data.vlaanderen.be/id/gebouweenheid/5667632',\n",
       "    'naamruimte': 'https://data.vlaanderen.be/id/gebouweenheid',\n",
       "    'objectId': '5667632',\n",
       "    'versieId': '2011-04-29T14:59:55+02:00'},\n",
       "   'detail': 'https://api.basisregisters.vlaanderen.be/v1/gebouweenheden/5667632',\n",
       "   'gebouweenheidStatus': 'gerealiseerd'},\n",
       "  {'identificator': {'id': 'https://data.vlaanderen.be/id/gebouweenheid/5667633',\n",
       "    'naamruimte': 'https://data.vlaanderen.be/id/gebouweenheid',\n",
       "    'objectId': '5667633',\n",
       "    'versieId': '2011-04-29T14:52:46+02:00'},\n",
       "   'detail': 'https://api.basisregisters.vlaanderen.be/v1/gebouweenheden/5667633',\n",
       "   'gebouweenheidStatus': 'gerealiseerd'},\n",
       "  {'identificator': {'id': 'https://data.vlaanderen.be/id/gebouweenheid/5667634',\n",
       "    'naamruimte': 'https://data.vlaanderen.be/id/gebouweenheid',\n",
       "    'objectId': '5667634',\n",
       "    'versieId': '2011-04-29T14:51:01+02:00'},\n",
       "   'detail': 'https://api.basisregisters.vlaanderen.be/v1/gebouweenheden/5667634',\n",
       "   'gebouweenheidStatus': 'gerealiseerd'},\n",
       "  {'identificator': {'id': 'https://data.vlaanderen.be/id/gebouweenheid/5667635',\n",
       "    'naamruimte': 'https://data.vlaanderen.be/id/gebouweenheid',\n",
       "    'objectId': '5667635',\n",
       "    'versieId': '2011-04-29T14:59:55+02:00'},\n",
       "   'detail': 'https://api.basisregisters.vlaanderen.be/v1/gebouweenheden/5667635',\n",
       "   'gebouweenheidStatus': 'gerealiseerd'},\n",
       "  {'identificator': {'id': 'https://data.vlaanderen.be/id/gebouweenheid/5667636',\n",
       "    'naamruimte': 'https://data.vlaanderen.be/id/gebouweenheid',\n",
       "    'objectId': '5667636',\n",
       "    'versieId': '2011-04-29T14:51:01+02:00'},\n",
       "   'detail': 'https://api.basisregisters.vlaanderen.be/v1/gebouweenheden/5667636',\n",
       "   'gebouweenheidStatus': 'gerealiseerd'},\n",
       "  {'identificator': {'id': 'https://data.vlaanderen.be/id/gebouweenheid/5667637',\n",
       "    'naamruimte': 'https://data.vlaanderen.be/id/gebouweenheid',\n",
       "    'objectId': '5667637',\n",
       "    'versieId': '2011-04-29T15:01:04+02:00'},\n",
       "   'detail': 'https://api.basisregisters.vlaanderen.be/v1/gebouweenheden/5667637',\n",
       "   'gebouweenheidStatus': 'gerealiseerd'},\n",
       "  {'identificator': {'id': 'https://data.vlaanderen.be/id/gebouweenheid/5667638',\n",
       "    'naamruimte': 'https://data.vlaanderen.be/id/gebouweenheid',\n",
       "    'objectId': '5667638',\n",
       "    'versieId': '2011-04-29T15:04:42+02:00'},\n",
       "   'detail': 'https://api.basisregisters.vlaanderen.be/v1/gebouweenheden/5667638',\n",
       "   'gebouweenheidStatus': 'gerealiseerd'},\n",
       "  {'identificator': {'id': 'https://data.vlaanderen.be/id/gebouweenheid/5667639',\n",
       "    'naamruimte': 'https://data.vlaanderen.be/id/gebouweenheid',\n",
       "    'objectId': '5667639',\n",
       "    'versieId': '2011-04-29T14:57:43+02:00'},\n",
       "   'detail': 'https://api.basisregisters.vlaanderen.be/v1/gebouweenheden/5667639',\n",
       "   'gebouweenheidStatus': 'gerealiseerd'},\n",
       "  {'identificator': {'id': 'https://data.vlaanderen.be/id/gebouweenheid/5667640',\n",
       "    'naamruimte': 'https://data.vlaanderen.be/id/gebouweenheid',\n",
       "    'objectId': '5667640',\n",
       "    'versieId': '2017-02-21T01:22:58+01:00'},\n",
       "   'detail': 'https://api.basisregisters.vlaanderen.be/v1/gebouweenheden/5667640',\n",
       "   'gebouweenheidStatus': 'gerealiseerd'},\n",
       "  {'identificator': {'id': 'https://data.vlaanderen.be/id/gebouweenheid/5667643',\n",
       "    'naamruimte': 'https://data.vlaanderen.be/id/gebouweenheid',\n",
       "    'objectId': '5667643',\n",
       "    'versieId': '2011-04-29T15:11:25+02:00'},\n",
       "   'detail': 'https://api.basisregisters.vlaanderen.be/v1/gebouweenheden/5667643',\n",
       "   'gebouweenheidStatus': 'gerealiseerd'},\n",
       "  {'identificator': {'id': 'https://data.vlaanderen.be/id/gebouweenheid/5667644',\n",
       "    'naamruimte': 'https://data.vlaanderen.be/id/gebouweenheid',\n",
       "    'objectId': '5667644',\n",
       "    'versieId': '2011-04-29T14:56:42+02:00'},\n",
       "   'detail': 'https://api.basisregisters.vlaanderen.be/v1/gebouweenheden/5667644',\n",
       "   'gebouweenheidStatus': 'gerealiseerd'},\n",
       "  {'identificator': {'id': 'https://data.vlaanderen.be/id/gebouweenheid/5667645',\n",
       "    'naamruimte': 'https://data.vlaanderen.be/id/gebouweenheid',\n",
       "    'objectId': '5667645',\n",
       "    'versieId': '2011-04-29T13:11:28+02:00'},\n",
       "   'detail': 'https://api.basisregisters.vlaanderen.be/v1/gebouweenheden/5667645',\n",
       "   'gebouweenheidStatus': 'gerealiseerd'},\n",
       "  {'identificator': {'id': 'https://data.vlaanderen.be/id/gebouweenheid/5667646',\n",
       "    'naamruimte': 'https://data.vlaanderen.be/id/gebouweenheid',\n",
       "    'objectId': '5667646',\n",
       "    'versieId': '2011-04-29T15:09:59+02:00'},\n",
       "   'detail': 'https://api.basisregisters.vlaanderen.be/v1/gebouweenheden/5667646',\n",
       "   'gebouweenheidStatus': 'gehistoreerd'},\n",
       "  {'identificator': {'id': 'https://data.vlaanderen.be/id/gebouweenheid/5667647',\n",
       "    'naamruimte': 'https://data.vlaanderen.be/id/gebouweenheid',\n",
       "    'objectId': '5667647',\n",
       "    'versieId': '2011-04-29T15:34:02+02:00'},\n",
       "   'detail': 'https://api.basisregisters.vlaanderen.be/v1/gebouweenheden/5667647',\n",
       "   'gebouweenheidStatus': 'gerealiseerd'},\n",
       "  {'identificator': {'id': 'https://data.vlaanderen.be/id/gebouweenheid/5667648',\n",
       "    'naamruimte': 'https://data.vlaanderen.be/id/gebouweenheid',\n",
       "    'objectId': '5667648',\n",
       "    'versieId': '2011-04-29T15:34:02+02:00'},\n",
       "   'detail': 'https://api.basisregisters.vlaanderen.be/v1/gebouweenheden/5667648',\n",
       "   'gebouweenheidStatus': 'gerealiseerd'},\n",
       "  {'identificator': {'id': 'https://data.vlaanderen.be/id/gebouweenheid/5667649',\n",
       "    'naamruimte': 'https://data.vlaanderen.be/id/gebouweenheid',\n",
       "    'objectId': '5667649',\n",
       "    'versieId': '2011-04-29T15:34:02+02:00'},\n",
       "   'detail': 'https://api.basisregisters.vlaanderen.be/v1/gebouweenheden/5667649',\n",
       "   'gebouweenheidStatus': 'gerealiseerd'},\n",
       "  {'identificator': {'id': 'https://data.vlaanderen.be/id/gebouweenheid/5667650',\n",
       "    'naamruimte': 'https://data.vlaanderen.be/id/gebouweenheid',\n",
       "    'objectId': '5667650',\n",
       "    'versieId': '2011-04-29T15:04:42+02:00'},\n",
       "   'detail': 'https://api.basisregisters.vlaanderen.be/v1/gebouweenheden/5667650',\n",
       "   'gebouweenheidStatus': 'gerealiseerd'},\n",
       "  {'identificator': {'id': 'https://data.vlaanderen.be/id/gebouweenheid/5667651',\n",
       "    'naamruimte': 'https://data.vlaanderen.be/id/gebouweenheid',\n",
       "    'objectId': '5667651',\n",
       "    'versieId': '2011-04-29T14:52:46+02:00'},\n",
       "   'detail': 'https://api.basisregisters.vlaanderen.be/v1/gebouweenheden/5667651',\n",
       "   'gebouweenheidStatus': 'gerealiseerd'},\n",
       "  {'identificator': {'id': 'https://data.vlaanderen.be/id/gebouweenheid/5667652',\n",
       "    'naamruimte': 'https://data.vlaanderen.be/id/gebouweenheid',\n",
       "    'objectId': '5667652',\n",
       "    'versieId': '2011-04-29T15:02:14+02:00'},\n",
       "   'detail': 'https://api.basisregisters.vlaanderen.be/v1/gebouweenheden/5667652',\n",
       "   'gebouweenheidStatus': 'gerealiseerd'},\n",
       "  {'identificator': {'id': 'https://data.vlaanderen.be/id/gebouweenheid/5667653',\n",
       "    'naamruimte': 'https://data.vlaanderen.be/id/gebouweenheid',\n",
       "    'objectId': '5667653',\n",
       "    'versieId': '2011-04-29T14:52:46+02:00'},\n",
       "   'detail': 'https://api.basisregisters.vlaanderen.be/v1/gebouweenheden/5667653',\n",
       "   'gebouweenheidStatus': 'gerealiseerd'},\n",
       "  {'identificator': {'id': 'https://data.vlaanderen.be/id/gebouweenheid/5667654',\n",
       "    'naamruimte': 'https://data.vlaanderen.be/id/gebouweenheid',\n",
       "    'objectId': '5667654',\n",
       "    'versieId': '2011-04-29T14:50:10+02:00'},\n",
       "   'detail': 'https://api.basisregisters.vlaanderen.be/v1/gebouweenheden/5667654',\n",
       "   'gebouweenheidStatus': 'gerealiseerd'},\n",
       "  {'identificator': {'id': 'https://data.vlaanderen.be/id/gebouweenheid/5667655',\n",
       "    'naamruimte': 'https://data.vlaanderen.be/id/gebouweenheid',\n",
       "    'objectId': '5667655',\n",
       "    'versieId': '2017-12-11T05:37:00+01:00'},\n",
       "   'detail': 'https://api.basisregisters.vlaanderen.be/v1/gebouweenheden/5667655',\n",
       "   'gebouweenheidStatus': 'gerealiseerd'},\n",
       "  {'identificator': {'id': 'https://data.vlaanderen.be/id/gebouweenheid/5667656',\n",
       "    'naamruimte': 'https://data.vlaanderen.be/id/gebouweenheid',\n",
       "    'objectId': '5667656',\n",
       "    'versieId': '2011-04-29T14:51:01+02:00'},\n",
       "   'detail': 'https://api.basisregisters.vlaanderen.be/v1/gebouweenheden/5667656',\n",
       "   'gebouweenheidStatus': 'gerealiseerd'},\n",
       "  {'identificator': {'id': 'https://data.vlaanderen.be/id/gebouweenheid/5667657',\n",
       "    'naamruimte': 'https://data.vlaanderen.be/id/gebouweenheid',\n",
       "    'objectId': '5667657',\n",
       "    'versieId': '2020-10-13T00:57:23+02:00'},\n",
       "   'detail': 'https://api.basisregisters.vlaanderen.be/v1/gebouweenheden/5667657',\n",
       "   'gebouweenheidStatus': 'gerealiseerd'},\n",
       "  {'identificator': {'id': 'https://data.vlaanderen.be/id/gebouweenheid/5667658',\n",
       "    'naamruimte': 'https://data.vlaanderen.be/id/gebouweenheid',\n",
       "    'objectId': '5667658',\n",
       "    'versieId': '2011-04-29T15:09:59+02:00'},\n",
       "   'detail': 'https://api.basisregisters.vlaanderen.be/v1/gebouweenheden/5667658',\n",
       "   'gebouweenheidStatus': 'gehistoreerd'},\n",
       "  {'identificator': {'id': 'https://data.vlaanderen.be/id/gebouweenheid/5667659',\n",
       "    'naamruimte': 'https://data.vlaanderen.be/id/gebouweenheid',\n",
       "    'objectId': '5667659',\n",
       "    'versieId': '2011-04-29T15:34:02+02:00'},\n",
       "   'detail': 'https://api.basisregisters.vlaanderen.be/v1/gebouweenheden/5667659',\n",
       "   'gebouweenheidStatus': 'gerealiseerd'},\n",
       "  {'identificator': {'id': 'https://data.vlaanderen.be/id/gebouweenheid/5667660',\n",
       "    'naamruimte': 'https://data.vlaanderen.be/id/gebouweenheid',\n",
       "    'objectId': '5667660',\n",
       "    'versieId': '2011-04-29T15:34:02+02:00'},\n",
       "   'detail': 'https://api.basisregisters.vlaanderen.be/v1/gebouweenheden/5667660',\n",
       "   'gebouweenheidStatus': 'gerealiseerd'},\n",
       "  {'identificator': {'id': 'https://data.vlaanderen.be/id/gebouweenheid/5667661',\n",
       "    'naamruimte': 'https://data.vlaanderen.be/id/gebouweenheid',\n",
       "    'objectId': '5667661',\n",
       "    'versieId': '2017-03-13T09:11:14+01:00'},\n",
       "   'detail': 'https://api.basisregisters.vlaanderen.be/v1/gebouweenheden/5667661',\n",
       "   'gebouweenheidStatus': 'gerealiseerd'},\n",
       "  {'identificator': {'id': 'https://data.vlaanderen.be/id/gebouweenheid/5667662',\n",
       "    'naamruimte': 'https://data.vlaanderen.be/id/gebouweenheid',\n",
       "    'objectId': '5667662',\n",
       "    'versieId': '2020-10-13T00:57:23+02:00'},\n",
       "   'detail': 'https://api.basisregisters.vlaanderen.be/v1/gebouweenheden/5667662',\n",
       "   'gebouweenheidStatus': 'gerealiseerd'},\n",
       "  {'identificator': {'id': 'https://data.vlaanderen.be/id/gebouweenheid/5667663',\n",
       "    'naamruimte': 'https://data.vlaanderen.be/id/gebouweenheid',\n",
       "    'objectId': '5667663',\n",
       "    'versieId': '2017-02-23T06:12:33+01:00'},\n",
       "   'detail': 'https://api.basisregisters.vlaanderen.be/v1/gebouweenheden/5667663',\n",
       "   'gebouweenheidStatus': 'gerealiseerd'},\n",
       "  {'identificator': {'id': 'https://data.vlaanderen.be/id/gebouweenheid/5667664',\n",
       "    'naamruimte': 'https://data.vlaanderen.be/id/gebouweenheid',\n",
       "    'objectId': '5667664',\n",
       "    'versieId': '2017-02-23T06:14:50+01:00'},\n",
       "   'detail': 'https://api.basisregisters.vlaanderen.be/v1/gebouweenheden/5667664',\n",
       "   'gebouweenheidStatus': 'gerealiseerd'},\n",
       "  {'identificator': {'id': 'https://data.vlaanderen.be/id/gebouweenheid/5667665',\n",
       "    'naamruimte': 'https://data.vlaanderen.be/id/gebouweenheid',\n",
       "    'objectId': '5667665',\n",
       "    'versieId': '2017-02-23T06:14:44+01:00'},\n",
       "   'detail': 'https://api.basisregisters.vlaanderen.be/v1/gebouweenheden/5667665',\n",
       "   'gebouweenheidStatus': 'gerealiseerd'},\n",
       "  {'identificator': {'id': 'https://data.vlaanderen.be/id/gebouweenheid/5667669',\n",
       "    'naamruimte': 'https://data.vlaanderen.be/id/gebouweenheid',\n",
       "    'objectId': '5667669',\n",
       "    'versieId': '2011-04-29T15:01:04+02:00'},\n",
       "   'detail': 'https://api.basisregisters.vlaanderen.be/v1/gebouweenheden/5667669',\n",
       "   'gebouweenheidStatus': 'gerealiseerd'},\n",
       "  {'identificator': {'id': 'https://data.vlaanderen.be/id/gebouweenheid/5667670',\n",
       "    'naamruimte': 'https://data.vlaanderen.be/id/gebouweenheid',\n",
       "    'objectId': '5667670',\n",
       "    'versieId': '2018-02-21T02:25:33+01:00'},\n",
       "   'detail': 'https://api.basisregisters.vlaanderen.be/v1/gebouweenheden/5667670',\n",
       "   'gebouweenheidStatus': 'gerealiseerd'},\n",
       "  {'identificator': {'id': 'https://data.vlaanderen.be/id/gebouweenheid/5667671',\n",
       "    'naamruimte': 'https://data.vlaanderen.be/id/gebouweenheid',\n",
       "    'objectId': '5667671',\n",
       "    'versieId': '2011-04-29T14:53:42+02:00'},\n",
       "   'detail': 'https://api.basisregisters.vlaanderen.be/v1/gebouweenheden/5667671',\n",
       "   'gebouweenheidStatus': 'gerealiseerd'},\n",
       "  {'identificator': {'id': 'https://data.vlaanderen.be/id/gebouweenheid/5667672',\n",
       "    'naamruimte': 'https://data.vlaanderen.be/id/gebouweenheid',\n",
       "    'objectId': '5667672',\n",
       "    'versieId': '2011-04-29T15:34:02+02:00'},\n",
       "   'detail': 'https://api.basisregisters.vlaanderen.be/v1/gebouweenheden/5667672',\n",
       "   'gebouweenheidStatus': 'gerealiseerd'},\n",
       "  {'identificator': {'id': 'https://data.vlaanderen.be/id/gebouweenheid/5667674',\n",
       "    'naamruimte': 'https://data.vlaanderen.be/id/gebouweenheid',\n",
       "    'objectId': '5667674',\n",
       "    'versieId': '2011-04-29T13:28:23+02:00'},\n",
       "   'detail': 'https://api.basisregisters.vlaanderen.be/v1/gebouweenheden/5667674',\n",
       "   'gebouweenheidStatus': 'gerealiseerd'},\n",
       "  {'identificator': {'id': 'https://data.vlaanderen.be/id/gebouweenheid/5667677',\n",
       "    'naamruimte': 'https://data.vlaanderen.be/id/gebouweenheid',\n",
       "    'objectId': '5667677',\n",
       "    'versieId': '2011-04-29T15:02:14+02:00'},\n",
       "   'detail': 'https://api.basisregisters.vlaanderen.be/v1/gebouweenheden/5667677',\n",
       "   'gebouweenheidStatus': 'gerealiseerd'},\n",
       "  {'identificator': {'id': 'https://data.vlaanderen.be/id/gebouweenheid/5667678',\n",
       "    'naamruimte': 'https://data.vlaanderen.be/id/gebouweenheid',\n",
       "    'objectId': '5667678',\n",
       "    'versieId': '2016-02-09T03:40:23+01:00'},\n",
       "   'detail': 'https://api.basisregisters.vlaanderen.be/v1/gebouweenheden/5667678',\n",
       "   'gebouweenheidStatus': 'gerealiseerd'},\n",
       "  {'identificator': {'id': 'https://data.vlaanderen.be/id/gebouweenheid/5667679',\n",
       "    'naamruimte': 'https://data.vlaanderen.be/id/gebouweenheid',\n",
       "    'objectId': '5667679',\n",
       "    'versieId': '2011-04-29T15:11:25+02:00'},\n",
       "   'detail': 'https://api.basisregisters.vlaanderen.be/v1/gebouweenheden/5667679',\n",
       "   'gebouweenheidStatus': 'gerealiseerd'},\n",
       "  {'identificator': {'id': 'https://data.vlaanderen.be/id/gebouweenheid/5667680',\n",
       "    'naamruimte': 'https://data.vlaanderen.be/id/gebouweenheid',\n",
       "    'objectId': '5667680',\n",
       "    'versieId': '2011-04-29T15:20:19+02:00'},\n",
       "   'detail': 'https://api.basisregisters.vlaanderen.be/v1/gebouweenheden/5667680',\n",
       "   'gebouweenheidStatus': 'gerealiseerd'},\n",
       "  {'identificator': {'id': 'https://data.vlaanderen.be/id/gebouweenheid/5667681',\n",
       "    'naamruimte': 'https://data.vlaanderen.be/id/gebouweenheid',\n",
       "    'objectId': '5667681',\n",
       "    'versieId': '2017-02-23T05:58:39+01:00'},\n",
       "   'detail': 'https://api.basisregisters.vlaanderen.be/v1/gebouweenheden/5667681',\n",
       "   'gebouweenheidStatus': 'gerealiseerd'},\n",
       "  {'identificator': {'id': 'https://data.vlaanderen.be/id/gebouweenheid/5667682',\n",
       "    'naamruimte': 'https://data.vlaanderen.be/id/gebouweenheid',\n",
       "    'objectId': '5667682',\n",
       "    'versieId': '2011-04-29T15:08:37+02:00'},\n",
       "   'detail': 'https://api.basisregisters.vlaanderen.be/v1/gebouweenheden/5667682',\n",
       "   'gebouweenheidStatus': 'gerealiseerd'},\n",
       "  {'identificator': {'id': 'https://data.vlaanderen.be/id/gebouweenheid/5667683',\n",
       "    'naamruimte': 'https://data.vlaanderen.be/id/gebouweenheid',\n",
       "    'objectId': '5667683',\n",
       "    'versieId': '2011-04-29T14:56:42+02:00'},\n",
       "   'detail': 'https://api.basisregisters.vlaanderen.be/v1/gebouweenheden/5667683',\n",
       "   'gebouweenheidStatus': 'gerealiseerd'},\n",
       "  {'identificator': {'id': 'https://data.vlaanderen.be/id/gebouweenheid/5667684',\n",
       "    'naamruimte': 'https://data.vlaanderen.be/id/gebouweenheid',\n",
       "    'objectId': '5667684',\n",
       "    'versieId': '2018-02-21T02:25:33+01:00'},\n",
       "   'detail': 'https://api.basisregisters.vlaanderen.be/v1/gebouweenheden/5667684',\n",
       "   'gebouweenheidStatus': 'gerealiseerd'},\n",
       "  {'identificator': {'id': 'https://data.vlaanderen.be/id/gebouweenheid/5667685',\n",
       "    'naamruimte': 'https://data.vlaanderen.be/id/gebouweenheid',\n",
       "    'objectId': '5667685',\n",
       "    'versieId': '2018-03-02T08:56:41+01:00'},\n",
       "   'detail': 'https://api.basisregisters.vlaanderen.be/v1/gebouweenheden/5667685',\n",
       "   'gebouweenheidStatus': 'gehistoreerd'},\n",
       "  {'identificator': {'id': 'https://data.vlaanderen.be/id/gebouweenheid/5667686',\n",
       "    'naamruimte': 'https://data.vlaanderen.be/id/gebouweenheid',\n",
       "    'objectId': '5667686',\n",
       "    'versieId': '2018-03-02T09:19:57+01:00'},\n",
       "   'detail': 'https://api.basisregisters.vlaanderen.be/v1/gebouweenheden/5667686',\n",
       "   'gebouweenheidStatus': 'gerealiseerd'},\n",
       "  {'identificator': {'id': 'https://data.vlaanderen.be/id/gebouweenheid/5667687',\n",
       "    'naamruimte': 'https://data.vlaanderen.be/id/gebouweenheid',\n",
       "    'objectId': '5667687',\n",
       "    'versieId': '2018-03-02T09:19:53+01:00'},\n",
       "   'detail': 'https://api.basisregisters.vlaanderen.be/v1/gebouweenheden/5667687',\n",
       "   'gebouweenheidStatus': 'gerealiseerd'},\n",
       "  {'identificator': {'id': 'https://data.vlaanderen.be/id/gebouweenheid/5667688',\n",
       "    'naamruimte': 'https://data.vlaanderen.be/id/gebouweenheid',\n",
       "    'objectId': '5667688',\n",
       "    'versieId': '2018-03-02T09:19:51+01:00'},\n",
       "   'detail': 'https://api.basisregisters.vlaanderen.be/v1/gebouweenheden/5667688',\n",
       "   'gebouweenheidStatus': 'gerealiseerd'},\n",
       "  {'identificator': {'id': 'https://data.vlaanderen.be/id/gebouweenheid/5667689',\n",
       "    'naamruimte': 'https://data.vlaanderen.be/id/gebouweenheid',\n",
       "    'objectId': '5667689',\n",
       "    'versieId': '2018-03-02T09:19:50+01:00'},\n",
       "   'detail': 'https://api.basisregisters.vlaanderen.be/v1/gebouweenheden/5667689',\n",
       "   'gebouweenheidStatus': 'gerealiseerd'},\n",
       "  {'identificator': {'id': 'https://data.vlaanderen.be/id/gebouweenheid/5667690',\n",
       "    'naamruimte': 'https://data.vlaanderen.be/id/gebouweenheid',\n",
       "    'objectId': '5667690',\n",
       "    'versieId': '2018-03-02T09:19:49+01:00'},\n",
       "   'detail': 'https://api.basisregisters.vlaanderen.be/v1/gebouweenheden/5667690',\n",
       "   'gebouweenheidStatus': 'gerealiseerd'},\n",
       "  {'identificator': {'id': 'https://data.vlaanderen.be/id/gebouweenheid/5667691',\n",
       "    'naamruimte': 'https://data.vlaanderen.be/id/gebouweenheid',\n",
       "    'objectId': '5667691',\n",
       "    'versieId': '2018-03-02T09:19:48+01:00'},\n",
       "   'detail': 'https://api.basisregisters.vlaanderen.be/v1/gebouweenheden/5667691',\n",
       "   'gebouweenheidStatus': 'gerealiseerd'},\n",
       "  {'identificator': {'id': 'https://data.vlaanderen.be/id/gebouweenheid/5667692',\n",
       "    'naamruimte': 'https://data.vlaanderen.be/id/gebouweenheid',\n",
       "    'objectId': '5667692',\n",
       "    'versieId': '2018-03-02T09:19:44+01:00'},\n",
       "   'detail': 'https://api.basisregisters.vlaanderen.be/v1/gebouweenheden/5667692',\n",
       "   'gebouweenheidStatus': 'gerealiseerd'},\n",
       "  {'identificator': {'id': 'https://data.vlaanderen.be/id/gebouweenheid/5667693',\n",
       "    'naamruimte': 'https://data.vlaanderen.be/id/gebouweenheid',\n",
       "    'objectId': '5667693',\n",
       "    'versieId': '2018-03-02T09:19:43+01:00'},\n",
       "   'detail': 'https://api.basisregisters.vlaanderen.be/v1/gebouweenheden/5667693',\n",
       "   'gebouweenheidStatus': 'gerealiseerd'}],\n",
       " 'volgende': 'https://api.basisregisters.vlaanderen.be/v1/gebouweenheden?offset=100&limit=100&objectId=6651495'}"
      ]
     },
     "execution_count": 75,
     "metadata": {},
     "output_type": "execute_result"
    }
   ],
   "source": [
    "params = {\"objectId\": objectId}\n",
    "r_gebouw = requests.get(\n",
    "    \"https://api.basisregisters.vlaanderen.be/v1/gebouweenheden\", params=params)\n",
    "content_gebouw = json.loads(r_gebouw.content)\n",
    "content_gebouw"
   ]
  },
  {
   "cell_type": "code",
   "execution_count": null,
   "id": "interested-catch",
   "metadata": {},
   "outputs": [],
   "source": []
  },
  {
   "cell_type": "code",
   "execution_count": null,
   "id": "still-avenue",
   "metadata": {},
   "outputs": [],
   "source": []
  },
  {
   "cell_type": "code",
   "execution_count": null,
   "id": "brave-automation",
   "metadata": {},
   "outputs": [],
   "source": []
  },
  {
   "cell_type": "code",
   "execution_count": null,
   "id": "proud-wrist",
   "metadata": {},
   "outputs": [],
   "source": []
  },
  {
   "cell_type": "code",
   "execution_count": null,
   "id": "communist-bahrain",
   "metadata": {},
   "outputs": [],
   "source": [
    "url = 'http://localhost:1010/productfamily'\n",
    "sdate = '2015-08-28'\n",
    "plist = 'abc,xyz'\n",
    "params = {\n",
    "  'date': sdate,\n",
    "  'list': plist\n",
    " }"
   ]
  },
  {
   "cell_type": "code",
   "execution_count": null,
   "id": "broad-radical",
   "metadata": {},
   "outputs": [],
   "source": [
    "url = \"http://loc.geopunt.be/geolocation/suggestion?&q=aaig&c=10\""
   ]
  },
  {
   "cell_type": "code",
   "execution_count": null,
   "id": "painful-transfer",
   "metadata": {},
   "outputs": [],
   "source": [
    "r = requests.get(\"http://loc.geopunt.be/geolocation/location?&latlon=51.03868741989108,3.7066240164852555&c=1\")"
   ]
  },
  {
   "cell_type": "code",
   "execution_count": null,
   "id": "measured-letter",
   "metadata": {},
   "outputs": [],
   "source": [
    "http://loc.geopunt.be/geolocation/suggestion"
   ]
  },
  {
   "cell_type": "code",
   "execution_count": null,
   "id": "protected-planner",
   "metadata": {},
   "outputs": [],
   "source": [
    "r.content"
   ]
  },
  {
   "cell_type": "code",
   "execution_count": null,
   "id": "cutting-ceramic",
   "metadata": {},
   "outputs": [],
   "source": [
    "import json"
   ]
  },
  {
   "cell_type": "code",
   "execution_count": null,
   "id": "historic-afghanistan",
   "metadata": {},
   "outputs": [],
   "source": [
    "url2 = \"http://loc.geopunt.be/geolocation/location?\""
   ]
  },
  {
   "cell_type": "code",
   "execution_count": null,
   "id": "attractive-bridal",
   "metadata": {},
   "outputs": [],
   "source": [
    "params2 = {\n",
    "    'q':'koolmijnlaan 24, 3550 Heusden-Zolder',\n",
    "    'c': 1\n",
    "}"
   ]
  },
  {
   "cell_type": "code",
   "execution_count": null,
   "id": "written-brunei",
   "metadata": {},
   "outputs": [],
   "source": [
    "r2 = requests.get(url2, params2)"
   ]
  },
  {
   "cell_type": "code",
   "execution_count": null,
   "id": "promotional-token",
   "metadata": {},
   "outputs": [],
   "source": [
    "c = r2.content"
   ]
  },
  {
   "cell_type": "code",
   "execution_count": null,
   "id": "dramatic-eagle",
   "metadata": {},
   "outputs": [],
   "source": [
    "my_json = json.loads(c)"
   ]
  },
  {
   "cell_type": "code",
   "execution_count": null,
   "id": "solid-consumer",
   "metadata": {},
   "outputs": [],
   "source": [
    "oundingBox(left=145000.0, bottom=238000.0, right=162000.0, top=247000.0)"
   ]
  },
  {
   "cell_type": "code",
   "execution_count": null,
   "id": "activated-organic",
   "metadata": {},
   "outputs": [],
   "source": [
    "type(my_json)"
   ]
  },
  {
   "cell_type": "code",
   "execution_count": null,
   "id": "genetic-seeking",
   "metadata": {},
   "outputs": [],
   "source": [
    "my_json"
   ]
  },
  {
   "cell_type": "code",
   "execution_count": null,
   "id": "comic-sweden",
   "metadata": {},
   "outputs": [],
   "source": [
    "def request_adress_geopunt(adress: str) -> dict:\n",
    "    url = \"http://loc.geopunt.be/geolocation/location?\"\n",
    "    params = {\n",
    "        'q':adress,\n",
    "        'c': 1\n",
    "    }\n",
    "    return requests.get(url, params)"
   ]
  },
  {
   "cell_type": "code",
   "execution_count": 1,
   "id": "occupied-jerusalem",
   "metadata": {},
   "outputs": [],
   "source": [
    "import requests\n",
    "import json"
   ]
  },
  {
   "cell_type": "code",
   "execution_count": 2,
   "id": "attempted-worcester",
   "metadata": {},
   "outputs": [
    {
     "data": {
      "text/plain": [
       "{'LocationResult': [{'Municipality': 'Heusden-Zolder',\n",
       "   'Zipcode': '3550',\n",
       "   'Thoroughfarename': 'Koolmijnlaan',\n",
       "   'Housenumber': '24',\n",
       "   'ID': 98250,\n",
       "   'FormattedAddress': 'Koolmijnlaan 24, 3550 Heusden-Zolder',\n",
       "   'Location': {'Lat_WGS84': 51.03767901360772,\n",
       "    'Lon_WGS84': 5.2954988135169625,\n",
       "    'X_Lambert72': 214999.85,\n",
       "    'Y_Lambert72': 192351.06},\n",
       "   'LocationType': 'crab_huisnummer_afgeleidVanGebouw',\n",
       "   'BoundingBox': {'LowerLeft': {'Lat_WGS84': 51.03767901360772,\n",
       "     'Lon_WGS84': 5.2954988135169625,\n",
       "     'X_Lambert72': 214999.85,\n",
       "     'Y_Lambert72': 192351.06},\n",
       "    'UpperRight': {'Lat_WGS84': 51.03767901360772,\n",
       "     'Lon_WGS84': 5.2954988135169625,\n",
       "     'X_Lambert72': 214999.85,\n",
       "     'Y_Lambert72': 192351.06}}}]}"
      ]
     },
     "execution_count": 2,
     "metadata": {},
     "output_type": "execute_result"
    }
   ],
   "source": [
    "r = requests.get(\"http://loc.geopunt.be/geolocation/location?q=koolmijnlaan 24, 3550 Heusden-Zolder\")\n",
    "jayson = json.loads(r.content)\n",
    "jayson"
   ]
  },
  {
   "cell_type": "code",
   "execution_count": null,
   "id": "partial-native",
   "metadata": {},
   "outputs": [],
   "source": []
  },
  {
   "cell_type": "markdown",
   "id": "armed-girlfriend",
   "metadata": {},
   "source": [
    "# API Basisregister"
   ]
  },
  {
   "cell_type": "code",
   "execution_count": null,
   "id": "nutritional-voltage",
   "metadata": {},
   "outputs": [],
   "source": [
    "basis_url = 'https://api.basisregisters.dev-vlaanderen.be/v1'"
   ]
  },
  {
   "cell_type": "code",
   "execution_count": 9,
   "id": "another-great",
   "metadata": {},
   "outputs": [],
   "source": [
    "link = 'https://data.vlaanderen.be/id/gebouweenheid/6'"
   ]
  },
  {
   "cell_type": "code",
   "execution_count": 10,
   "id": "occupied-buddy",
   "metadata": {},
   "outputs": [],
   "source": [
    "r = requests.get(link)"
   ]
  },
  {
   "cell_type": "code",
   "execution_count": 25,
   "id": "hearing-accordance",
   "metadata": {},
   "outputs": [
    {
     "data": {
      "text/plain": [
       "'/id/gebouweenheid/6'"
      ]
     },
     "execution_count": 25,
     "metadata": {},
     "output_type": "execute_result"
    }
   ],
   "source": [
    "r."
   ]
  },
  {
   "cell_type": "code",
   "execution_count": null,
   "id": "australian-editing",
   "metadata": {},
   "outputs": [],
   "source": []
  }
 ],
 "metadata": {
  "kernelspec": {
   "display_name": "3D_houses",
   "language": "python",
   "name": "3d_houses"
  },
  "language_info": {
   "codemirror_mode": {
    "name": "ipython",
    "version": 3
   },
   "file_extension": ".py",
   "mimetype": "text/x-python",
   "name": "python",
   "nbconvert_exporter": "python",
   "pygments_lexer": "ipython3",
   "version": "3.7.9"
  }
 },
 "nbformat": 4,
 "nbformat_minor": 5
}
