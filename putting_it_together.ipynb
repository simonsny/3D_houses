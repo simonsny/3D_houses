{
 "cells": [
  {
   "cell_type": "markdown",
   "id": "floppy-penguin",
   "metadata": {},
   "source": [
    "# imports, start"
   ]
  },
  {
   "cell_type": "code",
   "execution_count": 1,
   "id": "electoral-hampshire",
   "metadata": {},
   "outputs": [],
   "source": [
    "%config Completer.use_jedi = False"
   ]
  },
  {
   "cell_type": "code",
   "execution_count": 2,
   "id": "imperial-spine",
   "metadata": {},
   "outputs": [],
   "source": [
    "import requests\n",
    "import json\n",
    "import pandas as pd\n",
    "import os\n",
    "import rasterio"
   ]
  },
  {
   "cell_type": "code",
   "execution_count": 3,
   "id": "composed-office",
   "metadata": {},
   "outputs": [],
   "source": [
    "raster_coords = pd.read_csv('data/bounding_boxes_coordinates')\n",
    "raster_coords.set_index('index', inplace=True)"
   ]
  },
  {
   "cell_type": "markdown",
   "id": "expired-bicycle",
   "metadata": {},
   "source": [
    "# Requests"
   ]
  },
  {
   "cell_type": "code",
   "execution_count": 4,
   "id": "vanilla-malta",
   "metadata": {},
   "outputs": [],
   "source": [
    "def get_info_from_adress(params):\n",
    "    \"\"\"\n",
    "    From an adress, get the coordinates and the polygon of the buildings\n",
    "    \"\"\"\n",
    "    diccie = {}\n",
    "    request = requests.get(\n",
    "        \"https://api.basisregisters.vlaanderen.be/v1/adresmatch\", \n",
    "        params=params).content\n",
    "    jayson = json.loads(request)\n",
    "    adress_obj = jayson['adresMatches'][0]['adresseerbareObjecten']\n",
    "\n",
    "    diccie['adress_coords'] = jayson['adresMatches'][0]['adresPositie']['point']['coordinates']\n",
    "    adress_objects = jayson['adresMatches'][0]['adresseerbareObjecten']\n",
    "    polygons = []\n",
    "    for obj in adress_objects:\n",
    "        if obj['objectType'] == 'gebouweenheid':\n",
    "            polygons.append(get_polygon_from_detail_url_gebouweenheid(obj['detail']))\n",
    "    return polygons"
   ]
  },
  {
   "cell_type": "code",
   "execution_count": 5,
   "id": "built-disaster",
   "metadata": {},
   "outputs": [],
   "source": [
    "def request_json_content(url: str, params: dict) -> dict:\n",
    "    request = requests(url, params)\n",
    "    content = request.content\n",
    "    jayson = json.loads(content)\n",
    "    return jayson"
   ]
  },
  {
   "cell_type": "code",
   "execution_count": 6,
   "id": "provincial-remedy",
   "metadata": {},
   "outputs": [],
   "source": [
    "def get_polygon_from_detail_url_gebouweenheid(url):\n",
    "    request = requests.get(url).content\n",
    "    jayson = json.loads(request)\n",
    "    request_poly = requests.get(jayson['gebouw']['detail']).content\n",
    "    jayson_poly = json.loads(request_poly)\n",
    "    poly = jayson_poly['geometriePolygoon']['polygon']['coordinates']\n",
    "    return poly\n"
   ]
  },
  {
   "cell_type": "code",
   "execution_count": 11,
   "id": "unique-newsletter",
   "metadata": {},
   "outputs": [
    {
     "data": {
      "text/plain": [
       "[[[[213441.57336710393, 191844.68320721015],\n",
       "   [213457.30763911456, 191845.41523921117],\n",
       "   [213456.86027911305, 191855.03213521838],\n",
       "   [213454.53541511297, 191854.9239752181],\n",
       "   [213451.65426310897, 191860.71469521895],\n",
       "   [213442.56728710234, 191856.7793352194],\n",
       "   [213443.68741510808, 191854.23725521564],\n",
       "   [213441.13432710618, 191854.1184712164],\n",
       "   [213441.57336710393, 191844.68320721015]]]]"
      ]
     },
     "execution_count": 11,
     "metadata": {},
     "output_type": "execute_result"
    }
   ],
   "source": [
    "params = {\"postcode\": 3550, \"straatnaam\": 'kapelstraat', \"huisnummer\": 78 }\n",
    "polygons = get_info_from_adress(params)\n",
    "polygons"
   ]
  },
  {
   "cell_type": "markdown",
   "id": "front-venice",
   "metadata": {},
   "source": [
    "# getting the right file"
   ]
  },
  {
   "cell_type": "markdown",
   "id": "fifty-spyware",
   "metadata": {},
   "source": [
    "## getting the file number"
   ]
  },
  {
   "cell_type": "code",
   "execution_count": 12,
   "id": "lovely-plate",
   "metadata": {},
   "outputs": [],
   "source": [
    "coords = polygons[0][0][0]"
   ]
  },
  {
   "cell_type": "code",
   "execution_count": 13,
   "id": "excited-horizontal",
   "metadata": {},
   "outputs": [],
   "source": [
    "x, y = coords"
   ]
  },
  {
   "cell_type": "code",
   "execution_count": 14,
   "id": "julian-primary",
   "metadata": {},
   "outputs": [
    {
     "name": "stdout",
     "output_type": "stream",
     "text": [
      "[194000, 226000]\n"
     ]
    }
   ],
   "source": [
    "for xx in raster_coords.columns:\n",
    "    xx = [int(s) for s in xx.strip('()').split(', ')]\n",
    "    if (x > float(xx[0])) & (x <= float(xx[1])):\n",
    "        print(xx)"
   ]
  },
  {
   "cell_type": "code",
   "execution_count": 15,
   "id": "finished-charter",
   "metadata": {},
   "outputs": [],
   "source": [
    "def find_index(coord, index):\n",
    "    for i in index:\n",
    "        list_i = [int(s) for s in i.strip('()').split(', ')]\n",
    "        if (coord > float(list_i[0])) & (coord <= float(list_i[1])):\n",
    "            return i"
   ]
  },
  {
   "cell_type": "code",
   "execution_count": 16,
   "id": "fabulous-reporter",
   "metadata": {},
   "outputs": [],
   "source": [
    "ind = find_index(y, raster_coords.index)\n",
    "col = find_index(x, raster_coords.columns)"
   ]
  },
  {
   "cell_type": "code",
   "execution_count": 17,
   "id": "third-detroit",
   "metadata": {
    "scrolled": true
   },
   "outputs": [],
   "source": [
    "k = str(raster_coords.loc[ind, col])"
   ]
  },
  {
   "cell_type": "code",
   "execution_count": 18,
   "id": "assumed-israeli",
   "metadata": {},
   "outputs": [],
   "source": [
    "if len(k) < 2:\n",
    "    k = '0' + k"
   ]
  },
  {
   "cell_type": "code",
   "execution_count": 19,
   "id": "powered-venue",
   "metadata": {},
   "outputs": [
    {
     "data": {
      "text/plain": [
       "'25'"
      ]
     },
     "execution_count": 19,
     "metadata": {},
     "output_type": "execute_result"
    }
   ],
   "source": [
    "k"
   ]
  },
  {
   "cell_type": "markdown",
   "id": "romantic-management",
   "metadata": {},
   "source": [
    "## Creating or downloading the file"
   ]
  },
  {
   "cell_type": "code",
   "execution_count": 20,
   "id": "adult-carolina",
   "metadata": {},
   "outputs": [],
   "source": [
    "cwd = os.getcwd()"
   ]
  },
  {
   "cell_type": "code",
   "execution_count": 21,
   "id": "shaped-falls",
   "metadata": {},
   "outputs": [
    {
     "data": {
      "text/plain": [
       "'C:\\\\Users\\\\simon\\\\PycharmProjects\\\\3D_houses'"
      ]
     },
     "execution_count": 21,
     "metadata": {},
     "output_type": "execute_result"
    }
   ],
   "source": [
    "cwd"
   ]
  },
  {
   "cell_type": "code",
   "execution_count": 22,
   "id": "deadly-peripheral",
   "metadata": {},
   "outputs": [
    {
     "data": {
      "text/plain": [
       "'C:\\\\Users\\\\simon\\\\PycharmProjects\\\\3D_houses\\\\data'"
      ]
     },
     "execution_count": 22,
     "metadata": {},
     "output_type": "execute_result"
    }
   ],
   "source": [
    "data_dir = os.path.join(cwd, 'data')\n",
    "data_dir"
   ]
  },
  {
   "cell_type": "code",
   "execution_count": 23,
   "id": "turkish-notification",
   "metadata": {},
   "outputs": [
    {
     "ename": "NameError",
     "evalue": "name 'k_dir' is not defined",
     "output_type": "error",
     "traceback": [
      "\u001b[1;31m---------------------------------------------------------------------------\u001b[0m",
      "\u001b[1;31mNameError\u001b[0m                                 Traceback (most recent call last)",
      "\u001b[1;32m<ipython-input-23-3b99104695df>\u001b[0m in \u001b[0;36m<module>\u001b[1;34m\u001b[0m\n\u001b[1;32m----> 1\u001b[1;33m \u001b[1;32mif\u001b[0m \u001b[1;32mnot\u001b[0m \u001b[0mos\u001b[0m\u001b[1;33m.\u001b[0m\u001b[0mpath\u001b[0m\u001b[1;33m.\u001b[0m\u001b[0mexists\u001b[0m\u001b[1;33m(\u001b[0m\u001b[0mk_dir\u001b[0m\u001b[1;33m)\u001b[0m\u001b[1;33m:\u001b[0m\u001b[1;33m\u001b[0m\u001b[1;33m\u001b[0m\u001b[0m\n\u001b[0m\u001b[0;32m      2\u001b[0m     \u001b[0mprint\u001b[0m\u001b[1;33m(\u001b[0m\u001b[1;34m'not'\u001b[0m\u001b[1;33m)\u001b[0m\u001b[1;33m\u001b[0m\u001b[1;33m\u001b[0m\u001b[0m\n\u001b[0;32m      3\u001b[0m     \u001b[0mos\u001b[0m\u001b[1;33m.\u001b[0m\u001b[0mmakedirs\u001b[0m\u001b[1;33m(\u001b[0m\u001b[0mk_dir\u001b[0m\u001b[1;33m)\u001b[0m\u001b[1;33m\u001b[0m\u001b[1;33m\u001b[0m\u001b[0m\n",
      "\u001b[1;31mNameError\u001b[0m: name 'k_dir' is not defined"
     ]
    }
   ],
   "source": [
    "if not os.path.exists(k_dir):\n",
    "    print('not')\n",
    "    os.makedirs(k_dir)"
   ]
  },
  {
   "cell_type": "code",
   "execution_count": 24,
   "id": "athletic-start",
   "metadata": {},
   "outputs": [
    {
     "name": "stdout",
     "output_type": "stream",
     "text": [
      "C:\\Users\\simon\\PycharmProjects\\3D_houses\\data\\tif_files\\DHMVIIDSMRAS1m_k25.zip\n",
      "C:\\Users\\simon\\PycharmProjects\\3D_houses\\data\\tif_files\\DHMVIIDSMRAS1m_k35.zip\n",
      "C:\\Users\\simon\\PycharmProjects\\3D_houses\\data\\tif_files\\DHMVIIDSMRAS1m_k43.zip\n",
      "C:\\Users\\simon\\PycharmProjects\\3D_houses\\data\\tif_files\\DHMVIIDTMRAS1m_k25.zip\n",
      "C:\\Users\\simon\\PycharmProjects\\3D_houses\\data\\tif_files\\DHMVII_vdc_k25.zip\n",
      "C:\\Users\\simon\\PycharmProjects\\3D_houses\\data\\tif_files\\DHMVII_vdc_k35.zip\n",
      "C:\\Users\\simon\\PycharmProjects\\3D_houses\\data\\tif_files\\DHMVII_vdc_k43.zip\n",
      "C:\\Users\\simon\\PycharmProjects\\3D_houses\\data\\tif_files\\Gebruiksvoorwaarden_Digitaal_Hoogtemodel_Vlaanderen_II_DSM_raster_1_m.pdf\n",
      "C:\\Users\\simon\\PycharmProjects\\3D_houses\\data\\tif_files\\Gebruiksvoorwaarden_Digitaal_Hoogtemodel_Vlaanderen_II_DTM_raster_1_m.pdf\n",
      "C:\\Users\\simon\\PycharmProjects\\3D_houses\\data\\tif_files\\GeoTIFF\n",
      "C:\\Users\\simon\\PycharmProjects\\3D_houses\\data\\tif_files\\Leesmij_DHMVII.pdf\n",
      "C:\\Users\\simon\\PycharmProjects\\3D_houses\\data\\tif_files\\Meta_Digitaal_Hoogtemodel_Vlaanderen_II_DSM_raster_1_m.pdf\n",
      "C:\\Users\\simon\\PycharmProjects\\3D_houses\\data\\tif_files\\Meta_Digitaal_Hoogtemodel_Vlaanderen_II_DSM_raster_1_m.xml\n",
      "C:\\Users\\simon\\PycharmProjects\\3D_houses\\data\\tif_files\\Meta_Digitaal_Hoogtemodel_Vlaanderen_II_DTM_raster_1_m.pdf\n",
      "C:\\Users\\simon\\PycharmProjects\\3D_houses\\data\\tif_files\\Meta_Digitaal_Hoogtemodel_Vlaanderen_II_DTM_raster_1_m.xml\n"
     ]
    }
   ],
   "source": [
    "import glob\n",
    "for f in glob.glob(\"C:\\\\Users\\\\simon\\\\PycharmProjects\\\\3D_houses\\\\data\\\\tif_files\\\\*\"):\n",
    "    print(f)"
   ]
  },
  {
   "cell_type": "code",
   "execution_count": 25,
   "id": "together-generic",
   "metadata": {},
   "outputs": [
    {
     "data": {
      "text/plain": [
       "'25'"
      ]
     },
     "execution_count": 25,
     "metadata": {},
     "output_type": "execute_result"
    }
   ],
   "source": [
    "k"
   ]
  },
  {
   "cell_type": "code",
   "execution_count": 26,
   "id": "supported-gambling",
   "metadata": {},
   "outputs": [
    {
     "data": {
      "text/plain": [
       "'C:\\\\Users\\\\simon\\\\PycharmProjects\\\\3D_houses\\\\data\\\\tif_files\\\\GeoTIFF'"
      ]
     },
     "execution_count": 26,
     "metadata": {},
     "output_type": "execute_result"
    }
   ],
   "source": [
    "tif_folder = os.path.join(data_dir, 'tif_files\\\\GeoTIFF')\n",
    "tif_folder"
   ]
  },
  {
   "cell_type": "code",
   "execution_count": 27,
   "id": "cathedral-turning",
   "metadata": {},
   "outputs": [],
   "source": [
    "k_tif_dsm = f'DHMVIIDSMRAS1m_k{k}.tif'\n",
    "k_tif_dtm = f'DHMVIIDTMRAS1m_k{k}.tif'"
   ]
  },
  {
   "cell_type": "code",
   "execution_count": 46,
   "id": "english-final",
   "metadata": {},
   "outputs": [],
   "source": [
    "k_DSM_tif_loc = os.path.join(tif_folder, k_tif_dsm)\n",
    "k_DTM_tif_loc = os.path.join(tif_folder, k_tif_dtm)\n",
    "#r'C:\\Users\\simon\\PycharmProjects\\3D_houses\\data\\1\\DSM\\GeoTIFF\\DHMVIIDSMRAS1m_k01.tif'\n",
    "#DSM_tif = rasterio.open(DSM_tif_loc)"
   ]
  },
  {
   "cell_type": "markdown",
   "id": "critical-payroll",
   "metadata": {},
   "source": [
    "# Masking"
   ]
  },
  {
   "cell_type": "code",
   "execution_count": 29,
   "id": "suburban-savannah",
   "metadata": {},
   "outputs": [],
   "source": [
    "import fiona\n",
    "import rasterio.mask\n",
    "from shapely import geometry"
   ]
  },
  {
   "cell_type": "code",
   "execution_count": 30,
   "id": "touched-private",
   "metadata": {},
   "outputs": [
    {
     "data": {
      "text/plain": [
       "[[213441.57336710393, 191844.68320721015],\n",
       " [213457.30763911456, 191845.41523921117],\n",
       " [213456.86027911305, 191855.03213521838],\n",
       " [213454.53541511297, 191854.9239752181],\n",
       " [213451.65426310897, 191860.71469521895],\n",
       " [213442.56728710234, 191856.7793352194],\n",
       " [213443.68741510808, 191854.23725521564],\n",
       " [213441.13432710618, 191854.1184712164],\n",
       " [213441.57336710393, 191844.68320721015]]"
      ]
     },
     "execution_count": 30,
     "metadata": {},
     "output_type": "execute_result"
    }
   ],
   "source": [
    "polygons[0][0]"
   ]
  },
  {
   "cell_type": "code",
   "execution_count": 31,
   "id": "color-locator",
   "metadata": {},
   "outputs": [],
   "source": [
    "poly = geometry.Polygon(polygons[0][0])"
   ]
  },
  {
   "cell_type": "code",
   "execution_count": 32,
   "id": "offensive-alliance",
   "metadata": {},
   "outputs": [
    {
     "data": {
      "image/svg+xml": [
       "<svg xmlns=\"http://www.w3.org/2000/svg\" xmlns:xlink=\"http://www.w3.org/1999/xlink\" width=\"100.0\" height=\"100.0\" viewBox=\"213440.48739462584 191844.03627472982 17.467176969046704 17.325352969462983\" preserveAspectRatio=\"xMinYMin meet\"><g transform=\"matrix(1,0,0,-1,0,383705.3979024291)\"><path fill-rule=\"evenodd\" fill=\"#66cc99\" stroke=\"#555555\" stroke-width=\"0.3493435393809341\" opacity=\"0.6\" d=\"M 213441.57336710393,191844.68320721015 L 213457.30763911456,191845.41523921117 L 213456.86027911305,191855.03213521838 L 213454.53541511297,191854.9239752181 L 213451.65426310897,191860.71469521895 L 213442.56728710234,191856.7793352194 L 213443.68741510808,191854.23725521564 L 213441.13432710618,191854.1184712164 L 213441.57336710393,191844.68320721015 z\" /></g></svg>"
      ],
      "text/plain": [
       "<shapely.geometry.polygon.Polygon at 0x17ba51eb508>"
      ]
     },
     "execution_count": 32,
     "metadata": {},
     "output_type": "execute_result"
    }
   ],
   "source": [
    "poly"
   ]
  },
  {
   "cell_type": "code",
   "execution_count": 33,
   "id": "alleged-mercury",
   "metadata": {},
   "outputs": [],
   "source": [
    "polygons = polygons[0]"
   ]
  },
  {
   "cell_type": "code",
   "execution_count": 34,
   "id": "constant-deadline",
   "metadata": {},
   "outputs": [
    {
     "ename": "TypeError",
     "evalue": "list indices must be integers or slices, not str",
     "output_type": "error",
     "traceback": [
      "\u001b[1;31m---------------------------------------------------------------------------\u001b[0m",
      "\u001b[1;31mTypeError\u001b[0m                                 Traceback (most recent call last)",
      "\u001b[1;32m<ipython-input-34-4292ad875549>\u001b[0m in \u001b[0;36m<module>\u001b[1;34m\u001b[0m\n\u001b[1;32m----> 1\u001b[1;33m \u001b[0mpolygons\u001b[0m \u001b[1;33m=\u001b[0m \u001b[0mpolygons\u001b[0m\u001b[1;33m[\u001b[0m\u001b[1;34m'polygon'\u001b[0m\u001b[1;33m]\u001b[0m\u001b[1;33m\u001b[0m\u001b[1;33m\u001b[0m\u001b[0m\n\u001b[0m",
      "\u001b[1;31mTypeError\u001b[0m: list indices must be integers or slices, not str"
     ]
    }
   ],
   "source": [
    "polygons = polygons['polygon']"
   ]
  },
  {
   "cell_type": "code",
   "execution_count": 35,
   "id": "framed-comment",
   "metadata": {},
   "outputs": [
    {
     "data": {
      "text/plain": [
       "[[[213441.57336710393, 191844.68320721015],\n",
       "  [213457.30763911456, 191845.41523921117],\n",
       "  [213456.86027911305, 191855.03213521838],\n",
       "  [213454.53541511297, 191854.9239752181],\n",
       "  [213451.65426310897, 191860.71469521895],\n",
       "  [213442.56728710234, 191856.7793352194],\n",
       "  [213443.68741510808, 191854.23725521564],\n",
       "  [213441.13432710618, 191854.1184712164],\n",
       "  [213441.57336710393, 191844.68320721015]]]"
      ]
     },
     "execution_count": 35,
     "metadata": {},
     "output_type": "execute_result"
    }
   ],
   "source": [
    "polygons"
   ]
  },
  {
   "cell_type": "code",
   "execution_count": 58,
   "id": "fitted-swimming",
   "metadata": {},
   "outputs": [],
   "source": [
    "with rasterio.open(k_DSM_tif_loc) as src:\n",
    "    out_image_dsm, out_transform = rasterio.mask.mask(src, [poly], crop=True, filled = True, pad = True)\n",
    "    out_meta = src.meta"
   ]
  },
  {
   "cell_type": "code",
   "execution_count": 59,
   "id": "sapphire-roberts",
   "metadata": {},
   "outputs": [],
   "source": [
    "with rasterio.open(k_DTM_tif_loc) as src:\n",
    "    out_image_dtm, out_transform = rasterio.mask.mask(src, [poly], crop=True, filled = True, pad = True)\n",
    "    out_meta = src.meta"
   ]
  },
  {
   "cell_type": "code",
   "execution_count": 60,
   "id": "statutory-integer",
   "metadata": {},
   "outputs": [],
   "source": [
    "image_chm = out_image_dtm - out_image_dsm"
   ]
  },
  {
   "cell_type": "code",
   "execution_count": 61,
   "id": "precious-introduction",
   "metadata": {},
   "outputs": [],
   "source": [
    "import matplotlib.pyplot as plt\n",
    "from rasterio.plot import show\n",
    "import plotly"
   ]
  },
  {
   "cell_type": "code",
   "execution_count": 62,
   "id": "compound-welsh",
   "metadata": {},
   "outputs": [
    {
     "data": {
      "application/javascript": [
       "/* Put everything inside the global mpl namespace */\n",
       "/* global mpl */\n",
       "window.mpl = {};\n",
       "\n",
       "mpl.get_websocket_type = function () {\n",
       "    if (typeof WebSocket !== 'undefined') {\n",
       "        return WebSocket;\n",
       "    } else if (typeof MozWebSocket !== 'undefined') {\n",
       "        return MozWebSocket;\n",
       "    } else {\n",
       "        alert(\n",
       "            'Your browser does not have WebSocket support. ' +\n",
       "                'Please try Chrome, Safari or Firefox ≥ 6. ' +\n",
       "                'Firefox 4 and 5 are also supported but you ' +\n",
       "                'have to enable WebSockets in about:config.'\n",
       "        );\n",
       "    }\n",
       "};\n",
       "\n",
       "mpl.figure = function (figure_id, websocket, ondownload, parent_element) {\n",
       "    this.id = figure_id;\n",
       "\n",
       "    this.ws = websocket;\n",
       "\n",
       "    this.supports_binary = this.ws.binaryType !== undefined;\n",
       "\n",
       "    if (!this.supports_binary) {\n",
       "        var warnings = document.getElementById('mpl-warnings');\n",
       "        if (warnings) {\n",
       "            warnings.style.display = 'block';\n",
       "            warnings.textContent =\n",
       "                'This browser does not support binary websocket messages. ' +\n",
       "                'Performance may be slow.';\n",
       "        }\n",
       "    }\n",
       "\n",
       "    this.imageObj = new Image();\n",
       "\n",
       "    this.context = undefined;\n",
       "    this.message = undefined;\n",
       "    this.canvas = undefined;\n",
       "    this.rubberband_canvas = undefined;\n",
       "    this.rubberband_context = undefined;\n",
       "    this.format_dropdown = undefined;\n",
       "\n",
       "    this.image_mode = 'full';\n",
       "\n",
       "    this.root = document.createElement('div');\n",
       "    this.root.setAttribute('style', 'display: inline-block');\n",
       "    this._root_extra_style(this.root);\n",
       "\n",
       "    parent_element.appendChild(this.root);\n",
       "\n",
       "    this._init_header(this);\n",
       "    this._init_canvas(this);\n",
       "    this._init_toolbar(this);\n",
       "\n",
       "    var fig = this;\n",
       "\n",
       "    this.waiting = false;\n",
       "\n",
       "    this.ws.onopen = function () {\n",
       "        fig.send_message('supports_binary', { value: fig.supports_binary });\n",
       "        fig.send_message('send_image_mode', {});\n",
       "        if (fig.ratio !== 1) {\n",
       "            fig.send_message('set_dpi_ratio', { dpi_ratio: fig.ratio });\n",
       "        }\n",
       "        fig.send_message('refresh', {});\n",
       "    };\n",
       "\n",
       "    this.imageObj.onload = function () {\n",
       "        if (fig.image_mode === 'full') {\n",
       "            // Full images could contain transparency (where diff images\n",
       "            // almost always do), so we need to clear the canvas so that\n",
       "            // there is no ghosting.\n",
       "            fig.context.clearRect(0, 0, fig.canvas.width, fig.canvas.height);\n",
       "        }\n",
       "        fig.context.drawImage(fig.imageObj, 0, 0);\n",
       "    };\n",
       "\n",
       "    this.imageObj.onunload = function () {\n",
       "        fig.ws.close();\n",
       "    };\n",
       "\n",
       "    this.ws.onmessage = this._make_on_message_function(this);\n",
       "\n",
       "    this.ondownload = ondownload;\n",
       "};\n",
       "\n",
       "mpl.figure.prototype._init_header = function () {\n",
       "    var titlebar = document.createElement('div');\n",
       "    titlebar.classList =\n",
       "        'ui-dialog-titlebar ui-widget-header ui-corner-all ui-helper-clearfix';\n",
       "    var titletext = document.createElement('div');\n",
       "    titletext.classList = 'ui-dialog-title';\n",
       "    titletext.setAttribute(\n",
       "        'style',\n",
       "        'width: 100%; text-align: center; padding: 3px;'\n",
       "    );\n",
       "    titlebar.appendChild(titletext);\n",
       "    this.root.appendChild(titlebar);\n",
       "    this.header = titletext;\n",
       "};\n",
       "\n",
       "mpl.figure.prototype._canvas_extra_style = function (_canvas_div) {};\n",
       "\n",
       "mpl.figure.prototype._root_extra_style = function (_canvas_div) {};\n",
       "\n",
       "mpl.figure.prototype._init_canvas = function () {\n",
       "    var fig = this;\n",
       "\n",
       "    var canvas_div = (this.canvas_div = document.createElement('div'));\n",
       "    canvas_div.setAttribute(\n",
       "        'style',\n",
       "        'border: 1px solid #ddd;' +\n",
       "            'box-sizing: content-box;' +\n",
       "            'clear: both;' +\n",
       "            'min-height: 1px;' +\n",
       "            'min-width: 1px;' +\n",
       "            'outline: 0;' +\n",
       "            'overflow: hidden;' +\n",
       "            'position: relative;' +\n",
       "            'resize: both;'\n",
       "    );\n",
       "\n",
       "    function on_keyboard_event_closure(name) {\n",
       "        return function (event) {\n",
       "            return fig.key_event(event, name);\n",
       "        };\n",
       "    }\n",
       "\n",
       "    canvas_div.addEventListener(\n",
       "        'keydown',\n",
       "        on_keyboard_event_closure('key_press')\n",
       "    );\n",
       "    canvas_div.addEventListener(\n",
       "        'keyup',\n",
       "        on_keyboard_event_closure('key_release')\n",
       "    );\n",
       "\n",
       "    this._canvas_extra_style(canvas_div);\n",
       "    this.root.appendChild(canvas_div);\n",
       "\n",
       "    var canvas = (this.canvas = document.createElement('canvas'));\n",
       "    canvas.classList.add('mpl-canvas');\n",
       "    canvas.setAttribute('style', 'box-sizing: content-box;');\n",
       "\n",
       "    this.context = canvas.getContext('2d');\n",
       "\n",
       "    var backingStore =\n",
       "        this.context.backingStorePixelRatio ||\n",
       "        this.context.webkitBackingStorePixelRatio ||\n",
       "        this.context.mozBackingStorePixelRatio ||\n",
       "        this.context.msBackingStorePixelRatio ||\n",
       "        this.context.oBackingStorePixelRatio ||\n",
       "        this.context.backingStorePixelRatio ||\n",
       "        1;\n",
       "\n",
       "    this.ratio = (window.devicePixelRatio || 1) / backingStore;\n",
       "    if (this.ratio !== 1) {\n",
       "        fig.send_message('set_dpi_ratio', { dpi_ratio: this.ratio });\n",
       "    }\n",
       "\n",
       "    var rubberband_canvas = (this.rubberband_canvas = document.createElement(\n",
       "        'canvas'\n",
       "    ));\n",
       "    rubberband_canvas.setAttribute(\n",
       "        'style',\n",
       "        'box-sizing: content-box; position: absolute; left: 0; top: 0; z-index: 1;'\n",
       "    );\n",
       "\n",
       "    var resizeObserver = new ResizeObserver(function (entries) {\n",
       "        var nentries = entries.length;\n",
       "        for (var i = 0; i < nentries; i++) {\n",
       "            var entry = entries[i];\n",
       "            var width, height;\n",
       "            if (entry.contentBoxSize) {\n",
       "                if (entry.contentBoxSize instanceof Array) {\n",
       "                    // Chrome 84 implements new version of spec.\n",
       "                    width = entry.contentBoxSize[0].inlineSize;\n",
       "                    height = entry.contentBoxSize[0].blockSize;\n",
       "                } else {\n",
       "                    // Firefox implements old version of spec.\n",
       "                    width = entry.contentBoxSize.inlineSize;\n",
       "                    height = entry.contentBoxSize.blockSize;\n",
       "                }\n",
       "            } else {\n",
       "                // Chrome <84 implements even older version of spec.\n",
       "                width = entry.contentRect.width;\n",
       "                height = entry.contentRect.height;\n",
       "            }\n",
       "\n",
       "            // Keep the size of the canvas and rubber band canvas in sync with\n",
       "            // the canvas container.\n",
       "            if (entry.devicePixelContentBoxSize) {\n",
       "                // Chrome 84 implements new version of spec.\n",
       "                canvas.setAttribute(\n",
       "                    'width',\n",
       "                    entry.devicePixelContentBoxSize[0].inlineSize\n",
       "                );\n",
       "                canvas.setAttribute(\n",
       "                    'height',\n",
       "                    entry.devicePixelContentBoxSize[0].blockSize\n",
       "                );\n",
       "            } else {\n",
       "                canvas.setAttribute('width', width * fig.ratio);\n",
       "                canvas.setAttribute('height', height * fig.ratio);\n",
       "            }\n",
       "            canvas.setAttribute(\n",
       "                'style',\n",
       "                'width: ' + width + 'px; height: ' + height + 'px;'\n",
       "            );\n",
       "\n",
       "            rubberband_canvas.setAttribute('width', width);\n",
       "            rubberband_canvas.setAttribute('height', height);\n",
       "\n",
       "            // And update the size in Python. We ignore the initial 0/0 size\n",
       "            // that occurs as the element is placed into the DOM, which should\n",
       "            // otherwise not happen due to the minimum size styling.\n",
       "            if (width != 0 && height != 0) {\n",
       "                fig.request_resize(width, height);\n",
       "            }\n",
       "        }\n",
       "    });\n",
       "    resizeObserver.observe(canvas_div);\n",
       "\n",
       "    function on_mouse_event_closure(name) {\n",
       "        return function (event) {\n",
       "            return fig.mouse_event(event, name);\n",
       "        };\n",
       "    }\n",
       "\n",
       "    rubberband_canvas.addEventListener(\n",
       "        'mousedown',\n",
       "        on_mouse_event_closure('button_press')\n",
       "    );\n",
       "    rubberband_canvas.addEventListener(\n",
       "        'mouseup',\n",
       "        on_mouse_event_closure('button_release')\n",
       "    );\n",
       "    // Throttle sequential mouse events to 1 every 20ms.\n",
       "    rubberband_canvas.addEventListener(\n",
       "        'mousemove',\n",
       "        on_mouse_event_closure('motion_notify')\n",
       "    );\n",
       "\n",
       "    rubberband_canvas.addEventListener(\n",
       "        'mouseenter',\n",
       "        on_mouse_event_closure('figure_enter')\n",
       "    );\n",
       "    rubberband_canvas.addEventListener(\n",
       "        'mouseleave',\n",
       "        on_mouse_event_closure('figure_leave')\n",
       "    );\n",
       "\n",
       "    canvas_div.addEventListener('wheel', function (event) {\n",
       "        if (event.deltaY < 0) {\n",
       "            event.step = 1;\n",
       "        } else {\n",
       "            event.step = -1;\n",
       "        }\n",
       "        on_mouse_event_closure('scroll')(event);\n",
       "    });\n",
       "\n",
       "    canvas_div.appendChild(canvas);\n",
       "    canvas_div.appendChild(rubberband_canvas);\n",
       "\n",
       "    this.rubberband_context = rubberband_canvas.getContext('2d');\n",
       "    this.rubberband_context.strokeStyle = '#000000';\n",
       "\n",
       "    this._resize_canvas = function (width, height, forward) {\n",
       "        if (forward) {\n",
       "            canvas_div.style.width = width + 'px';\n",
       "            canvas_div.style.height = height + 'px';\n",
       "        }\n",
       "    };\n",
       "\n",
       "    // Disable right mouse context menu.\n",
       "    this.rubberband_canvas.addEventListener('contextmenu', function (_e) {\n",
       "        event.preventDefault();\n",
       "        return false;\n",
       "    });\n",
       "\n",
       "    function set_focus() {\n",
       "        canvas.focus();\n",
       "        canvas_div.focus();\n",
       "    }\n",
       "\n",
       "    window.setTimeout(set_focus, 100);\n",
       "};\n",
       "\n",
       "mpl.figure.prototype._init_toolbar = function () {\n",
       "    var fig = this;\n",
       "\n",
       "    var toolbar = document.createElement('div');\n",
       "    toolbar.classList = 'mpl-toolbar';\n",
       "    this.root.appendChild(toolbar);\n",
       "\n",
       "    function on_click_closure(name) {\n",
       "        return function (_event) {\n",
       "            return fig.toolbar_button_onclick(name);\n",
       "        };\n",
       "    }\n",
       "\n",
       "    function on_mouseover_closure(tooltip) {\n",
       "        return function (event) {\n",
       "            if (!event.currentTarget.disabled) {\n",
       "                return fig.toolbar_button_onmouseover(tooltip);\n",
       "            }\n",
       "        };\n",
       "    }\n",
       "\n",
       "    fig.buttons = {};\n",
       "    var buttonGroup = document.createElement('div');\n",
       "    buttonGroup.classList = 'mpl-button-group';\n",
       "    for (var toolbar_ind in mpl.toolbar_items) {\n",
       "        var name = mpl.toolbar_items[toolbar_ind][0];\n",
       "        var tooltip = mpl.toolbar_items[toolbar_ind][1];\n",
       "        var image = mpl.toolbar_items[toolbar_ind][2];\n",
       "        var method_name = mpl.toolbar_items[toolbar_ind][3];\n",
       "\n",
       "        if (!name) {\n",
       "            /* Instead of a spacer, we start a new button group. */\n",
       "            if (buttonGroup.hasChildNodes()) {\n",
       "                toolbar.appendChild(buttonGroup);\n",
       "            }\n",
       "            buttonGroup = document.createElement('div');\n",
       "            buttonGroup.classList = 'mpl-button-group';\n",
       "            continue;\n",
       "        }\n",
       "\n",
       "        var button = (fig.buttons[name] = document.createElement('button'));\n",
       "        button.classList = 'mpl-widget';\n",
       "        button.setAttribute('role', 'button');\n",
       "        button.setAttribute('aria-disabled', 'false');\n",
       "        button.addEventListener('click', on_click_closure(method_name));\n",
       "        button.addEventListener('mouseover', on_mouseover_closure(tooltip));\n",
       "\n",
       "        var icon_img = document.createElement('img');\n",
       "        icon_img.src = '_images/' + image + '.png';\n",
       "        icon_img.srcset = '_images/' + image + '_large.png 2x';\n",
       "        icon_img.alt = tooltip;\n",
       "        button.appendChild(icon_img);\n",
       "\n",
       "        buttonGroup.appendChild(button);\n",
       "    }\n",
       "\n",
       "    if (buttonGroup.hasChildNodes()) {\n",
       "        toolbar.appendChild(buttonGroup);\n",
       "    }\n",
       "\n",
       "    var fmt_picker = document.createElement('select');\n",
       "    fmt_picker.classList = 'mpl-widget';\n",
       "    toolbar.appendChild(fmt_picker);\n",
       "    this.format_dropdown = fmt_picker;\n",
       "\n",
       "    for (var ind in mpl.extensions) {\n",
       "        var fmt = mpl.extensions[ind];\n",
       "        var option = document.createElement('option');\n",
       "        option.selected = fmt === mpl.default_extension;\n",
       "        option.innerHTML = fmt;\n",
       "        fmt_picker.appendChild(option);\n",
       "    }\n",
       "\n",
       "    var status_bar = document.createElement('span');\n",
       "    status_bar.classList = 'mpl-message';\n",
       "    toolbar.appendChild(status_bar);\n",
       "    this.message = status_bar;\n",
       "};\n",
       "\n",
       "mpl.figure.prototype.request_resize = function (x_pixels, y_pixels) {\n",
       "    // Request matplotlib to resize the figure. Matplotlib will then trigger a resize in the client,\n",
       "    // which will in turn request a refresh of the image.\n",
       "    this.send_message('resize', { width: x_pixels, height: y_pixels });\n",
       "};\n",
       "\n",
       "mpl.figure.prototype.send_message = function (type, properties) {\n",
       "    properties['type'] = type;\n",
       "    properties['figure_id'] = this.id;\n",
       "    this.ws.send(JSON.stringify(properties));\n",
       "};\n",
       "\n",
       "mpl.figure.prototype.send_draw_message = function () {\n",
       "    if (!this.waiting) {\n",
       "        this.waiting = true;\n",
       "        this.ws.send(JSON.stringify({ type: 'draw', figure_id: this.id }));\n",
       "    }\n",
       "};\n",
       "\n",
       "mpl.figure.prototype.handle_save = function (fig, _msg) {\n",
       "    var format_dropdown = fig.format_dropdown;\n",
       "    var format = format_dropdown.options[format_dropdown.selectedIndex].value;\n",
       "    fig.ondownload(fig, format);\n",
       "};\n",
       "\n",
       "mpl.figure.prototype.handle_resize = function (fig, msg) {\n",
       "    var size = msg['size'];\n",
       "    if (size[0] !== fig.canvas.width || size[1] !== fig.canvas.height) {\n",
       "        fig._resize_canvas(size[0], size[1], msg['forward']);\n",
       "        fig.send_message('refresh', {});\n",
       "    }\n",
       "};\n",
       "\n",
       "mpl.figure.prototype.handle_rubberband = function (fig, msg) {\n",
       "    var x0 = msg['x0'] / fig.ratio;\n",
       "    var y0 = (fig.canvas.height - msg['y0']) / fig.ratio;\n",
       "    var x1 = msg['x1'] / fig.ratio;\n",
       "    var y1 = (fig.canvas.height - msg['y1']) / fig.ratio;\n",
       "    x0 = Math.floor(x0) + 0.5;\n",
       "    y0 = Math.floor(y0) + 0.5;\n",
       "    x1 = Math.floor(x1) + 0.5;\n",
       "    y1 = Math.floor(y1) + 0.5;\n",
       "    var min_x = Math.min(x0, x1);\n",
       "    var min_y = Math.min(y0, y1);\n",
       "    var width = Math.abs(x1 - x0);\n",
       "    var height = Math.abs(y1 - y0);\n",
       "\n",
       "    fig.rubberband_context.clearRect(\n",
       "        0,\n",
       "        0,\n",
       "        fig.canvas.width / fig.ratio,\n",
       "        fig.canvas.height / fig.ratio\n",
       "    );\n",
       "\n",
       "    fig.rubberband_context.strokeRect(min_x, min_y, width, height);\n",
       "};\n",
       "\n",
       "mpl.figure.prototype.handle_figure_label = function (fig, msg) {\n",
       "    // Updates the figure title.\n",
       "    fig.header.textContent = msg['label'];\n",
       "};\n",
       "\n",
       "mpl.figure.prototype.handle_cursor = function (fig, msg) {\n",
       "    var cursor = msg['cursor'];\n",
       "    switch (cursor) {\n",
       "        case 0:\n",
       "            cursor = 'pointer';\n",
       "            break;\n",
       "        case 1:\n",
       "            cursor = 'default';\n",
       "            break;\n",
       "        case 2:\n",
       "            cursor = 'crosshair';\n",
       "            break;\n",
       "        case 3:\n",
       "            cursor = 'move';\n",
       "            break;\n",
       "    }\n",
       "    fig.rubberband_canvas.style.cursor = cursor;\n",
       "};\n",
       "\n",
       "mpl.figure.prototype.handle_message = function (fig, msg) {\n",
       "    fig.message.textContent = msg['message'];\n",
       "};\n",
       "\n",
       "mpl.figure.prototype.handle_draw = function (fig, _msg) {\n",
       "    // Request the server to send over a new figure.\n",
       "    fig.send_draw_message();\n",
       "};\n",
       "\n",
       "mpl.figure.prototype.handle_image_mode = function (fig, msg) {\n",
       "    fig.image_mode = msg['mode'];\n",
       "};\n",
       "\n",
       "mpl.figure.prototype.handle_history_buttons = function (fig, msg) {\n",
       "    for (var key in msg) {\n",
       "        if (!(key in fig.buttons)) {\n",
       "            continue;\n",
       "        }\n",
       "        fig.buttons[key].disabled = !msg[key];\n",
       "        fig.buttons[key].setAttribute('aria-disabled', !msg[key]);\n",
       "    }\n",
       "};\n",
       "\n",
       "mpl.figure.prototype.handle_navigate_mode = function (fig, msg) {\n",
       "    if (msg['mode'] === 'PAN') {\n",
       "        fig.buttons['Pan'].classList.add('active');\n",
       "        fig.buttons['Zoom'].classList.remove('active');\n",
       "    } else if (msg['mode'] === 'ZOOM') {\n",
       "        fig.buttons['Pan'].classList.remove('active');\n",
       "        fig.buttons['Zoom'].classList.add('active');\n",
       "    } else {\n",
       "        fig.buttons['Pan'].classList.remove('active');\n",
       "        fig.buttons['Zoom'].classList.remove('active');\n",
       "    }\n",
       "};\n",
       "\n",
       "mpl.figure.prototype.updated_canvas_event = function () {\n",
       "    // Called whenever the canvas gets updated.\n",
       "    this.send_message('ack', {});\n",
       "};\n",
       "\n",
       "// A function to construct a web socket function for onmessage handling.\n",
       "// Called in the figure constructor.\n",
       "mpl.figure.prototype._make_on_message_function = function (fig) {\n",
       "    return function socket_on_message(evt) {\n",
       "        if (evt.data instanceof Blob) {\n",
       "            /* FIXME: We get \"Resource interpreted as Image but\n",
       "             * transferred with MIME type text/plain:\" errors on\n",
       "             * Chrome.  But how to set the MIME type?  It doesn't seem\n",
       "             * to be part of the websocket stream */\n",
       "            evt.data.type = 'image/png';\n",
       "\n",
       "            /* Free the memory for the previous frames */\n",
       "            if (fig.imageObj.src) {\n",
       "                (window.URL || window.webkitURL).revokeObjectURL(\n",
       "                    fig.imageObj.src\n",
       "                );\n",
       "            }\n",
       "\n",
       "            fig.imageObj.src = (window.URL || window.webkitURL).createObjectURL(\n",
       "                evt.data\n",
       "            );\n",
       "            fig.updated_canvas_event();\n",
       "            fig.waiting = false;\n",
       "            return;\n",
       "        } else if (\n",
       "            typeof evt.data === 'string' &&\n",
       "            evt.data.slice(0, 21) === 'data:image/png;base64'\n",
       "        ) {\n",
       "            fig.imageObj.src = evt.data;\n",
       "            fig.updated_canvas_event();\n",
       "            fig.waiting = false;\n",
       "            return;\n",
       "        }\n",
       "\n",
       "        var msg = JSON.parse(evt.data);\n",
       "        var msg_type = msg['type'];\n",
       "\n",
       "        // Call the  \"handle_{type}\" callback, which takes\n",
       "        // the figure and JSON message as its only arguments.\n",
       "        try {\n",
       "            var callback = fig['handle_' + msg_type];\n",
       "        } catch (e) {\n",
       "            console.log(\n",
       "                \"No handler for the '\" + msg_type + \"' message type: \",\n",
       "                msg\n",
       "            );\n",
       "            return;\n",
       "        }\n",
       "\n",
       "        if (callback) {\n",
       "            try {\n",
       "                // console.log(\"Handling '\" + msg_type + \"' message: \", msg);\n",
       "                callback(fig, msg);\n",
       "            } catch (e) {\n",
       "                console.log(\n",
       "                    \"Exception inside the 'handler_\" + msg_type + \"' callback:\",\n",
       "                    e,\n",
       "                    e.stack,\n",
       "                    msg\n",
       "                );\n",
       "            }\n",
       "        }\n",
       "    };\n",
       "};\n",
       "\n",
       "// from http://stackoverflow.com/questions/1114465/getting-mouse-location-in-canvas\n",
       "mpl.findpos = function (e) {\n",
       "    //this section is from http://www.quirksmode.org/js/events_properties.html\n",
       "    var targ;\n",
       "    if (!e) {\n",
       "        e = window.event;\n",
       "    }\n",
       "    if (e.target) {\n",
       "        targ = e.target;\n",
       "    } else if (e.srcElement) {\n",
       "        targ = e.srcElement;\n",
       "    }\n",
       "    if (targ.nodeType === 3) {\n",
       "        // defeat Safari bug\n",
       "        targ = targ.parentNode;\n",
       "    }\n",
       "\n",
       "    // pageX,Y are the mouse positions relative to the document\n",
       "    var boundingRect = targ.getBoundingClientRect();\n",
       "    var x = e.pageX - (boundingRect.left + document.body.scrollLeft);\n",
       "    var y = e.pageY - (boundingRect.top + document.body.scrollTop);\n",
       "\n",
       "    return { x: x, y: y };\n",
       "};\n",
       "\n",
       "/*\n",
       " * return a copy of an object with only non-object keys\n",
       " * we need this to avoid circular references\n",
       " * http://stackoverflow.com/a/24161582/3208463\n",
       " */\n",
       "function simpleKeys(original) {\n",
       "    return Object.keys(original).reduce(function (obj, key) {\n",
       "        if (typeof original[key] !== 'object') {\n",
       "            obj[key] = original[key];\n",
       "        }\n",
       "        return obj;\n",
       "    }, {});\n",
       "}\n",
       "\n",
       "mpl.figure.prototype.mouse_event = function (event, name) {\n",
       "    var canvas_pos = mpl.findpos(event);\n",
       "\n",
       "    if (name === 'button_press') {\n",
       "        this.canvas.focus();\n",
       "        this.canvas_div.focus();\n",
       "    }\n",
       "\n",
       "    var x = canvas_pos.x * this.ratio;\n",
       "    var y = canvas_pos.y * this.ratio;\n",
       "\n",
       "    this.send_message(name, {\n",
       "        x: x,\n",
       "        y: y,\n",
       "        button: event.button,\n",
       "        step: event.step,\n",
       "        guiEvent: simpleKeys(event),\n",
       "    });\n",
       "\n",
       "    /* This prevents the web browser from automatically changing to\n",
       "     * the text insertion cursor when the button is pressed.  We want\n",
       "     * to control all of the cursor setting manually through the\n",
       "     * 'cursor' event from matplotlib */\n",
       "    event.preventDefault();\n",
       "    return false;\n",
       "};\n",
       "\n",
       "mpl.figure.prototype._key_event_extra = function (_event, _name) {\n",
       "    // Handle any extra behaviour associated with a key event\n",
       "};\n",
       "\n",
       "mpl.figure.prototype.key_event = function (event, name) {\n",
       "    // Prevent repeat events\n",
       "    if (name === 'key_press') {\n",
       "        if (event.which === this._key) {\n",
       "            return;\n",
       "        } else {\n",
       "            this._key = event.which;\n",
       "        }\n",
       "    }\n",
       "    if (name === 'key_release') {\n",
       "        this._key = null;\n",
       "    }\n",
       "\n",
       "    var value = '';\n",
       "    if (event.ctrlKey && event.which !== 17) {\n",
       "        value += 'ctrl+';\n",
       "    }\n",
       "    if (event.altKey && event.which !== 18) {\n",
       "        value += 'alt+';\n",
       "    }\n",
       "    if (event.shiftKey && event.which !== 16) {\n",
       "        value += 'shift+';\n",
       "    }\n",
       "\n",
       "    value += 'k';\n",
       "    value += event.which.toString();\n",
       "\n",
       "    this._key_event_extra(event, name);\n",
       "\n",
       "    this.send_message(name, { key: value, guiEvent: simpleKeys(event) });\n",
       "    return false;\n",
       "};\n",
       "\n",
       "mpl.figure.prototype.toolbar_button_onclick = function (name) {\n",
       "    if (name === 'download') {\n",
       "        this.handle_save(this, null);\n",
       "    } else {\n",
       "        this.send_message('toolbar_button', { name: name });\n",
       "    }\n",
       "};\n",
       "\n",
       "mpl.figure.prototype.toolbar_button_onmouseover = function (tooltip) {\n",
       "    this.message.textContent = tooltip;\n",
       "};\n",
       "mpl.toolbar_items = [[\"Home\", \"Reset original view\", \"fa fa-home icon-home\", \"home\"], [\"Back\", \"Back to previous view\", \"fa fa-arrow-left icon-arrow-left\", \"back\"], [\"Forward\", \"Forward to next view\", \"fa fa-arrow-right icon-arrow-right\", \"forward\"], [\"\", \"\", \"\", \"\"], [\"Pan\", \"Left button pans, Right button zooms\\nx/y fixes axis, CTRL fixes aspect\", \"fa fa-arrows icon-move\", \"pan\"], [\"Zoom\", \"Zoom to rectangle\\nx/y fixes axis, CTRL fixes aspect\", \"fa fa-square-o icon-check-empty\", \"zoom\"], [\"\", \"\", \"\", \"\"], [\"Download\", \"Download plot\", \"fa fa-floppy-o icon-save\", \"download\"]];\n",
       "\n",
       "mpl.extensions = [\"eps\", \"jpeg\", \"pdf\", \"png\", \"ps\", \"raw\", \"svg\", \"tif\"];\n",
       "\n",
       "mpl.default_extension = \"png\";/* global mpl */\n",
       "\n",
       "var comm_websocket_adapter = function (comm) {\n",
       "    // Create a \"websocket\"-like object which calls the given IPython comm\n",
       "    // object with the appropriate methods. Currently this is a non binary\n",
       "    // socket, so there is still some room for performance tuning.\n",
       "    var ws = {};\n",
       "\n",
       "    ws.close = function () {\n",
       "        comm.close();\n",
       "    };\n",
       "    ws.send = function (m) {\n",
       "        //console.log('sending', m);\n",
       "        comm.send(m);\n",
       "    };\n",
       "    // Register the callback with on_msg.\n",
       "    comm.on_msg(function (msg) {\n",
       "        //console.log('receiving', msg['content']['data'], msg);\n",
       "        // Pass the mpl event to the overridden (by mpl) onmessage function.\n",
       "        ws.onmessage(msg['content']['data']);\n",
       "    });\n",
       "    return ws;\n",
       "};\n",
       "\n",
       "mpl.mpl_figure_comm = function (comm, msg) {\n",
       "    // This is the function which gets called when the mpl process\n",
       "    // starts-up an IPython Comm through the \"matplotlib\" channel.\n",
       "\n",
       "    var id = msg.content.data.id;\n",
       "    // Get hold of the div created by the display call when the Comm\n",
       "    // socket was opened in Python.\n",
       "    var element = document.getElementById(id);\n",
       "    var ws_proxy = comm_websocket_adapter(comm);\n",
       "\n",
       "    function ondownload(figure, _format) {\n",
       "        window.open(figure.canvas.toDataURL());\n",
       "    }\n",
       "\n",
       "    var fig = new mpl.figure(id, ws_proxy, ondownload, element);\n",
       "\n",
       "    // Call onopen now - mpl needs it, as it is assuming we've passed it a real\n",
       "    // web socket which is closed, not our websocket->open comm proxy.\n",
       "    ws_proxy.onopen();\n",
       "\n",
       "    fig.parent_element = element;\n",
       "    fig.cell_info = mpl.find_output_cell(\"<div id='\" + id + \"'></div>\");\n",
       "    if (!fig.cell_info) {\n",
       "        console.error('Failed to find cell for figure', id, fig);\n",
       "        return;\n",
       "    }\n",
       "    fig.cell_info[0].output_area.element.one(\n",
       "        'cleared',\n",
       "        { fig: fig },\n",
       "        fig._remove_fig_handler\n",
       "    );\n",
       "};\n",
       "\n",
       "mpl.figure.prototype.handle_close = function (fig, msg) {\n",
       "    var width = fig.canvas.width / fig.ratio;\n",
       "    fig.cell_info[0].output_area.element.off(\n",
       "        'cleared',\n",
       "        fig._remove_fig_handler\n",
       "    );\n",
       "\n",
       "    // Update the output cell to use the data from the current canvas.\n",
       "    fig.push_to_output();\n",
       "    var dataURL = fig.canvas.toDataURL();\n",
       "    // Re-enable the keyboard manager in IPython - without this line, in FF,\n",
       "    // the notebook keyboard shortcuts fail.\n",
       "    IPython.keyboard_manager.enable();\n",
       "    fig.parent_element.innerHTML =\n",
       "        '<img src=\"' + dataURL + '\" width=\"' + width + '\">';\n",
       "    fig.close_ws(fig, msg);\n",
       "};\n",
       "\n",
       "mpl.figure.prototype.close_ws = function (fig, msg) {\n",
       "    fig.send_message('closing', msg);\n",
       "    // fig.ws.close()\n",
       "};\n",
       "\n",
       "mpl.figure.prototype.push_to_output = function (_remove_interactive) {\n",
       "    // Turn the data on the canvas into data in the output cell.\n",
       "    var width = this.canvas.width / this.ratio;\n",
       "    var dataURL = this.canvas.toDataURL();\n",
       "    this.cell_info[1]['text/html'] =\n",
       "        '<img src=\"' + dataURL + '\" width=\"' + width + '\">';\n",
       "};\n",
       "\n",
       "mpl.figure.prototype.updated_canvas_event = function () {\n",
       "    // Tell IPython that the notebook contents must change.\n",
       "    IPython.notebook.set_dirty(true);\n",
       "    this.send_message('ack', {});\n",
       "    var fig = this;\n",
       "    // Wait a second, then push the new image to the DOM so\n",
       "    // that it is saved nicely (might be nice to debounce this).\n",
       "    setTimeout(function () {\n",
       "        fig.push_to_output();\n",
       "    }, 1000);\n",
       "};\n",
       "\n",
       "mpl.figure.prototype._init_toolbar = function () {\n",
       "    var fig = this;\n",
       "\n",
       "    var toolbar = document.createElement('div');\n",
       "    toolbar.classList = 'btn-toolbar';\n",
       "    this.root.appendChild(toolbar);\n",
       "\n",
       "    function on_click_closure(name) {\n",
       "        return function (_event) {\n",
       "            return fig.toolbar_button_onclick(name);\n",
       "        };\n",
       "    }\n",
       "\n",
       "    function on_mouseover_closure(tooltip) {\n",
       "        return function (event) {\n",
       "            if (!event.currentTarget.disabled) {\n",
       "                return fig.toolbar_button_onmouseover(tooltip);\n",
       "            }\n",
       "        };\n",
       "    }\n",
       "\n",
       "    fig.buttons = {};\n",
       "    var buttonGroup = document.createElement('div');\n",
       "    buttonGroup.classList = 'btn-group';\n",
       "    var button;\n",
       "    for (var toolbar_ind in mpl.toolbar_items) {\n",
       "        var name = mpl.toolbar_items[toolbar_ind][0];\n",
       "        var tooltip = mpl.toolbar_items[toolbar_ind][1];\n",
       "        var image = mpl.toolbar_items[toolbar_ind][2];\n",
       "        var method_name = mpl.toolbar_items[toolbar_ind][3];\n",
       "\n",
       "        if (!name) {\n",
       "            /* Instead of a spacer, we start a new button group. */\n",
       "            if (buttonGroup.hasChildNodes()) {\n",
       "                toolbar.appendChild(buttonGroup);\n",
       "            }\n",
       "            buttonGroup = document.createElement('div');\n",
       "            buttonGroup.classList = 'btn-group';\n",
       "            continue;\n",
       "        }\n",
       "\n",
       "        button = fig.buttons[name] = document.createElement('button');\n",
       "        button.classList = 'btn btn-default';\n",
       "        button.href = '#';\n",
       "        button.title = name;\n",
       "        button.innerHTML = '<i class=\"fa ' + image + ' fa-lg\"></i>';\n",
       "        button.addEventListener('click', on_click_closure(method_name));\n",
       "        button.addEventListener('mouseover', on_mouseover_closure(tooltip));\n",
       "        buttonGroup.appendChild(button);\n",
       "    }\n",
       "\n",
       "    if (buttonGroup.hasChildNodes()) {\n",
       "        toolbar.appendChild(buttonGroup);\n",
       "    }\n",
       "\n",
       "    // Add the status bar.\n",
       "    var status_bar = document.createElement('span');\n",
       "    status_bar.classList = 'mpl-message pull-right';\n",
       "    toolbar.appendChild(status_bar);\n",
       "    this.message = status_bar;\n",
       "\n",
       "    // Add the close button to the window.\n",
       "    var buttongrp = document.createElement('div');\n",
       "    buttongrp.classList = 'btn-group inline pull-right';\n",
       "    button = document.createElement('button');\n",
       "    button.classList = 'btn btn-mini btn-primary';\n",
       "    button.href = '#';\n",
       "    button.title = 'Stop Interaction';\n",
       "    button.innerHTML = '<i class=\"fa fa-power-off icon-remove icon-large\"></i>';\n",
       "    button.addEventListener('click', function (_evt) {\n",
       "        fig.handle_close(fig, {});\n",
       "    });\n",
       "    button.addEventListener(\n",
       "        'mouseover',\n",
       "        on_mouseover_closure('Stop Interaction')\n",
       "    );\n",
       "    buttongrp.appendChild(button);\n",
       "    var titlebar = this.root.querySelector('.ui-dialog-titlebar');\n",
       "    titlebar.insertBefore(buttongrp, titlebar.firstChild);\n",
       "};\n",
       "\n",
       "mpl.figure.prototype._remove_fig_handler = function (event) {\n",
       "    var fig = event.data.fig;\n",
       "    fig.close_ws(fig, {});\n",
       "};\n",
       "\n",
       "mpl.figure.prototype._root_extra_style = function (el) {\n",
       "    el.style.boxSizing = 'content-box'; // override notebook setting of border-box.\n",
       "};\n",
       "\n",
       "mpl.figure.prototype._canvas_extra_style = function (el) {\n",
       "    // this is important to make the div 'focusable\n",
       "    el.setAttribute('tabindex', 0);\n",
       "    // reach out to IPython and tell the keyboard manager to turn it's self\n",
       "    // off when our div gets focus\n",
       "\n",
       "    // location in version 3\n",
       "    if (IPython.notebook.keyboard_manager) {\n",
       "        IPython.notebook.keyboard_manager.register_events(el);\n",
       "    } else {\n",
       "        // location in version 2\n",
       "        IPython.keyboard_manager.register_events(el);\n",
       "    }\n",
       "};\n",
       "\n",
       "mpl.figure.prototype._key_event_extra = function (event, _name) {\n",
       "    var manager = IPython.notebook.keyboard_manager;\n",
       "    if (!manager) {\n",
       "        manager = IPython.keyboard_manager;\n",
       "    }\n",
       "\n",
       "    // Check for shift+enter\n",
       "    if (event.shiftKey && event.which === 13) {\n",
       "        this.canvas_div.blur();\n",
       "        // select the cell after this one\n",
       "        var index = IPython.notebook.find_cell_index(this.cell_info[0]);\n",
       "        IPython.notebook.select(index + 1);\n",
       "    }\n",
       "};\n",
       "\n",
       "mpl.figure.prototype.handle_save = function (fig, _msg) {\n",
       "    fig.ondownload(fig, null);\n",
       "};\n",
       "\n",
       "mpl.find_output_cell = function (html_output) {\n",
       "    // Return the cell and output element which can be found *uniquely* in the notebook.\n",
       "    // Note - this is a bit hacky, but it is done because the \"notebook_saving.Notebook\"\n",
       "    // IPython event is triggered only after the cells have been serialised, which for\n",
       "    // our purposes (turning an active figure into a static one), is too late.\n",
       "    var cells = IPython.notebook.get_cells();\n",
       "    var ncells = cells.length;\n",
       "    for (var i = 0; i < ncells; i++) {\n",
       "        var cell = cells[i];\n",
       "        if (cell.cell_type === 'code') {\n",
       "            for (var j = 0; j < cell.output_area.outputs.length; j++) {\n",
       "                var data = cell.output_area.outputs[j];\n",
       "                if (data.data) {\n",
       "                    // IPython >= 3 moved mimebundle to data attribute of output\n",
       "                    data = data.data;\n",
       "                }\n",
       "                if (data['text/html'] === html_output) {\n",
       "                    return [cell, data, j];\n",
       "                }\n",
       "            }\n",
       "        }\n",
       "    }\n",
       "};\n",
       "\n",
       "// Register the function which deals with the matplotlib target/channel.\n",
       "// The kernel may be null if the page has been refreshed.\n",
       "if (IPython.notebook.kernel !== null) {\n",
       "    IPython.notebook.kernel.comm_manager.register_target(\n",
       "        'matplotlib',\n",
       "        mpl.mpl_figure_comm\n",
       "    );\n",
       "}\n"
      ],
      "text/plain": [
       "<IPython.core.display.Javascript object>"
      ]
     },
     "metadata": {},
     "output_type": "display_data"
    },
    {
     "data": {
      "text/html": [
       "<img src=\"data:image/png;base64,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\" width=\"640\">"
      ],
      "text/plain": [
       "<IPython.core.display.HTML object>"
      ]
     },
     "metadata": {},
     "output_type": "display_data"
    }
   ],
   "source": [
    "show(image_chm)\n",
    "plt.show()"
   ]
  },
  {
   "cell_type": "markdown",
   "id": "adolescent-blackberry",
   "metadata": {},
   "source": [
    "# plotly"
   ]
  },
  {
   "cell_type": "code",
   "execution_count": 39,
   "id": "sophisticated-honor",
   "metadata": {},
   "outputs": [],
   "source": [
    "import plotly.graph_objects as go"
   ]
  },
  {
   "cell_type": "code",
   "execution_count": 40,
   "id": "typical-exemption",
   "metadata": {},
   "outputs": [],
   "source": [
    "%matplotlib notebook"
   ]
  },
  {
   "cell_type": "code",
   "execution_count": 41,
   "id": "alpha-radical",
   "metadata": {},
   "outputs": [
    {
     "data": {
      "text/html": [
       "        <script type=\"text/javascript\">\n",
       "        window.PlotlyConfig = {MathJaxConfig: 'local'};\n",
       "        if (window.MathJax) {MathJax.Hub.Config({SVG: {font: \"STIX-Web\"}});}\n",
       "        if (typeof require !== 'undefined') {\n",
       "        require.undef(\"plotly\");\n",
       "        requirejs.config({\n",
       "            paths: {\n",
       "                'plotly': ['https://cdn.plot.ly/plotly-latest.min']\n",
       "            }\n",
       "        });\n",
       "        require(['plotly'], function(Plotly) {\n",
       "            window._Plotly = Plotly;\n",
       "        });\n",
       "        }\n",
       "        </script>\n",
       "        "
      ]
     },
     "metadata": {},
     "output_type": "display_data"
    }
   ],
   "source": [
    "plotly.offline.init_notebook_mode (connected = True)"
   ]
  },
  {
   "cell_type": "code",
   "execution_count": 63,
   "id": "lucky-crystal",
   "metadata": {},
   "outputs": [
    {
     "data": {
      "application/vnd.plotly.v1+json": {
       "config": {
        "plotlyServerURL": "https://plot.ly"
       },
       "data": [
        {
         "type": "surface",
         "z": [
          [
           [
            0,
            0,
            0,
            0,
            0,
            0,
            0,
            0,
            0,
            0,
            0,
            0,
            0,
            0,
            0,
            0,
            0,
            0
           ],
           [
            0,
            0,
            0,
            0,
            0,
            0,
            0,
            0,
            0,
            0,
            0,
            -4.229999542236328,
            0,
            0,
            0,
            0,
            0,
            0
           ],
           [
            0,
            0,
            0,
            0,
            0,
            0,
            0,
            0,
            0,
            -4.539997100830078,
            -2.990001678466797,
            -4.430000305175781,
            0,
            0,
            0,
            0,
            0,
            0
           ],
           [
            0,
            0,
            0,
            0,
            0,
            0,
            0,
            -2.220001220703125,
            -4.400001525878906,
            -4.4199981689453125,
            -4.430000305175781,
            -4.529998779296875,
            -5.729999542236328,
            0,
            0,
            0,
            0,
            0
           ],
           [
            0,
            0,
            0,
            0,
            -4.1100006103515625,
            -1.0800018310546875,
            -4.400798797607422,
            -4.383903503417969,
            -4.380001068115234,
            -4.400001525878906,
            -4.380001068115234,
            -4.3899993896484375,
            -4.560001373291016,
            0,
            0,
            0,
            0,
            0
           ],
           [
            0,
            0,
            0,
            -4.359996795654297,
            -4.340000152587891,
            -4.3759307861328125,
            -4.3815460205078125,
            -4.374904632568359,
            -4.399211883544922,
            -4.4004974365234375,
            -4.405925750732422,
            -4.410224914550781,
            -4.4199981689453125,
            -4.270000457763672,
            0,
            0,
            0,
            0
           ],
           [
            0,
            0,
            0,
            -4.420001983642578,
            -4.358314514160156,
            -4.377475738525391,
            -4.389202117919922,
            -4.3754119873046875,
            -4.415744781494141,
            -4.415561676025391,
            -4.4285888671875,
            -4.434612274169922,
            -4.444313049316406,
            -4.479961395263672,
            0,
            0,
            0,
            0
           ],
           [
            0,
            0,
            0,
            0,
            -5.569915771484375,
            -5.495918273925781,
            -5.9999542236328125,
            -5.936859130859375,
            -5.936000823974609,
            -6.0280303955078125,
            -5.998111724853516,
            -6.137363433837891,
            -6.157314300537109,
            -6.225017547607422,
            -6.296062469482422,
            -5.8000030517578125,
            -6.370002746582031,
            0
           ],
           [
            0,
            -6.329998016357422,
            -6.343250274658203,
            -6.380954742431641,
            -6.419231414794922,
            -6.419578552246094,
            -6.464084625244141,
            -6.49371337890625,
            -6.4992523193359375,
            -6.540241241455078,
            -6.5789337158203125,
            -6.616619110107422,
            -6.671428680419922,
            -6.698719024658203,
            -6.752128601074219,
            -6.790000915527344,
            -6.810001373291016,
            0
           ],
           [
            0,
            -6.819999694824219,
            -6.8452911376953125,
            -6.853702545166016,
            -6.8779754638671875,
            -6.905834197998047,
            -6.92730712890625,
            -6.982913970947266,
            -6.987606048583984,
            -7.050380706787109,
            -7.0531005859375,
            -7.099636077880859,
            -7.126319885253906,
            -7.143856048583984,
            -7.2006988525390625,
            -7.270000457763672,
            -7.3300018310546875,
            0
           ],
           [
            0,
            -7.290000915527344,
            -7.326549530029297,
            -7.376453399658203,
            -7.345882415771484,
            -7.391712188720703,
            -7.412952423095703,
            -7.446048736572266,
            -7.4481964111328125,
            -7.472248077392578,
            -7.491935729980469,
            -7.530422210693359,
            -7.535057067871094,
            -7.581897735595703,
            -7.6100006103515625,
            -7.709999084472656,
            -7.790000915527344,
            0
           ],
           [
            0,
            -7.789207458496094,
            -7.794281005859375,
            -7.851387023925781,
            -7.8396148681640625,
            -7.853614807128906,
            -7.885932922363281,
            -7.918987274169922,
            -7.9381256103515625,
            -7.941684722900391,
            -7.950008392333984,
            -7.986385345458984,
            -8.019519805908203,
            -8.041961669921875,
            -8.069999694824219,
            -8.189998626708984,
            -8.21999740600586,
            0
           ],
           [
            0,
            -8.220001220703125,
            -8.214286804199219,
            -8.159564971923828,
            -8.152679443359375,
            -8.067935943603516,
            -8.068889617919922,
            -8.698909759521484,
            -7.993743896484375,
            -7.897571563720703,
            -7.885993957519531,
            -7.852745056152344,
            -7.804363250732422,
            -7.741310119628906,
            -7.760002136230469,
            -7.790000915527344,
            -7.779998779296875,
            0
           ],
           [
            0,
            -7.789997100830078,
            -7.729999542236328,
            -7.676933288574219,
            -7.678134918212891,
            -7.624256134033203,
            -7.600105285644531,
            -7.551750183105469,
            -7.475414276123047,
            -7.481555938720703,
            -7.40142822265625,
            -7.345539093017578,
            -7.310253143310547,
            -7.299465179443359,
            -7.280002593994141,
            -7.289997100830078,
            -7.30999755859375,
            0
           ],
           [
            0,
            -4.630001068115234,
            -7.220001220703125,
            -7.180000305175781,
            -7.180000305175781,
            -7.144298553466797,
            -7.121517181396484,
            -7.076366424560547,
            -7.054492950439453,
            -6.989566802978516,
            -6.939884185791016,
            -6.884647369384766,
            -6.843299865722656,
            -6.7920074462890625,
            -6.780002593994141,
            -6.80999755859375,
            -6.779998779296875,
            0
           ],
           [
            0,
            -3,
            -6.779998779296875,
            -6.659999847412109,
            -6.6699981689453125,
            -6.700000762939453,
            -6.639499664306641,
            -6.591865539550781,
            -6.567474365234375,
            -6.504451751708984,
            -6.5022125244140625,
            -6.396522521972656,
            -6.359394073486328,
            -6.280002593994141,
            -6.340000152587891,
            -6.3300018310546875,
            -6.319999694824219,
            0
           ],
           [
            0,
            0,
            -6.270000457763672,
            -6.209999084472656,
            -6.130001068115234,
            -6.150001525878906,
            -6.099998474121094,
            -6.119998931884766,
            -5.608257293701172,
            -5.953895568847656,
            -5.957191467285156,
            -5.7306671142578125,
            -5.750465393066406,
            -5.219997406005859,
            -0.5600013732910156,
            0,
            -1.7300033569335938,
            0
           ],
           [
            0,
            0,
            0,
            0,
            0,
            0,
            0,
            0,
            0,
            0,
            0,
            0,
            0,
            0,
            0,
            0,
            0,
            0
           ]
          ]
         ]
        }
       ],
       "layout": {
        "autosize": true,
        "template": {
         "data": {
          "bar": [
           {
            "error_x": {
             "color": "#2a3f5f"
            },
            "error_y": {
             "color": "#2a3f5f"
            },
            "marker": {
             "line": {
              "color": "#E5ECF6",
              "width": 0.5
             }
            },
            "type": "bar"
           }
          ],
          "barpolar": [
           {
            "marker": {
             "line": {
              "color": "#E5ECF6",
              "width": 0.5
             }
            },
            "type": "barpolar"
           }
          ],
          "carpet": [
           {
            "aaxis": {
             "endlinecolor": "#2a3f5f",
             "gridcolor": "white",
             "linecolor": "white",
             "minorgridcolor": "white",
             "startlinecolor": "#2a3f5f"
            },
            "baxis": {
             "endlinecolor": "#2a3f5f",
             "gridcolor": "white",
             "linecolor": "white",
             "minorgridcolor": "white",
             "startlinecolor": "#2a3f5f"
            },
            "type": "carpet"
           }
          ],
          "choropleth": [
           {
            "colorbar": {
             "outlinewidth": 0,
             "ticks": ""
            },
            "type": "choropleth"
           }
          ],
          "contour": [
           {
            "colorbar": {
             "outlinewidth": 0,
             "ticks": ""
            },
            "colorscale": [
             [
              0,
              "#0d0887"
             ],
             [
              0.1111111111111111,
              "#46039f"
             ],
             [
              0.2222222222222222,
              "#7201a8"
             ],
             [
              0.3333333333333333,
              "#9c179e"
             ],
             [
              0.4444444444444444,
              "#bd3786"
             ],
             [
              0.5555555555555556,
              "#d8576b"
             ],
             [
              0.6666666666666666,
              "#ed7953"
             ],
             [
              0.7777777777777778,
              "#fb9f3a"
             ],
             [
              0.8888888888888888,
              "#fdca26"
             ],
             [
              1,
              "#f0f921"
             ]
            ],
            "type": "contour"
           }
          ],
          "contourcarpet": [
           {
            "colorbar": {
             "outlinewidth": 0,
             "ticks": ""
            },
            "type": "contourcarpet"
           }
          ],
          "heatmap": [
           {
            "colorbar": {
             "outlinewidth": 0,
             "ticks": ""
            },
            "colorscale": [
             [
              0,
              "#0d0887"
             ],
             [
              0.1111111111111111,
              "#46039f"
             ],
             [
              0.2222222222222222,
              "#7201a8"
             ],
             [
              0.3333333333333333,
              "#9c179e"
             ],
             [
              0.4444444444444444,
              "#bd3786"
             ],
             [
              0.5555555555555556,
              "#d8576b"
             ],
             [
              0.6666666666666666,
              "#ed7953"
             ],
             [
              0.7777777777777778,
              "#fb9f3a"
             ],
             [
              0.8888888888888888,
              "#fdca26"
             ],
             [
              1,
              "#f0f921"
             ]
            ],
            "type": "heatmap"
           }
          ],
          "heatmapgl": [
           {
            "colorbar": {
             "outlinewidth": 0,
             "ticks": ""
            },
            "colorscale": [
             [
              0,
              "#0d0887"
             ],
             [
              0.1111111111111111,
              "#46039f"
             ],
             [
              0.2222222222222222,
              "#7201a8"
             ],
             [
              0.3333333333333333,
              "#9c179e"
             ],
             [
              0.4444444444444444,
              "#bd3786"
             ],
             [
              0.5555555555555556,
              "#d8576b"
             ],
             [
              0.6666666666666666,
              "#ed7953"
             ],
             [
              0.7777777777777778,
              "#fb9f3a"
             ],
             [
              0.8888888888888888,
              "#fdca26"
             ],
             [
              1,
              "#f0f921"
             ]
            ],
            "type": "heatmapgl"
           }
          ],
          "histogram": [
           {
            "marker": {
             "colorbar": {
              "outlinewidth": 0,
              "ticks": ""
             }
            },
            "type": "histogram"
           }
          ],
          "histogram2d": [
           {
            "colorbar": {
             "outlinewidth": 0,
             "ticks": ""
            },
            "colorscale": [
             [
              0,
              "#0d0887"
             ],
             [
              0.1111111111111111,
              "#46039f"
             ],
             [
              0.2222222222222222,
              "#7201a8"
             ],
             [
              0.3333333333333333,
              "#9c179e"
             ],
             [
              0.4444444444444444,
              "#bd3786"
             ],
             [
              0.5555555555555556,
              "#d8576b"
             ],
             [
              0.6666666666666666,
              "#ed7953"
             ],
             [
              0.7777777777777778,
              "#fb9f3a"
             ],
             [
              0.8888888888888888,
              "#fdca26"
             ],
             [
              1,
              "#f0f921"
             ]
            ],
            "type": "histogram2d"
           }
          ],
          "histogram2dcontour": [
           {
            "colorbar": {
             "outlinewidth": 0,
             "ticks": ""
            },
            "colorscale": [
             [
              0,
              "#0d0887"
             ],
             [
              0.1111111111111111,
              "#46039f"
             ],
             [
              0.2222222222222222,
              "#7201a8"
             ],
             [
              0.3333333333333333,
              "#9c179e"
             ],
             [
              0.4444444444444444,
              "#bd3786"
             ],
             [
              0.5555555555555556,
              "#d8576b"
             ],
             [
              0.6666666666666666,
              "#ed7953"
             ],
             [
              0.7777777777777778,
              "#fb9f3a"
             ],
             [
              0.8888888888888888,
              "#fdca26"
             ],
             [
              1,
              "#f0f921"
             ]
            ],
            "type": "histogram2dcontour"
           }
          ],
          "mesh3d": [
           {
            "colorbar": {
             "outlinewidth": 0,
             "ticks": ""
            },
            "type": "mesh3d"
           }
          ],
          "parcoords": [
           {
            "line": {
             "colorbar": {
              "outlinewidth": 0,
              "ticks": ""
             }
            },
            "type": "parcoords"
           }
          ],
          "pie": [
           {
            "automargin": true,
            "type": "pie"
           }
          ],
          "scatter": [
           {
            "marker": {
             "colorbar": {
              "outlinewidth": 0,
              "ticks": ""
             }
            },
            "type": "scatter"
           }
          ],
          "scatter3d": [
           {
            "line": {
             "colorbar": {
              "outlinewidth": 0,
              "ticks": ""
             }
            },
            "marker": {
             "colorbar": {
              "outlinewidth": 0,
              "ticks": ""
             }
            },
            "type": "scatter3d"
           }
          ],
          "scattercarpet": [
           {
            "marker": {
             "colorbar": {
              "outlinewidth": 0,
              "ticks": ""
             }
            },
            "type": "scattercarpet"
           }
          ],
          "scattergeo": [
           {
            "marker": {
             "colorbar": {
              "outlinewidth": 0,
              "ticks": ""
             }
            },
            "type": "scattergeo"
           }
          ],
          "scattergl": [
           {
            "marker": {
             "colorbar": {
              "outlinewidth": 0,
              "ticks": ""
             }
            },
            "type": "scattergl"
           }
          ],
          "scattermapbox": [
           {
            "marker": {
             "colorbar": {
              "outlinewidth": 0,
              "ticks": ""
             }
            },
            "type": "scattermapbox"
           }
          ],
          "scatterpolar": [
           {
            "marker": {
             "colorbar": {
              "outlinewidth": 0,
              "ticks": ""
             }
            },
            "type": "scatterpolar"
           }
          ],
          "scatterpolargl": [
           {
            "marker": {
             "colorbar": {
              "outlinewidth": 0,
              "ticks": ""
             }
            },
            "type": "scatterpolargl"
           }
          ],
          "scatterternary": [
           {
            "marker": {
             "colorbar": {
              "outlinewidth": 0,
              "ticks": ""
             }
            },
            "type": "scatterternary"
           }
          ],
          "surface": [
           {
            "colorbar": {
             "outlinewidth": 0,
             "ticks": ""
            },
            "colorscale": [
             [
              0,
              "#0d0887"
             ],
             [
              0.1111111111111111,
              "#46039f"
             ],
             [
              0.2222222222222222,
              "#7201a8"
             ],
             [
              0.3333333333333333,
              "#9c179e"
             ],
             [
              0.4444444444444444,
              "#bd3786"
             ],
             [
              0.5555555555555556,
              "#d8576b"
             ],
             [
              0.6666666666666666,
              "#ed7953"
             ],
             [
              0.7777777777777778,
              "#fb9f3a"
             ],
             [
              0.8888888888888888,
              "#fdca26"
             ],
             [
              1,
              "#f0f921"
             ]
            ],
            "type": "surface"
           }
          ],
          "table": [
           {
            "cells": {
             "fill": {
              "color": "#EBF0F8"
             },
             "line": {
              "color": "white"
             }
            },
            "header": {
             "fill": {
              "color": "#C8D4E3"
             },
             "line": {
              "color": "white"
             }
            },
            "type": "table"
           }
          ]
         },
         "layout": {
          "annotationdefaults": {
           "arrowcolor": "#2a3f5f",
           "arrowhead": 0,
           "arrowwidth": 1
          },
          "autotypenumbers": "strict",
          "coloraxis": {
           "colorbar": {
            "outlinewidth": 0,
            "ticks": ""
           }
          },
          "colorscale": {
           "diverging": [
            [
             0,
             "#8e0152"
            ],
            [
             0.1,
             "#c51b7d"
            ],
            [
             0.2,
             "#de77ae"
            ],
            [
             0.3,
             "#f1b6da"
            ],
            [
             0.4,
             "#fde0ef"
            ],
            [
             0.5,
             "#f7f7f7"
            ],
            [
             0.6,
             "#e6f5d0"
            ],
            [
             0.7,
             "#b8e186"
            ],
            [
             0.8,
             "#7fbc41"
            ],
            [
             0.9,
             "#4d9221"
            ],
            [
             1,
             "#276419"
            ]
           ],
           "sequential": [
            [
             0,
             "#0d0887"
            ],
            [
             0.1111111111111111,
             "#46039f"
            ],
            [
             0.2222222222222222,
             "#7201a8"
            ],
            [
             0.3333333333333333,
             "#9c179e"
            ],
            [
             0.4444444444444444,
             "#bd3786"
            ],
            [
             0.5555555555555556,
             "#d8576b"
            ],
            [
             0.6666666666666666,
             "#ed7953"
            ],
            [
             0.7777777777777778,
             "#fb9f3a"
            ],
            [
             0.8888888888888888,
             "#fdca26"
            ],
            [
             1,
             "#f0f921"
            ]
           ],
           "sequentialminus": [
            [
             0,
             "#0d0887"
            ],
            [
             0.1111111111111111,
             "#46039f"
            ],
            [
             0.2222222222222222,
             "#7201a8"
            ],
            [
             0.3333333333333333,
             "#9c179e"
            ],
            [
             0.4444444444444444,
             "#bd3786"
            ],
            [
             0.5555555555555556,
             "#d8576b"
            ],
            [
             0.6666666666666666,
             "#ed7953"
            ],
            [
             0.7777777777777778,
             "#fb9f3a"
            ],
            [
             0.8888888888888888,
             "#fdca26"
            ],
            [
             1,
             "#f0f921"
            ]
           ]
          },
          "colorway": [
           "#636efa",
           "#EF553B",
           "#00cc96",
           "#ab63fa",
           "#FFA15A",
           "#19d3f3",
           "#FF6692",
           "#B6E880",
           "#FF97FF",
           "#FECB52"
          ],
          "font": {
           "color": "#2a3f5f"
          },
          "geo": {
           "bgcolor": "white",
           "lakecolor": "white",
           "landcolor": "#E5ECF6",
           "showlakes": true,
           "showland": true,
           "subunitcolor": "white"
          },
          "hoverlabel": {
           "align": "left"
          },
          "hovermode": "closest",
          "mapbox": {
           "style": "light"
          },
          "paper_bgcolor": "white",
          "plot_bgcolor": "#E5ECF6",
          "polar": {
           "angularaxis": {
            "gridcolor": "white",
            "linecolor": "white",
            "ticks": ""
           },
           "bgcolor": "#E5ECF6",
           "radialaxis": {
            "gridcolor": "white",
            "linecolor": "white",
            "ticks": ""
           }
          },
          "scene": {
           "xaxis": {
            "backgroundcolor": "#E5ECF6",
            "gridcolor": "white",
            "gridwidth": 2,
            "linecolor": "white",
            "showbackground": true,
            "ticks": "",
            "zerolinecolor": "white"
           },
           "yaxis": {
            "backgroundcolor": "#E5ECF6",
            "gridcolor": "white",
            "gridwidth": 2,
            "linecolor": "white",
            "showbackground": true,
            "ticks": "",
            "zerolinecolor": "white"
           },
           "zaxis": {
            "backgroundcolor": "#E5ECF6",
            "gridcolor": "white",
            "gridwidth": 2,
            "linecolor": "white",
            "showbackground": true,
            "ticks": "",
            "zerolinecolor": "white"
           }
          },
          "shapedefaults": {
           "line": {
            "color": "#2a3f5f"
           }
          },
          "ternary": {
           "aaxis": {
            "gridcolor": "white",
            "linecolor": "white",
            "ticks": ""
           },
           "baxis": {
            "gridcolor": "white",
            "linecolor": "white",
            "ticks": ""
           },
           "bgcolor": "#E5ECF6",
           "caxis": {
            "gridcolor": "white",
            "linecolor": "white",
            "ticks": ""
           }
          },
          "title": {
           "x": 0.05
          },
          "xaxis": {
           "automargin": true,
           "gridcolor": "white",
           "linecolor": "white",
           "ticks": "",
           "title": {
            "standoff": 15
           },
           "zerolinecolor": "white",
           "zerolinewidth": 2
          },
          "yaxis": {
           "automargin": true,
           "gridcolor": "white",
           "linecolor": "white",
           "ticks": "",
           "title": {
            "standoff": 15
           },
           "zerolinecolor": "white",
           "zerolinewidth": 2
          }
         }
        },
        "title": {
         "text": "Mt Bruno Elevation"
        }
       }
      },
      "text/html": [
       "<div>                            <div id=\"47d466fe-879e-4076-819f-13a4996709fe\" class=\"plotly-graph-div\" style=\"height:525px; width:100%;\"></div>            <script type=\"text/javascript\">                require([\"plotly\"], function(Plotly) {                    window.PLOTLYENV=window.PLOTLYENV || {};                                    if (document.getElementById(\"47d466fe-879e-4076-819f-13a4996709fe\")) {                    Plotly.newPlot(                        \"47d466fe-879e-4076-819f-13a4996709fe\",                        [{\"type\": \"surface\", \"z\": [[[0.0, 0.0, 0.0, 0.0, 0.0, 0.0, 0.0, 0.0, 0.0, 0.0, 0.0, 0.0, 0.0, 0.0, 0.0, 0.0, 0.0, 0.0], [0.0, 0.0, 0.0, 0.0, 0.0, 0.0, 0.0, 0.0, 0.0, 0.0, 0.0, -4.229999542236328, 0.0, 0.0, 0.0, 0.0, 0.0, 0.0], [0.0, 0.0, 0.0, 0.0, 0.0, 0.0, 0.0, 0.0, 0.0, -4.539997100830078, -2.990001678466797, -4.430000305175781, 0.0, 0.0, 0.0, 0.0, 0.0, 0.0], [0.0, 0.0, 0.0, 0.0, 0.0, 0.0, 0.0, -2.220001220703125, -4.400001525878906, -4.4199981689453125, -4.430000305175781, -4.529998779296875, -5.729999542236328, 0.0, 0.0, 0.0, 0.0, 0.0], [0.0, 0.0, 0.0, 0.0, -4.1100006103515625, -1.0800018310546875, -4.400798797607422, -4.383903503417969, -4.380001068115234, -4.400001525878906, -4.380001068115234, -4.3899993896484375, -4.560001373291016, 0.0, 0.0, 0.0, 0.0, 0.0], [0.0, 0.0, 0.0, -4.359996795654297, -4.340000152587891, -4.3759307861328125, -4.3815460205078125, -4.374904632568359, -4.399211883544922, -4.4004974365234375, -4.405925750732422, -4.410224914550781, -4.4199981689453125, -4.270000457763672, 0.0, 0.0, 0.0, 0.0], [0.0, 0.0, 0.0, -4.420001983642578, -4.358314514160156, -4.377475738525391, -4.389202117919922, -4.3754119873046875, -4.415744781494141, -4.415561676025391, -4.4285888671875, -4.434612274169922, -4.444313049316406, -4.479961395263672, 0.0, 0.0, 0.0, 0.0], [0.0, 0.0, 0.0, 0.0, -5.569915771484375, -5.495918273925781, -5.9999542236328125, -5.936859130859375, -5.936000823974609, -6.0280303955078125, -5.998111724853516, -6.137363433837891, -6.157314300537109, -6.225017547607422, -6.296062469482422, -5.8000030517578125, -6.370002746582031, 0.0], [0.0, -6.329998016357422, -6.343250274658203, -6.380954742431641, -6.419231414794922, -6.419578552246094, -6.464084625244141, -6.49371337890625, -6.4992523193359375, -6.540241241455078, -6.5789337158203125, -6.616619110107422, -6.671428680419922, -6.698719024658203, -6.752128601074219, -6.790000915527344, -6.810001373291016, 0.0], [0.0, -6.819999694824219, -6.8452911376953125, -6.853702545166016, -6.8779754638671875, -6.905834197998047, -6.92730712890625, -6.982913970947266, -6.987606048583984, -7.050380706787109, -7.0531005859375, -7.099636077880859, -7.126319885253906, -7.143856048583984, -7.2006988525390625, -7.270000457763672, -7.3300018310546875, 0.0], [0.0, -7.290000915527344, -7.326549530029297, -7.376453399658203, -7.345882415771484, -7.391712188720703, -7.412952423095703, -7.446048736572266, -7.4481964111328125, -7.472248077392578, -7.491935729980469, -7.530422210693359, -7.535057067871094, -7.581897735595703, -7.6100006103515625, -7.709999084472656, -7.790000915527344, 0.0], [0.0, -7.789207458496094, -7.794281005859375, -7.851387023925781, -7.8396148681640625, -7.853614807128906, -7.885932922363281, -7.918987274169922, -7.9381256103515625, -7.941684722900391, -7.950008392333984, -7.986385345458984, -8.019519805908203, -8.041961669921875, -8.069999694824219, -8.189998626708984, -8.21999740600586, 0.0], [0.0, -8.220001220703125, -8.214286804199219, -8.159564971923828, -8.152679443359375, -8.067935943603516, -8.068889617919922, -8.698909759521484, -7.993743896484375, -7.897571563720703, -7.885993957519531, -7.852745056152344, -7.804363250732422, -7.741310119628906, -7.760002136230469, -7.790000915527344, -7.779998779296875, 0.0], [0.0, -7.789997100830078, -7.729999542236328, -7.676933288574219, -7.678134918212891, -7.624256134033203, -7.600105285644531, -7.551750183105469, -7.475414276123047, -7.481555938720703, -7.40142822265625, -7.345539093017578, -7.310253143310547, -7.299465179443359, -7.280002593994141, -7.289997100830078, -7.30999755859375, 0.0], [0.0, -4.630001068115234, -7.220001220703125, -7.180000305175781, -7.180000305175781, -7.144298553466797, -7.121517181396484, -7.076366424560547, -7.054492950439453, -6.989566802978516, -6.939884185791016, -6.884647369384766, -6.843299865722656, -6.7920074462890625, -6.780002593994141, -6.80999755859375, -6.779998779296875, 0.0], [0.0, -3.0, -6.779998779296875, -6.659999847412109, -6.6699981689453125, -6.700000762939453, -6.639499664306641, -6.591865539550781, -6.567474365234375, -6.504451751708984, -6.5022125244140625, -6.396522521972656, -6.359394073486328, -6.280002593994141, -6.340000152587891, -6.3300018310546875, -6.319999694824219, 0.0], [0.0, 0.0, -6.270000457763672, -6.209999084472656, -6.130001068115234, -6.150001525878906, -6.099998474121094, -6.119998931884766, -5.608257293701172, -5.953895568847656, -5.957191467285156, -5.7306671142578125, -5.750465393066406, -5.219997406005859, -0.5600013732910156, 0.0, -1.7300033569335938, 0.0], [0.0, 0.0, 0.0, 0.0, 0.0, 0.0, 0.0, 0.0, 0.0, 0.0, 0.0, 0.0, 0.0, 0.0, 0.0, 0.0, 0.0, 0.0]]]}],                        {\"autosize\": true, \"template\": {\"data\": {\"bar\": [{\"error_x\": {\"color\": \"#2a3f5f\"}, \"error_y\": {\"color\": \"#2a3f5f\"}, \"marker\": {\"line\": {\"color\": \"#E5ECF6\", \"width\": 0.5}}, \"type\": \"bar\"}], \"barpolar\": [{\"marker\": {\"line\": {\"color\": \"#E5ECF6\", \"width\": 0.5}}, \"type\": \"barpolar\"}], \"carpet\": [{\"aaxis\": {\"endlinecolor\": \"#2a3f5f\", \"gridcolor\": \"white\", \"linecolor\": \"white\", \"minorgridcolor\": \"white\", \"startlinecolor\": \"#2a3f5f\"}, \"baxis\": {\"endlinecolor\": \"#2a3f5f\", \"gridcolor\": \"white\", \"linecolor\": \"white\", \"minorgridcolor\": \"white\", \"startlinecolor\": \"#2a3f5f\"}, \"type\": \"carpet\"}], \"choropleth\": [{\"colorbar\": {\"outlinewidth\": 0, \"ticks\": \"\"}, \"type\": \"choropleth\"}], \"contour\": [{\"colorbar\": {\"outlinewidth\": 0, \"ticks\": \"\"}, \"colorscale\": [[0.0, \"#0d0887\"], [0.1111111111111111, \"#46039f\"], [0.2222222222222222, \"#7201a8\"], [0.3333333333333333, \"#9c179e\"], [0.4444444444444444, \"#bd3786\"], [0.5555555555555556, \"#d8576b\"], [0.6666666666666666, \"#ed7953\"], [0.7777777777777778, \"#fb9f3a\"], [0.8888888888888888, \"#fdca26\"], [1.0, \"#f0f921\"]], \"type\": \"contour\"}], \"contourcarpet\": [{\"colorbar\": {\"outlinewidth\": 0, \"ticks\": \"\"}, \"type\": \"contourcarpet\"}], \"heatmap\": [{\"colorbar\": {\"outlinewidth\": 0, \"ticks\": \"\"}, \"colorscale\": [[0.0, \"#0d0887\"], [0.1111111111111111, \"#46039f\"], [0.2222222222222222, \"#7201a8\"], [0.3333333333333333, \"#9c179e\"], [0.4444444444444444, \"#bd3786\"], [0.5555555555555556, \"#d8576b\"], [0.6666666666666666, \"#ed7953\"], [0.7777777777777778, \"#fb9f3a\"], [0.8888888888888888, \"#fdca26\"], [1.0, \"#f0f921\"]], \"type\": \"heatmap\"}], \"heatmapgl\": [{\"colorbar\": {\"outlinewidth\": 0, \"ticks\": \"\"}, \"colorscale\": [[0.0, \"#0d0887\"], [0.1111111111111111, \"#46039f\"], [0.2222222222222222, \"#7201a8\"], [0.3333333333333333, \"#9c179e\"], [0.4444444444444444, \"#bd3786\"], [0.5555555555555556, \"#d8576b\"], [0.6666666666666666, \"#ed7953\"], [0.7777777777777778, \"#fb9f3a\"], [0.8888888888888888, \"#fdca26\"], [1.0, \"#f0f921\"]], \"type\": \"heatmapgl\"}], \"histogram\": [{\"marker\": {\"colorbar\": {\"outlinewidth\": 0, \"ticks\": \"\"}}, \"type\": \"histogram\"}], \"histogram2d\": [{\"colorbar\": {\"outlinewidth\": 0, \"ticks\": \"\"}, \"colorscale\": [[0.0, \"#0d0887\"], [0.1111111111111111, \"#46039f\"], [0.2222222222222222, \"#7201a8\"], [0.3333333333333333, \"#9c179e\"], [0.4444444444444444, \"#bd3786\"], [0.5555555555555556, \"#d8576b\"], [0.6666666666666666, \"#ed7953\"], [0.7777777777777778, \"#fb9f3a\"], [0.8888888888888888, \"#fdca26\"], [1.0, \"#f0f921\"]], \"type\": \"histogram2d\"}], \"histogram2dcontour\": [{\"colorbar\": {\"outlinewidth\": 0, \"ticks\": \"\"}, \"colorscale\": [[0.0, \"#0d0887\"], [0.1111111111111111, \"#46039f\"], [0.2222222222222222, \"#7201a8\"], [0.3333333333333333, \"#9c179e\"], [0.4444444444444444, \"#bd3786\"], [0.5555555555555556, \"#d8576b\"], [0.6666666666666666, \"#ed7953\"], [0.7777777777777778, \"#fb9f3a\"], [0.8888888888888888, \"#fdca26\"], [1.0, \"#f0f921\"]], \"type\": \"histogram2dcontour\"}], \"mesh3d\": [{\"colorbar\": {\"outlinewidth\": 0, \"ticks\": \"\"}, \"type\": \"mesh3d\"}], \"parcoords\": [{\"line\": {\"colorbar\": {\"outlinewidth\": 0, \"ticks\": \"\"}}, \"type\": \"parcoords\"}], \"pie\": [{\"automargin\": true, \"type\": \"pie\"}], \"scatter\": [{\"marker\": {\"colorbar\": {\"outlinewidth\": 0, \"ticks\": \"\"}}, \"type\": \"scatter\"}], \"scatter3d\": [{\"line\": {\"colorbar\": {\"outlinewidth\": 0, \"ticks\": \"\"}}, \"marker\": {\"colorbar\": {\"outlinewidth\": 0, \"ticks\": \"\"}}, \"type\": \"scatter3d\"}], \"scattercarpet\": [{\"marker\": {\"colorbar\": {\"outlinewidth\": 0, \"ticks\": \"\"}}, \"type\": \"scattercarpet\"}], \"scattergeo\": [{\"marker\": {\"colorbar\": {\"outlinewidth\": 0, \"ticks\": \"\"}}, \"type\": \"scattergeo\"}], \"scattergl\": [{\"marker\": {\"colorbar\": {\"outlinewidth\": 0, \"ticks\": \"\"}}, \"type\": \"scattergl\"}], \"scattermapbox\": [{\"marker\": {\"colorbar\": {\"outlinewidth\": 0, \"ticks\": \"\"}}, \"type\": \"scattermapbox\"}], \"scatterpolar\": [{\"marker\": {\"colorbar\": {\"outlinewidth\": 0, \"ticks\": \"\"}}, \"type\": \"scatterpolar\"}], \"scatterpolargl\": [{\"marker\": {\"colorbar\": {\"outlinewidth\": 0, \"ticks\": \"\"}}, \"type\": \"scatterpolargl\"}], \"scatterternary\": [{\"marker\": {\"colorbar\": {\"outlinewidth\": 0, \"ticks\": \"\"}}, \"type\": \"scatterternary\"}], \"surface\": [{\"colorbar\": {\"outlinewidth\": 0, \"ticks\": \"\"}, \"colorscale\": [[0.0, \"#0d0887\"], [0.1111111111111111, \"#46039f\"], [0.2222222222222222, \"#7201a8\"], [0.3333333333333333, \"#9c179e\"], [0.4444444444444444, \"#bd3786\"], [0.5555555555555556, \"#d8576b\"], [0.6666666666666666, \"#ed7953\"], [0.7777777777777778, \"#fb9f3a\"], [0.8888888888888888, \"#fdca26\"], [1.0, \"#f0f921\"]], \"type\": \"surface\"}], \"table\": [{\"cells\": {\"fill\": {\"color\": \"#EBF0F8\"}, \"line\": {\"color\": \"white\"}}, \"header\": {\"fill\": {\"color\": \"#C8D4E3\"}, \"line\": {\"color\": \"white\"}}, \"type\": \"table\"}]}, \"layout\": {\"annotationdefaults\": {\"arrowcolor\": \"#2a3f5f\", \"arrowhead\": 0, \"arrowwidth\": 1}, \"autotypenumbers\": \"strict\", \"coloraxis\": {\"colorbar\": {\"outlinewidth\": 0, \"ticks\": \"\"}}, \"colorscale\": {\"diverging\": [[0, \"#8e0152\"], [0.1, \"#c51b7d\"], [0.2, \"#de77ae\"], [0.3, \"#f1b6da\"], [0.4, \"#fde0ef\"], [0.5, \"#f7f7f7\"], [0.6, \"#e6f5d0\"], [0.7, \"#b8e186\"], [0.8, \"#7fbc41\"], [0.9, \"#4d9221\"], [1, \"#276419\"]], \"sequential\": [[0.0, \"#0d0887\"], [0.1111111111111111, \"#46039f\"], [0.2222222222222222, \"#7201a8\"], [0.3333333333333333, \"#9c179e\"], [0.4444444444444444, \"#bd3786\"], [0.5555555555555556, \"#d8576b\"], [0.6666666666666666, \"#ed7953\"], [0.7777777777777778, \"#fb9f3a\"], [0.8888888888888888, \"#fdca26\"], [1.0, \"#f0f921\"]], \"sequentialminus\": [[0.0, \"#0d0887\"], [0.1111111111111111, \"#46039f\"], [0.2222222222222222, \"#7201a8\"], [0.3333333333333333, \"#9c179e\"], [0.4444444444444444, \"#bd3786\"], [0.5555555555555556, \"#d8576b\"], [0.6666666666666666, \"#ed7953\"], [0.7777777777777778, \"#fb9f3a\"], [0.8888888888888888, \"#fdca26\"], [1.0, \"#f0f921\"]]}, \"colorway\": [\"#636efa\", \"#EF553B\", \"#00cc96\", \"#ab63fa\", \"#FFA15A\", \"#19d3f3\", \"#FF6692\", \"#B6E880\", \"#FF97FF\", \"#FECB52\"], \"font\": {\"color\": \"#2a3f5f\"}, \"geo\": {\"bgcolor\": \"white\", \"lakecolor\": \"white\", \"landcolor\": \"#E5ECF6\", \"showlakes\": true, \"showland\": true, \"subunitcolor\": \"white\"}, \"hoverlabel\": {\"align\": \"left\"}, \"hovermode\": \"closest\", \"mapbox\": {\"style\": \"light\"}, \"paper_bgcolor\": \"white\", \"plot_bgcolor\": \"#E5ECF6\", \"polar\": {\"angularaxis\": {\"gridcolor\": \"white\", \"linecolor\": \"white\", \"ticks\": \"\"}, \"bgcolor\": \"#E5ECF6\", \"radialaxis\": {\"gridcolor\": \"white\", \"linecolor\": \"white\", \"ticks\": \"\"}}, \"scene\": {\"xaxis\": {\"backgroundcolor\": \"#E5ECF6\", \"gridcolor\": \"white\", \"gridwidth\": 2, \"linecolor\": \"white\", \"showbackground\": true, \"ticks\": \"\", \"zerolinecolor\": \"white\"}, \"yaxis\": {\"backgroundcolor\": \"#E5ECF6\", \"gridcolor\": \"white\", \"gridwidth\": 2, \"linecolor\": \"white\", \"showbackground\": true, \"ticks\": \"\", \"zerolinecolor\": \"white\"}, \"zaxis\": {\"backgroundcolor\": \"#E5ECF6\", \"gridcolor\": \"white\", \"gridwidth\": 2, \"linecolor\": \"white\", \"showbackground\": true, \"ticks\": \"\", \"zerolinecolor\": \"white\"}}, \"shapedefaults\": {\"line\": {\"color\": \"#2a3f5f\"}}, \"ternary\": {\"aaxis\": {\"gridcolor\": \"white\", \"linecolor\": \"white\", \"ticks\": \"\"}, \"baxis\": {\"gridcolor\": \"white\", \"linecolor\": \"white\", \"ticks\": \"\"}, \"bgcolor\": \"#E5ECF6\", \"caxis\": {\"gridcolor\": \"white\", \"linecolor\": \"white\", \"ticks\": \"\"}}, \"title\": {\"x\": 0.05}, \"xaxis\": {\"automargin\": true, \"gridcolor\": \"white\", \"linecolor\": \"white\", \"ticks\": \"\", \"title\": {\"standoff\": 15}, \"zerolinecolor\": \"white\", \"zerolinewidth\": 2}, \"yaxis\": {\"automargin\": true, \"gridcolor\": \"white\", \"linecolor\": \"white\", \"ticks\": \"\", \"title\": {\"standoff\": 15}, \"zerolinecolor\": \"white\", \"zerolinewidth\": 2}}}, \"title\": {\"text\": \"Mt Bruno Elevation\"}},                        {\"responsive\": true}                    ).then(function(){\n",
       "                            \n",
       "var gd = document.getElementById('47d466fe-879e-4076-819f-13a4996709fe');\n",
       "var x = new MutationObserver(function (mutations, observer) {{\n",
       "        var display = window.getComputedStyle(gd).display;\n",
       "        if (!display || display === 'none') {{\n",
       "            console.log([gd, 'removed!']);\n",
       "            Plotly.purge(gd);\n",
       "            observer.disconnect();\n",
       "        }}\n",
       "}});\n",
       "\n",
       "// Listen for the removal of the full notebook cells\n",
       "var notebookContainer = gd.closest('#notebook-container');\n",
       "if (notebookContainer) {{\n",
       "    x.observe(notebookContainer, {childList: true});\n",
       "}}\n",
       "\n",
       "// Listen for the clearing of the current output cell\n",
       "var outputEl = gd.closest('.output');\n",
       "if (outputEl) {{\n",
       "    x.observe(outputEl, {childList: true});\n",
       "}}\n",
       "\n",
       "                        })                };                });            </script>        </div>"
      ]
     },
     "metadata": {},
     "output_type": "display_data"
    }
   ],
   "source": [
    "fig = go.Figure(data = [go.Surface(z=image_chm)])\n",
    "fig.update_layout(title='Mt Bruno Elevation', autosize=True)\n",
    "fig.show()"
   ]
  },
  {
   "cell_type": "markdown",
   "id": "regular-astrology",
   "metadata": {},
   "source": [
    "# 3d mesh"
   ]
  },
  {
   "cell_type": "code",
   "execution_count": 66,
   "id": "nervous-evans",
   "metadata": {},
   "outputs": [],
   "source": [
    "import numpy as np"
   ]
  },
  {
   "cell_type": "code",
   "execution_count": 71,
   "id": "surprising-gibraltar",
   "metadata": {},
   "outputs": [
    {
     "data": {
      "text/plain": [
       "(1, 18, 18)"
      ]
     },
     "execution_count": 71,
     "metadata": {},
     "output_type": "execute_result"
    }
   ],
   "source": [
    "image_chm.shape"
   ]
  },
  {
   "cell_type": "code",
   "execution_count": 75,
   "id": "fundamental-mailman",
   "metadata": {},
   "outputs": [],
   "source": [
    "x = np.arange(0, image_chm.shape[1])\n",
    "y = np.arange(0, image_chm.shape[2])"
   ]
  },
  {
   "cell_type": "code",
   "execution_count": 76,
   "id": "laughing-seventh",
   "metadata": {},
   "outputs": [],
   "source": [
    "xx, yy = np.meshgrid(x, y)"
   ]
  },
  {
   "cell_type": "code",
   "execution_count": 78,
   "id": "extra-spiritual",
   "metadata": {
    "scrolled": false
   },
   "outputs": [
    {
     "data": {
      "application/vnd.plotly.v1+json": {
       "config": {
        "plotlyServerURL": "https://plot.ly"
       },
       "data": [
        {
         "color": "lightpink",
         "opacity": 0.5,
         "type": "mesh3d",
         "x": [
          [
           0,
           1,
           2,
           3,
           4,
           5,
           6,
           7,
           8,
           9,
           10,
           11,
           12,
           13,
           14,
           15,
           16,
           17
          ],
          [
           0,
           1,
           2,
           3,
           4,
           5,
           6,
           7,
           8,
           9,
           10,
           11,
           12,
           13,
           14,
           15,
           16,
           17
          ],
          [
           0,
           1,
           2,
           3,
           4,
           5,
           6,
           7,
           8,
           9,
           10,
           11,
           12,
           13,
           14,
           15,
           16,
           17
          ],
          [
           0,
           1,
           2,
           3,
           4,
           5,
           6,
           7,
           8,
           9,
           10,
           11,
           12,
           13,
           14,
           15,
           16,
           17
          ],
          [
           0,
           1,
           2,
           3,
           4,
           5,
           6,
           7,
           8,
           9,
           10,
           11,
           12,
           13,
           14,
           15,
           16,
           17
          ],
          [
           0,
           1,
           2,
           3,
           4,
           5,
           6,
           7,
           8,
           9,
           10,
           11,
           12,
           13,
           14,
           15,
           16,
           17
          ],
          [
           0,
           1,
           2,
           3,
           4,
           5,
           6,
           7,
           8,
           9,
           10,
           11,
           12,
           13,
           14,
           15,
           16,
           17
          ],
          [
           0,
           1,
           2,
           3,
           4,
           5,
           6,
           7,
           8,
           9,
           10,
           11,
           12,
           13,
           14,
           15,
           16,
           17
          ],
          [
           0,
           1,
           2,
           3,
           4,
           5,
           6,
           7,
           8,
           9,
           10,
           11,
           12,
           13,
           14,
           15,
           16,
           17
          ],
          [
           0,
           1,
           2,
           3,
           4,
           5,
           6,
           7,
           8,
           9,
           10,
           11,
           12,
           13,
           14,
           15,
           16,
           17
          ],
          [
           0,
           1,
           2,
           3,
           4,
           5,
           6,
           7,
           8,
           9,
           10,
           11,
           12,
           13,
           14,
           15,
           16,
           17
          ],
          [
           0,
           1,
           2,
           3,
           4,
           5,
           6,
           7,
           8,
           9,
           10,
           11,
           12,
           13,
           14,
           15,
           16,
           17
          ],
          [
           0,
           1,
           2,
           3,
           4,
           5,
           6,
           7,
           8,
           9,
           10,
           11,
           12,
           13,
           14,
           15,
           16,
           17
          ],
          [
           0,
           1,
           2,
           3,
           4,
           5,
           6,
           7,
           8,
           9,
           10,
           11,
           12,
           13,
           14,
           15,
           16,
           17
          ],
          [
           0,
           1,
           2,
           3,
           4,
           5,
           6,
           7,
           8,
           9,
           10,
           11,
           12,
           13,
           14,
           15,
           16,
           17
          ],
          [
           0,
           1,
           2,
           3,
           4,
           5,
           6,
           7,
           8,
           9,
           10,
           11,
           12,
           13,
           14,
           15,
           16,
           17
          ],
          [
           0,
           1,
           2,
           3,
           4,
           5,
           6,
           7,
           8,
           9,
           10,
           11,
           12,
           13,
           14,
           15,
           16,
           17
          ],
          [
           0,
           1,
           2,
           3,
           4,
           5,
           6,
           7,
           8,
           9,
           10,
           11,
           12,
           13,
           14,
           15,
           16,
           17
          ]
         ],
         "y": [
          [
           0,
           0,
           0,
           0,
           0,
           0,
           0,
           0,
           0,
           0,
           0,
           0,
           0,
           0,
           0,
           0,
           0,
           0
          ],
          [
           1,
           1,
           1,
           1,
           1,
           1,
           1,
           1,
           1,
           1,
           1,
           1,
           1,
           1,
           1,
           1,
           1,
           1
          ],
          [
           2,
           2,
           2,
           2,
           2,
           2,
           2,
           2,
           2,
           2,
           2,
           2,
           2,
           2,
           2,
           2,
           2,
           2
          ],
          [
           3,
           3,
           3,
           3,
           3,
           3,
           3,
           3,
           3,
           3,
           3,
           3,
           3,
           3,
           3,
           3,
           3,
           3
          ],
          [
           4,
           4,
           4,
           4,
           4,
           4,
           4,
           4,
           4,
           4,
           4,
           4,
           4,
           4,
           4,
           4,
           4,
           4
          ],
          [
           5,
           5,
           5,
           5,
           5,
           5,
           5,
           5,
           5,
           5,
           5,
           5,
           5,
           5,
           5,
           5,
           5,
           5
          ],
          [
           6,
           6,
           6,
           6,
           6,
           6,
           6,
           6,
           6,
           6,
           6,
           6,
           6,
           6,
           6,
           6,
           6,
           6
          ],
          [
           7,
           7,
           7,
           7,
           7,
           7,
           7,
           7,
           7,
           7,
           7,
           7,
           7,
           7,
           7,
           7,
           7,
           7
          ],
          [
           8,
           8,
           8,
           8,
           8,
           8,
           8,
           8,
           8,
           8,
           8,
           8,
           8,
           8,
           8,
           8,
           8,
           8
          ],
          [
           9,
           9,
           9,
           9,
           9,
           9,
           9,
           9,
           9,
           9,
           9,
           9,
           9,
           9,
           9,
           9,
           9,
           9
          ],
          [
           10,
           10,
           10,
           10,
           10,
           10,
           10,
           10,
           10,
           10,
           10,
           10,
           10,
           10,
           10,
           10,
           10,
           10
          ],
          [
           11,
           11,
           11,
           11,
           11,
           11,
           11,
           11,
           11,
           11,
           11,
           11,
           11,
           11,
           11,
           11,
           11,
           11
          ],
          [
           12,
           12,
           12,
           12,
           12,
           12,
           12,
           12,
           12,
           12,
           12,
           12,
           12,
           12,
           12,
           12,
           12,
           12
          ],
          [
           13,
           13,
           13,
           13,
           13,
           13,
           13,
           13,
           13,
           13,
           13,
           13,
           13,
           13,
           13,
           13,
           13,
           13
          ],
          [
           14,
           14,
           14,
           14,
           14,
           14,
           14,
           14,
           14,
           14,
           14,
           14,
           14,
           14,
           14,
           14,
           14,
           14
          ],
          [
           15,
           15,
           15,
           15,
           15,
           15,
           15,
           15,
           15,
           15,
           15,
           15,
           15,
           15,
           15,
           15,
           15,
           15
          ],
          [
           16,
           16,
           16,
           16,
           16,
           16,
           16,
           16,
           16,
           16,
           16,
           16,
           16,
           16,
           16,
           16,
           16,
           16
          ],
          [
           17,
           17,
           17,
           17,
           17,
           17,
           17,
           17,
           17,
           17,
           17,
           17,
           17,
           17,
           17,
           17,
           17,
           17
          ]
         ],
         "z": [
          [
           [
            0,
            0,
            0,
            0,
            0,
            0,
            0,
            0,
            0,
            0,
            0,
            0,
            0,
            0,
            0,
            0,
            0,
            0
           ],
           [
            0,
            0,
            0,
            0,
            0,
            0,
            0,
            0,
            0,
            0,
            0,
            -4.229999542236328,
            0,
            0,
            0,
            0,
            0,
            0
           ],
           [
            0,
            0,
            0,
            0,
            0,
            0,
            0,
            0,
            0,
            -4.539997100830078,
            -2.990001678466797,
            -4.430000305175781,
            0,
            0,
            0,
            0,
            0,
            0
           ],
           [
            0,
            0,
            0,
            0,
            0,
            0,
            0,
            -2.220001220703125,
            -4.400001525878906,
            -4.4199981689453125,
            -4.430000305175781,
            -4.529998779296875,
            -5.729999542236328,
            0,
            0,
            0,
            0,
            0
           ],
           [
            0,
            0,
            0,
            0,
            -4.1100006103515625,
            -1.0800018310546875,
            -4.400798797607422,
            -4.383903503417969,
            -4.380001068115234,
            -4.400001525878906,
            -4.380001068115234,
            -4.3899993896484375,
            -4.560001373291016,
            0,
            0,
            0,
            0,
            0
           ],
           [
            0,
            0,
            0,
            -4.359996795654297,
            -4.340000152587891,
            -4.3759307861328125,
            -4.3815460205078125,
            -4.374904632568359,
            -4.399211883544922,
            -4.4004974365234375,
            -4.405925750732422,
            -4.410224914550781,
            -4.4199981689453125,
            -4.270000457763672,
            0,
            0,
            0,
            0
           ],
           [
            0,
            0,
            0,
            -4.420001983642578,
            -4.358314514160156,
            -4.377475738525391,
            -4.389202117919922,
            -4.3754119873046875,
            -4.415744781494141,
            -4.415561676025391,
            -4.4285888671875,
            -4.434612274169922,
            -4.444313049316406,
            -4.479961395263672,
            0,
            0,
            0,
            0
           ],
           [
            0,
            0,
            0,
            0,
            -5.569915771484375,
            -5.495918273925781,
            -5.9999542236328125,
            -5.936859130859375,
            -5.936000823974609,
            -6.0280303955078125,
            -5.998111724853516,
            -6.137363433837891,
            -6.157314300537109,
            -6.225017547607422,
            -6.296062469482422,
            -5.8000030517578125,
            -6.370002746582031,
            0
           ],
           [
            0,
            -6.329998016357422,
            -6.343250274658203,
            -6.380954742431641,
            -6.419231414794922,
            -6.419578552246094,
            -6.464084625244141,
            -6.49371337890625,
            -6.4992523193359375,
            -6.540241241455078,
            -6.5789337158203125,
            -6.616619110107422,
            -6.671428680419922,
            -6.698719024658203,
            -6.752128601074219,
            -6.790000915527344,
            -6.810001373291016,
            0
           ],
           [
            0,
            -6.819999694824219,
            -6.8452911376953125,
            -6.853702545166016,
            -6.8779754638671875,
            -6.905834197998047,
            -6.92730712890625,
            -6.982913970947266,
            -6.987606048583984,
            -7.050380706787109,
            -7.0531005859375,
            -7.099636077880859,
            -7.126319885253906,
            -7.143856048583984,
            -7.2006988525390625,
            -7.270000457763672,
            -7.3300018310546875,
            0
           ],
           [
            0,
            -7.290000915527344,
            -7.326549530029297,
            -7.376453399658203,
            -7.345882415771484,
            -7.391712188720703,
            -7.412952423095703,
            -7.446048736572266,
            -7.4481964111328125,
            -7.472248077392578,
            -7.491935729980469,
            -7.530422210693359,
            -7.535057067871094,
            -7.581897735595703,
            -7.6100006103515625,
            -7.709999084472656,
            -7.790000915527344,
            0
           ],
           [
            0,
            -7.789207458496094,
            -7.794281005859375,
            -7.851387023925781,
            -7.8396148681640625,
            -7.853614807128906,
            -7.885932922363281,
            -7.918987274169922,
            -7.9381256103515625,
            -7.941684722900391,
            -7.950008392333984,
            -7.986385345458984,
            -8.019519805908203,
            -8.041961669921875,
            -8.069999694824219,
            -8.189998626708984,
            -8.21999740600586,
            0
           ],
           [
            0,
            -8.220001220703125,
            -8.214286804199219,
            -8.159564971923828,
            -8.152679443359375,
            -8.067935943603516,
            -8.068889617919922,
            -8.698909759521484,
            -7.993743896484375,
            -7.897571563720703,
            -7.885993957519531,
            -7.852745056152344,
            -7.804363250732422,
            -7.741310119628906,
            -7.760002136230469,
            -7.790000915527344,
            -7.779998779296875,
            0
           ],
           [
            0,
            -7.789997100830078,
            -7.729999542236328,
            -7.676933288574219,
            -7.678134918212891,
            -7.624256134033203,
            -7.600105285644531,
            -7.551750183105469,
            -7.475414276123047,
            -7.481555938720703,
            -7.40142822265625,
            -7.345539093017578,
            -7.310253143310547,
            -7.299465179443359,
            -7.280002593994141,
            -7.289997100830078,
            -7.30999755859375,
            0
           ],
           [
            0,
            -4.630001068115234,
            -7.220001220703125,
            -7.180000305175781,
            -7.180000305175781,
            -7.144298553466797,
            -7.121517181396484,
            -7.076366424560547,
            -7.054492950439453,
            -6.989566802978516,
            -6.939884185791016,
            -6.884647369384766,
            -6.843299865722656,
            -6.7920074462890625,
            -6.780002593994141,
            -6.80999755859375,
            -6.779998779296875,
            0
           ],
           [
            0,
            -3,
            -6.779998779296875,
            -6.659999847412109,
            -6.6699981689453125,
            -6.700000762939453,
            -6.639499664306641,
            -6.591865539550781,
            -6.567474365234375,
            -6.504451751708984,
            -6.5022125244140625,
            -6.396522521972656,
            -6.359394073486328,
            -6.280002593994141,
            -6.340000152587891,
            -6.3300018310546875,
            -6.319999694824219,
            0
           ],
           [
            0,
            0,
            -6.270000457763672,
            -6.209999084472656,
            -6.130001068115234,
            -6.150001525878906,
            -6.099998474121094,
            -6.119998931884766,
            -5.608257293701172,
            -5.953895568847656,
            -5.957191467285156,
            -5.7306671142578125,
            -5.750465393066406,
            -5.219997406005859,
            -0.5600013732910156,
            0,
            -1.7300033569335938,
            0
           ],
           [
            0,
            0,
            0,
            0,
            0,
            0,
            0,
            0,
            0,
            0,
            0,
            0,
            0,
            0,
            0,
            0,
            0,
            0
           ]
          ]
         ]
        }
       ],
       "layout": {
        "template": {
         "data": {
          "bar": [
           {
            "error_x": {
             "color": "#2a3f5f"
            },
            "error_y": {
             "color": "#2a3f5f"
            },
            "marker": {
             "line": {
              "color": "#E5ECF6",
              "width": 0.5
             }
            },
            "type": "bar"
           }
          ],
          "barpolar": [
           {
            "marker": {
             "line": {
              "color": "#E5ECF6",
              "width": 0.5
             }
            },
            "type": "barpolar"
           }
          ],
          "carpet": [
           {
            "aaxis": {
             "endlinecolor": "#2a3f5f",
             "gridcolor": "white",
             "linecolor": "white",
             "minorgridcolor": "white",
             "startlinecolor": "#2a3f5f"
            },
            "baxis": {
             "endlinecolor": "#2a3f5f",
             "gridcolor": "white",
             "linecolor": "white",
             "minorgridcolor": "white",
             "startlinecolor": "#2a3f5f"
            },
            "type": "carpet"
           }
          ],
          "choropleth": [
           {
            "colorbar": {
             "outlinewidth": 0,
             "ticks": ""
            },
            "type": "choropleth"
           }
          ],
          "contour": [
           {
            "colorbar": {
             "outlinewidth": 0,
             "ticks": ""
            },
            "colorscale": [
             [
              0,
              "#0d0887"
             ],
             [
              0.1111111111111111,
              "#46039f"
             ],
             [
              0.2222222222222222,
              "#7201a8"
             ],
             [
              0.3333333333333333,
              "#9c179e"
             ],
             [
              0.4444444444444444,
              "#bd3786"
             ],
             [
              0.5555555555555556,
              "#d8576b"
             ],
             [
              0.6666666666666666,
              "#ed7953"
             ],
             [
              0.7777777777777778,
              "#fb9f3a"
             ],
             [
              0.8888888888888888,
              "#fdca26"
             ],
             [
              1,
              "#f0f921"
             ]
            ],
            "type": "contour"
           }
          ],
          "contourcarpet": [
           {
            "colorbar": {
             "outlinewidth": 0,
             "ticks": ""
            },
            "type": "contourcarpet"
           }
          ],
          "heatmap": [
           {
            "colorbar": {
             "outlinewidth": 0,
             "ticks": ""
            },
            "colorscale": [
             [
              0,
              "#0d0887"
             ],
             [
              0.1111111111111111,
              "#46039f"
             ],
             [
              0.2222222222222222,
              "#7201a8"
             ],
             [
              0.3333333333333333,
              "#9c179e"
             ],
             [
              0.4444444444444444,
              "#bd3786"
             ],
             [
              0.5555555555555556,
              "#d8576b"
             ],
             [
              0.6666666666666666,
              "#ed7953"
             ],
             [
              0.7777777777777778,
              "#fb9f3a"
             ],
             [
              0.8888888888888888,
              "#fdca26"
             ],
             [
              1,
              "#f0f921"
             ]
            ],
            "type": "heatmap"
           }
          ],
          "heatmapgl": [
           {
            "colorbar": {
             "outlinewidth": 0,
             "ticks": ""
            },
            "colorscale": [
             [
              0,
              "#0d0887"
             ],
             [
              0.1111111111111111,
              "#46039f"
             ],
             [
              0.2222222222222222,
              "#7201a8"
             ],
             [
              0.3333333333333333,
              "#9c179e"
             ],
             [
              0.4444444444444444,
              "#bd3786"
             ],
             [
              0.5555555555555556,
              "#d8576b"
             ],
             [
              0.6666666666666666,
              "#ed7953"
             ],
             [
              0.7777777777777778,
              "#fb9f3a"
             ],
             [
              0.8888888888888888,
              "#fdca26"
             ],
             [
              1,
              "#f0f921"
             ]
            ],
            "type": "heatmapgl"
           }
          ],
          "histogram": [
           {
            "marker": {
             "colorbar": {
              "outlinewidth": 0,
              "ticks": ""
             }
            },
            "type": "histogram"
           }
          ],
          "histogram2d": [
           {
            "colorbar": {
             "outlinewidth": 0,
             "ticks": ""
            },
            "colorscale": [
             [
              0,
              "#0d0887"
             ],
             [
              0.1111111111111111,
              "#46039f"
             ],
             [
              0.2222222222222222,
              "#7201a8"
             ],
             [
              0.3333333333333333,
              "#9c179e"
             ],
             [
              0.4444444444444444,
              "#bd3786"
             ],
             [
              0.5555555555555556,
              "#d8576b"
             ],
             [
              0.6666666666666666,
              "#ed7953"
             ],
             [
              0.7777777777777778,
              "#fb9f3a"
             ],
             [
              0.8888888888888888,
              "#fdca26"
             ],
             [
              1,
              "#f0f921"
             ]
            ],
            "type": "histogram2d"
           }
          ],
          "histogram2dcontour": [
           {
            "colorbar": {
             "outlinewidth": 0,
             "ticks": ""
            },
            "colorscale": [
             [
              0,
              "#0d0887"
             ],
             [
              0.1111111111111111,
              "#46039f"
             ],
             [
              0.2222222222222222,
              "#7201a8"
             ],
             [
              0.3333333333333333,
              "#9c179e"
             ],
             [
              0.4444444444444444,
              "#bd3786"
             ],
             [
              0.5555555555555556,
              "#d8576b"
             ],
             [
              0.6666666666666666,
              "#ed7953"
             ],
             [
              0.7777777777777778,
              "#fb9f3a"
             ],
             [
              0.8888888888888888,
              "#fdca26"
             ],
             [
              1,
              "#f0f921"
             ]
            ],
            "type": "histogram2dcontour"
           }
          ],
          "mesh3d": [
           {
            "colorbar": {
             "outlinewidth": 0,
             "ticks": ""
            },
            "type": "mesh3d"
           }
          ],
          "parcoords": [
           {
            "line": {
             "colorbar": {
              "outlinewidth": 0,
              "ticks": ""
             }
            },
            "type": "parcoords"
           }
          ],
          "pie": [
           {
            "automargin": true,
            "type": "pie"
           }
          ],
          "scatter": [
           {
            "marker": {
             "colorbar": {
              "outlinewidth": 0,
              "ticks": ""
             }
            },
            "type": "scatter"
           }
          ],
          "scatter3d": [
           {
            "line": {
             "colorbar": {
              "outlinewidth": 0,
              "ticks": ""
             }
            },
            "marker": {
             "colorbar": {
              "outlinewidth": 0,
              "ticks": ""
             }
            },
            "type": "scatter3d"
           }
          ],
          "scattercarpet": [
           {
            "marker": {
             "colorbar": {
              "outlinewidth": 0,
              "ticks": ""
             }
            },
            "type": "scattercarpet"
           }
          ],
          "scattergeo": [
           {
            "marker": {
             "colorbar": {
              "outlinewidth": 0,
              "ticks": ""
             }
            },
            "type": "scattergeo"
           }
          ],
          "scattergl": [
           {
            "marker": {
             "colorbar": {
              "outlinewidth": 0,
              "ticks": ""
             }
            },
            "type": "scattergl"
           }
          ],
          "scattermapbox": [
           {
            "marker": {
             "colorbar": {
              "outlinewidth": 0,
              "ticks": ""
             }
            },
            "type": "scattermapbox"
           }
          ],
          "scatterpolar": [
           {
            "marker": {
             "colorbar": {
              "outlinewidth": 0,
              "ticks": ""
             }
            },
            "type": "scatterpolar"
           }
          ],
          "scatterpolargl": [
           {
            "marker": {
             "colorbar": {
              "outlinewidth": 0,
              "ticks": ""
             }
            },
            "type": "scatterpolargl"
           }
          ],
          "scatterternary": [
           {
            "marker": {
             "colorbar": {
              "outlinewidth": 0,
              "ticks": ""
             }
            },
            "type": "scatterternary"
           }
          ],
          "surface": [
           {
            "colorbar": {
             "outlinewidth": 0,
             "ticks": ""
            },
            "colorscale": [
             [
              0,
              "#0d0887"
             ],
             [
              0.1111111111111111,
              "#46039f"
             ],
             [
              0.2222222222222222,
              "#7201a8"
             ],
             [
              0.3333333333333333,
              "#9c179e"
             ],
             [
              0.4444444444444444,
              "#bd3786"
             ],
             [
              0.5555555555555556,
              "#d8576b"
             ],
             [
              0.6666666666666666,
              "#ed7953"
             ],
             [
              0.7777777777777778,
              "#fb9f3a"
             ],
             [
              0.8888888888888888,
              "#fdca26"
             ],
             [
              1,
              "#f0f921"
             ]
            ],
            "type": "surface"
           }
          ],
          "table": [
           {
            "cells": {
             "fill": {
              "color": "#EBF0F8"
             },
             "line": {
              "color": "white"
             }
            },
            "header": {
             "fill": {
              "color": "#C8D4E3"
             },
             "line": {
              "color": "white"
             }
            },
            "type": "table"
           }
          ]
         },
         "layout": {
          "annotationdefaults": {
           "arrowcolor": "#2a3f5f",
           "arrowhead": 0,
           "arrowwidth": 1
          },
          "autotypenumbers": "strict",
          "coloraxis": {
           "colorbar": {
            "outlinewidth": 0,
            "ticks": ""
           }
          },
          "colorscale": {
           "diverging": [
            [
             0,
             "#8e0152"
            ],
            [
             0.1,
             "#c51b7d"
            ],
            [
             0.2,
             "#de77ae"
            ],
            [
             0.3,
             "#f1b6da"
            ],
            [
             0.4,
             "#fde0ef"
            ],
            [
             0.5,
             "#f7f7f7"
            ],
            [
             0.6,
             "#e6f5d0"
            ],
            [
             0.7,
             "#b8e186"
            ],
            [
             0.8,
             "#7fbc41"
            ],
            [
             0.9,
             "#4d9221"
            ],
            [
             1,
             "#276419"
            ]
           ],
           "sequential": [
            [
             0,
             "#0d0887"
            ],
            [
             0.1111111111111111,
             "#46039f"
            ],
            [
             0.2222222222222222,
             "#7201a8"
            ],
            [
             0.3333333333333333,
             "#9c179e"
            ],
            [
             0.4444444444444444,
             "#bd3786"
            ],
            [
             0.5555555555555556,
             "#d8576b"
            ],
            [
             0.6666666666666666,
             "#ed7953"
            ],
            [
             0.7777777777777778,
             "#fb9f3a"
            ],
            [
             0.8888888888888888,
             "#fdca26"
            ],
            [
             1,
             "#f0f921"
            ]
           ],
           "sequentialminus": [
            [
             0,
             "#0d0887"
            ],
            [
             0.1111111111111111,
             "#46039f"
            ],
            [
             0.2222222222222222,
             "#7201a8"
            ],
            [
             0.3333333333333333,
             "#9c179e"
            ],
            [
             0.4444444444444444,
             "#bd3786"
            ],
            [
             0.5555555555555556,
             "#d8576b"
            ],
            [
             0.6666666666666666,
             "#ed7953"
            ],
            [
             0.7777777777777778,
             "#fb9f3a"
            ],
            [
             0.8888888888888888,
             "#fdca26"
            ],
            [
             1,
             "#f0f921"
            ]
           ]
          },
          "colorway": [
           "#636efa",
           "#EF553B",
           "#00cc96",
           "#ab63fa",
           "#FFA15A",
           "#19d3f3",
           "#FF6692",
           "#B6E880",
           "#FF97FF",
           "#FECB52"
          ],
          "font": {
           "color": "#2a3f5f"
          },
          "geo": {
           "bgcolor": "white",
           "lakecolor": "white",
           "landcolor": "#E5ECF6",
           "showlakes": true,
           "showland": true,
           "subunitcolor": "white"
          },
          "hoverlabel": {
           "align": "left"
          },
          "hovermode": "closest",
          "mapbox": {
           "style": "light"
          },
          "paper_bgcolor": "white",
          "plot_bgcolor": "#E5ECF6",
          "polar": {
           "angularaxis": {
            "gridcolor": "white",
            "linecolor": "white",
            "ticks": ""
           },
           "bgcolor": "#E5ECF6",
           "radialaxis": {
            "gridcolor": "white",
            "linecolor": "white",
            "ticks": ""
           }
          },
          "scene": {
           "xaxis": {
            "backgroundcolor": "#E5ECF6",
            "gridcolor": "white",
            "gridwidth": 2,
            "linecolor": "white",
            "showbackground": true,
            "ticks": "",
            "zerolinecolor": "white"
           },
           "yaxis": {
            "backgroundcolor": "#E5ECF6",
            "gridcolor": "white",
            "gridwidth": 2,
            "linecolor": "white",
            "showbackground": true,
            "ticks": "",
            "zerolinecolor": "white"
           },
           "zaxis": {
            "backgroundcolor": "#E5ECF6",
            "gridcolor": "white",
            "gridwidth": 2,
            "linecolor": "white",
            "showbackground": true,
            "ticks": "",
            "zerolinecolor": "white"
           }
          },
          "shapedefaults": {
           "line": {
            "color": "#2a3f5f"
           }
          },
          "ternary": {
           "aaxis": {
            "gridcolor": "white",
            "linecolor": "white",
            "ticks": ""
           },
           "baxis": {
            "gridcolor": "white",
            "linecolor": "white",
            "ticks": ""
           },
           "bgcolor": "#E5ECF6",
           "caxis": {
            "gridcolor": "white",
            "linecolor": "white",
            "ticks": ""
           }
          },
          "title": {
           "x": 0.05
          },
          "xaxis": {
           "automargin": true,
           "gridcolor": "white",
           "linecolor": "white",
           "ticks": "",
           "title": {
            "standoff": 15
           },
           "zerolinecolor": "white",
           "zerolinewidth": 2
          },
          "yaxis": {
           "automargin": true,
           "gridcolor": "white",
           "linecolor": "white",
           "ticks": "",
           "title": {
            "standoff": 15
           },
           "zerolinecolor": "white",
           "zerolinewidth": 2
          }
         }
        }
       }
      },
      "text/html": [
       "<div>                            <div id=\"63d59df0-e6ec-40dc-8d56-dcfaa84b4bd0\" class=\"plotly-graph-div\" style=\"height:525px; width:100%;\"></div>            <script type=\"text/javascript\">                require([\"plotly\"], function(Plotly) {                    window.PLOTLYENV=window.PLOTLYENV || {};                                    if (document.getElementById(\"63d59df0-e6ec-40dc-8d56-dcfaa84b4bd0\")) {                    Plotly.newPlot(                        \"63d59df0-e6ec-40dc-8d56-dcfaa84b4bd0\",                        [{\"color\": \"lightpink\", \"opacity\": 0.5, \"type\": \"mesh3d\", \"x\": [[0, 1, 2, 3, 4, 5, 6, 7, 8, 9, 10, 11, 12, 13, 14, 15, 16, 17], [0, 1, 2, 3, 4, 5, 6, 7, 8, 9, 10, 11, 12, 13, 14, 15, 16, 17], [0, 1, 2, 3, 4, 5, 6, 7, 8, 9, 10, 11, 12, 13, 14, 15, 16, 17], [0, 1, 2, 3, 4, 5, 6, 7, 8, 9, 10, 11, 12, 13, 14, 15, 16, 17], [0, 1, 2, 3, 4, 5, 6, 7, 8, 9, 10, 11, 12, 13, 14, 15, 16, 17], [0, 1, 2, 3, 4, 5, 6, 7, 8, 9, 10, 11, 12, 13, 14, 15, 16, 17], [0, 1, 2, 3, 4, 5, 6, 7, 8, 9, 10, 11, 12, 13, 14, 15, 16, 17], [0, 1, 2, 3, 4, 5, 6, 7, 8, 9, 10, 11, 12, 13, 14, 15, 16, 17], [0, 1, 2, 3, 4, 5, 6, 7, 8, 9, 10, 11, 12, 13, 14, 15, 16, 17], [0, 1, 2, 3, 4, 5, 6, 7, 8, 9, 10, 11, 12, 13, 14, 15, 16, 17], [0, 1, 2, 3, 4, 5, 6, 7, 8, 9, 10, 11, 12, 13, 14, 15, 16, 17], [0, 1, 2, 3, 4, 5, 6, 7, 8, 9, 10, 11, 12, 13, 14, 15, 16, 17], [0, 1, 2, 3, 4, 5, 6, 7, 8, 9, 10, 11, 12, 13, 14, 15, 16, 17], [0, 1, 2, 3, 4, 5, 6, 7, 8, 9, 10, 11, 12, 13, 14, 15, 16, 17], [0, 1, 2, 3, 4, 5, 6, 7, 8, 9, 10, 11, 12, 13, 14, 15, 16, 17], [0, 1, 2, 3, 4, 5, 6, 7, 8, 9, 10, 11, 12, 13, 14, 15, 16, 17], [0, 1, 2, 3, 4, 5, 6, 7, 8, 9, 10, 11, 12, 13, 14, 15, 16, 17], [0, 1, 2, 3, 4, 5, 6, 7, 8, 9, 10, 11, 12, 13, 14, 15, 16, 17]], \"y\": [[0, 0, 0, 0, 0, 0, 0, 0, 0, 0, 0, 0, 0, 0, 0, 0, 0, 0], [1, 1, 1, 1, 1, 1, 1, 1, 1, 1, 1, 1, 1, 1, 1, 1, 1, 1], [2, 2, 2, 2, 2, 2, 2, 2, 2, 2, 2, 2, 2, 2, 2, 2, 2, 2], [3, 3, 3, 3, 3, 3, 3, 3, 3, 3, 3, 3, 3, 3, 3, 3, 3, 3], [4, 4, 4, 4, 4, 4, 4, 4, 4, 4, 4, 4, 4, 4, 4, 4, 4, 4], [5, 5, 5, 5, 5, 5, 5, 5, 5, 5, 5, 5, 5, 5, 5, 5, 5, 5], [6, 6, 6, 6, 6, 6, 6, 6, 6, 6, 6, 6, 6, 6, 6, 6, 6, 6], [7, 7, 7, 7, 7, 7, 7, 7, 7, 7, 7, 7, 7, 7, 7, 7, 7, 7], [8, 8, 8, 8, 8, 8, 8, 8, 8, 8, 8, 8, 8, 8, 8, 8, 8, 8], [9, 9, 9, 9, 9, 9, 9, 9, 9, 9, 9, 9, 9, 9, 9, 9, 9, 9], [10, 10, 10, 10, 10, 10, 10, 10, 10, 10, 10, 10, 10, 10, 10, 10, 10, 10], [11, 11, 11, 11, 11, 11, 11, 11, 11, 11, 11, 11, 11, 11, 11, 11, 11, 11], [12, 12, 12, 12, 12, 12, 12, 12, 12, 12, 12, 12, 12, 12, 12, 12, 12, 12], [13, 13, 13, 13, 13, 13, 13, 13, 13, 13, 13, 13, 13, 13, 13, 13, 13, 13], [14, 14, 14, 14, 14, 14, 14, 14, 14, 14, 14, 14, 14, 14, 14, 14, 14, 14], [15, 15, 15, 15, 15, 15, 15, 15, 15, 15, 15, 15, 15, 15, 15, 15, 15, 15], [16, 16, 16, 16, 16, 16, 16, 16, 16, 16, 16, 16, 16, 16, 16, 16, 16, 16], [17, 17, 17, 17, 17, 17, 17, 17, 17, 17, 17, 17, 17, 17, 17, 17, 17, 17]], \"z\": [[[0.0, 0.0, 0.0, 0.0, 0.0, 0.0, 0.0, 0.0, 0.0, 0.0, 0.0, 0.0, 0.0, 0.0, 0.0, 0.0, 0.0, 0.0], [0.0, 0.0, 0.0, 0.0, 0.0, 0.0, 0.0, 0.0, 0.0, 0.0, 0.0, -4.229999542236328, 0.0, 0.0, 0.0, 0.0, 0.0, 0.0], [0.0, 0.0, 0.0, 0.0, 0.0, 0.0, 0.0, 0.0, 0.0, -4.539997100830078, -2.990001678466797, -4.430000305175781, 0.0, 0.0, 0.0, 0.0, 0.0, 0.0], [0.0, 0.0, 0.0, 0.0, 0.0, 0.0, 0.0, -2.220001220703125, -4.400001525878906, -4.4199981689453125, -4.430000305175781, -4.529998779296875, -5.729999542236328, 0.0, 0.0, 0.0, 0.0, 0.0], [0.0, 0.0, 0.0, 0.0, -4.1100006103515625, -1.0800018310546875, -4.400798797607422, -4.383903503417969, -4.380001068115234, -4.400001525878906, -4.380001068115234, -4.3899993896484375, -4.560001373291016, 0.0, 0.0, 0.0, 0.0, 0.0], [0.0, 0.0, 0.0, -4.359996795654297, -4.340000152587891, -4.3759307861328125, -4.3815460205078125, -4.374904632568359, -4.399211883544922, -4.4004974365234375, -4.405925750732422, -4.410224914550781, -4.4199981689453125, -4.270000457763672, 0.0, 0.0, 0.0, 0.0], [0.0, 0.0, 0.0, -4.420001983642578, -4.358314514160156, -4.377475738525391, -4.389202117919922, -4.3754119873046875, -4.415744781494141, -4.415561676025391, -4.4285888671875, -4.434612274169922, -4.444313049316406, -4.479961395263672, 0.0, 0.0, 0.0, 0.0], [0.0, 0.0, 0.0, 0.0, -5.569915771484375, -5.495918273925781, -5.9999542236328125, -5.936859130859375, -5.936000823974609, -6.0280303955078125, -5.998111724853516, -6.137363433837891, -6.157314300537109, -6.225017547607422, -6.296062469482422, -5.8000030517578125, -6.370002746582031, 0.0], [0.0, -6.329998016357422, -6.343250274658203, -6.380954742431641, -6.419231414794922, -6.419578552246094, -6.464084625244141, -6.49371337890625, -6.4992523193359375, -6.540241241455078, -6.5789337158203125, -6.616619110107422, -6.671428680419922, -6.698719024658203, -6.752128601074219, -6.790000915527344, -6.810001373291016, 0.0], [0.0, -6.819999694824219, -6.8452911376953125, -6.853702545166016, -6.8779754638671875, -6.905834197998047, -6.92730712890625, -6.982913970947266, -6.987606048583984, -7.050380706787109, -7.0531005859375, -7.099636077880859, -7.126319885253906, -7.143856048583984, -7.2006988525390625, -7.270000457763672, -7.3300018310546875, 0.0], [0.0, -7.290000915527344, -7.326549530029297, -7.376453399658203, -7.345882415771484, -7.391712188720703, -7.412952423095703, -7.446048736572266, -7.4481964111328125, -7.472248077392578, -7.491935729980469, -7.530422210693359, -7.535057067871094, -7.581897735595703, -7.6100006103515625, -7.709999084472656, -7.790000915527344, 0.0], [0.0, -7.789207458496094, -7.794281005859375, -7.851387023925781, -7.8396148681640625, -7.853614807128906, -7.885932922363281, -7.918987274169922, -7.9381256103515625, -7.941684722900391, -7.950008392333984, -7.986385345458984, -8.019519805908203, -8.041961669921875, -8.069999694824219, -8.189998626708984, -8.21999740600586, 0.0], [0.0, -8.220001220703125, -8.214286804199219, -8.159564971923828, -8.152679443359375, -8.067935943603516, -8.068889617919922, -8.698909759521484, -7.993743896484375, -7.897571563720703, -7.885993957519531, -7.852745056152344, -7.804363250732422, -7.741310119628906, -7.760002136230469, -7.790000915527344, -7.779998779296875, 0.0], [0.0, -7.789997100830078, -7.729999542236328, -7.676933288574219, -7.678134918212891, -7.624256134033203, -7.600105285644531, -7.551750183105469, -7.475414276123047, -7.481555938720703, -7.40142822265625, -7.345539093017578, -7.310253143310547, -7.299465179443359, -7.280002593994141, -7.289997100830078, -7.30999755859375, 0.0], [0.0, -4.630001068115234, -7.220001220703125, -7.180000305175781, -7.180000305175781, -7.144298553466797, -7.121517181396484, -7.076366424560547, -7.054492950439453, -6.989566802978516, -6.939884185791016, -6.884647369384766, -6.843299865722656, -6.7920074462890625, -6.780002593994141, -6.80999755859375, -6.779998779296875, 0.0], [0.0, -3.0, -6.779998779296875, -6.659999847412109, -6.6699981689453125, -6.700000762939453, -6.639499664306641, -6.591865539550781, -6.567474365234375, -6.504451751708984, -6.5022125244140625, -6.396522521972656, -6.359394073486328, -6.280002593994141, -6.340000152587891, -6.3300018310546875, -6.319999694824219, 0.0], [0.0, 0.0, -6.270000457763672, -6.209999084472656, -6.130001068115234, -6.150001525878906, -6.099998474121094, -6.119998931884766, -5.608257293701172, -5.953895568847656, -5.957191467285156, -5.7306671142578125, -5.750465393066406, -5.219997406005859, -0.5600013732910156, 0.0, -1.7300033569335938, 0.0], [0.0, 0.0, 0.0, 0.0, 0.0, 0.0, 0.0, 0.0, 0.0, 0.0, 0.0, 0.0, 0.0, 0.0, 0.0, 0.0, 0.0, 0.0]]]}],                        {\"template\": {\"data\": {\"bar\": [{\"error_x\": {\"color\": \"#2a3f5f\"}, \"error_y\": {\"color\": \"#2a3f5f\"}, \"marker\": {\"line\": {\"color\": \"#E5ECF6\", \"width\": 0.5}}, \"type\": \"bar\"}], \"barpolar\": [{\"marker\": {\"line\": {\"color\": \"#E5ECF6\", \"width\": 0.5}}, \"type\": \"barpolar\"}], \"carpet\": [{\"aaxis\": {\"endlinecolor\": \"#2a3f5f\", \"gridcolor\": \"white\", \"linecolor\": \"white\", \"minorgridcolor\": \"white\", \"startlinecolor\": \"#2a3f5f\"}, \"baxis\": {\"endlinecolor\": \"#2a3f5f\", \"gridcolor\": \"white\", \"linecolor\": \"white\", \"minorgridcolor\": \"white\", \"startlinecolor\": \"#2a3f5f\"}, \"type\": \"carpet\"}], \"choropleth\": [{\"colorbar\": {\"outlinewidth\": 0, \"ticks\": \"\"}, \"type\": \"choropleth\"}], \"contour\": [{\"colorbar\": {\"outlinewidth\": 0, \"ticks\": \"\"}, \"colorscale\": [[0.0, \"#0d0887\"], [0.1111111111111111, \"#46039f\"], [0.2222222222222222, \"#7201a8\"], [0.3333333333333333, \"#9c179e\"], [0.4444444444444444, \"#bd3786\"], [0.5555555555555556, \"#d8576b\"], [0.6666666666666666, \"#ed7953\"], [0.7777777777777778, \"#fb9f3a\"], [0.8888888888888888, \"#fdca26\"], [1.0, \"#f0f921\"]], \"type\": \"contour\"}], \"contourcarpet\": [{\"colorbar\": {\"outlinewidth\": 0, \"ticks\": \"\"}, \"type\": \"contourcarpet\"}], \"heatmap\": [{\"colorbar\": {\"outlinewidth\": 0, \"ticks\": \"\"}, \"colorscale\": [[0.0, \"#0d0887\"], [0.1111111111111111, \"#46039f\"], [0.2222222222222222, \"#7201a8\"], [0.3333333333333333, \"#9c179e\"], [0.4444444444444444, \"#bd3786\"], [0.5555555555555556, \"#d8576b\"], [0.6666666666666666, \"#ed7953\"], [0.7777777777777778, \"#fb9f3a\"], [0.8888888888888888, \"#fdca26\"], [1.0, \"#f0f921\"]], \"type\": \"heatmap\"}], \"heatmapgl\": [{\"colorbar\": {\"outlinewidth\": 0, \"ticks\": \"\"}, \"colorscale\": [[0.0, \"#0d0887\"], [0.1111111111111111, \"#46039f\"], [0.2222222222222222, \"#7201a8\"], [0.3333333333333333, \"#9c179e\"], [0.4444444444444444, \"#bd3786\"], [0.5555555555555556, \"#d8576b\"], [0.6666666666666666, \"#ed7953\"], [0.7777777777777778, \"#fb9f3a\"], [0.8888888888888888, \"#fdca26\"], [1.0, \"#f0f921\"]], \"type\": \"heatmapgl\"}], \"histogram\": [{\"marker\": {\"colorbar\": {\"outlinewidth\": 0, \"ticks\": \"\"}}, \"type\": \"histogram\"}], \"histogram2d\": [{\"colorbar\": {\"outlinewidth\": 0, \"ticks\": \"\"}, \"colorscale\": [[0.0, \"#0d0887\"], [0.1111111111111111, \"#46039f\"], [0.2222222222222222, \"#7201a8\"], [0.3333333333333333, \"#9c179e\"], [0.4444444444444444, \"#bd3786\"], [0.5555555555555556, \"#d8576b\"], [0.6666666666666666, \"#ed7953\"], [0.7777777777777778, \"#fb9f3a\"], [0.8888888888888888, \"#fdca26\"], [1.0, \"#f0f921\"]], \"type\": \"histogram2d\"}], \"histogram2dcontour\": [{\"colorbar\": {\"outlinewidth\": 0, \"ticks\": \"\"}, \"colorscale\": [[0.0, \"#0d0887\"], [0.1111111111111111, \"#46039f\"], [0.2222222222222222, \"#7201a8\"], [0.3333333333333333, \"#9c179e\"], [0.4444444444444444, \"#bd3786\"], [0.5555555555555556, \"#d8576b\"], [0.6666666666666666, \"#ed7953\"], [0.7777777777777778, \"#fb9f3a\"], [0.8888888888888888, \"#fdca26\"], [1.0, \"#f0f921\"]], \"type\": \"histogram2dcontour\"}], \"mesh3d\": [{\"colorbar\": {\"outlinewidth\": 0, \"ticks\": \"\"}, \"type\": \"mesh3d\"}], \"parcoords\": [{\"line\": {\"colorbar\": {\"outlinewidth\": 0, \"ticks\": \"\"}}, \"type\": \"parcoords\"}], \"pie\": [{\"automargin\": true, \"type\": \"pie\"}], \"scatter\": [{\"marker\": {\"colorbar\": {\"outlinewidth\": 0, \"ticks\": \"\"}}, \"type\": \"scatter\"}], \"scatter3d\": [{\"line\": {\"colorbar\": {\"outlinewidth\": 0, \"ticks\": \"\"}}, \"marker\": {\"colorbar\": {\"outlinewidth\": 0, \"ticks\": \"\"}}, \"type\": \"scatter3d\"}], \"scattercarpet\": [{\"marker\": {\"colorbar\": {\"outlinewidth\": 0, \"ticks\": \"\"}}, \"type\": \"scattercarpet\"}], \"scattergeo\": [{\"marker\": {\"colorbar\": {\"outlinewidth\": 0, \"ticks\": \"\"}}, \"type\": \"scattergeo\"}], \"scattergl\": [{\"marker\": {\"colorbar\": {\"outlinewidth\": 0, \"ticks\": \"\"}}, \"type\": \"scattergl\"}], \"scattermapbox\": [{\"marker\": {\"colorbar\": {\"outlinewidth\": 0, \"ticks\": \"\"}}, \"type\": \"scattermapbox\"}], \"scatterpolar\": [{\"marker\": {\"colorbar\": {\"outlinewidth\": 0, \"ticks\": \"\"}}, \"type\": \"scatterpolar\"}], \"scatterpolargl\": [{\"marker\": {\"colorbar\": {\"outlinewidth\": 0, \"ticks\": \"\"}}, \"type\": \"scatterpolargl\"}], \"scatterternary\": [{\"marker\": {\"colorbar\": {\"outlinewidth\": 0, \"ticks\": \"\"}}, \"type\": \"scatterternary\"}], \"surface\": [{\"colorbar\": {\"outlinewidth\": 0, \"ticks\": \"\"}, \"colorscale\": [[0.0, \"#0d0887\"], [0.1111111111111111, \"#46039f\"], [0.2222222222222222, \"#7201a8\"], [0.3333333333333333, \"#9c179e\"], [0.4444444444444444, \"#bd3786\"], [0.5555555555555556, \"#d8576b\"], [0.6666666666666666, \"#ed7953\"], [0.7777777777777778, \"#fb9f3a\"], [0.8888888888888888, \"#fdca26\"], [1.0, \"#f0f921\"]], \"type\": \"surface\"}], \"table\": [{\"cells\": {\"fill\": {\"color\": \"#EBF0F8\"}, \"line\": {\"color\": \"white\"}}, \"header\": {\"fill\": {\"color\": \"#C8D4E3\"}, \"line\": {\"color\": \"white\"}}, \"type\": \"table\"}]}, \"layout\": {\"annotationdefaults\": {\"arrowcolor\": \"#2a3f5f\", \"arrowhead\": 0, \"arrowwidth\": 1}, \"autotypenumbers\": \"strict\", \"coloraxis\": {\"colorbar\": {\"outlinewidth\": 0, \"ticks\": \"\"}}, \"colorscale\": {\"diverging\": [[0, \"#8e0152\"], [0.1, \"#c51b7d\"], [0.2, \"#de77ae\"], [0.3, \"#f1b6da\"], [0.4, \"#fde0ef\"], [0.5, \"#f7f7f7\"], [0.6, \"#e6f5d0\"], [0.7, \"#b8e186\"], [0.8, \"#7fbc41\"], [0.9, \"#4d9221\"], [1, \"#276419\"]], \"sequential\": [[0.0, \"#0d0887\"], [0.1111111111111111, \"#46039f\"], [0.2222222222222222, \"#7201a8\"], [0.3333333333333333, \"#9c179e\"], [0.4444444444444444, \"#bd3786\"], [0.5555555555555556, \"#d8576b\"], [0.6666666666666666, \"#ed7953\"], [0.7777777777777778, \"#fb9f3a\"], [0.8888888888888888, \"#fdca26\"], [1.0, \"#f0f921\"]], \"sequentialminus\": [[0.0, \"#0d0887\"], [0.1111111111111111, \"#46039f\"], [0.2222222222222222, \"#7201a8\"], [0.3333333333333333, \"#9c179e\"], [0.4444444444444444, \"#bd3786\"], [0.5555555555555556, \"#d8576b\"], [0.6666666666666666, \"#ed7953\"], [0.7777777777777778, \"#fb9f3a\"], [0.8888888888888888, \"#fdca26\"], [1.0, \"#f0f921\"]]}, \"colorway\": [\"#636efa\", \"#EF553B\", \"#00cc96\", \"#ab63fa\", \"#FFA15A\", \"#19d3f3\", \"#FF6692\", \"#B6E880\", \"#FF97FF\", \"#FECB52\"], \"font\": {\"color\": \"#2a3f5f\"}, \"geo\": {\"bgcolor\": \"white\", \"lakecolor\": \"white\", \"landcolor\": \"#E5ECF6\", \"showlakes\": true, \"showland\": true, \"subunitcolor\": \"white\"}, \"hoverlabel\": {\"align\": \"left\"}, \"hovermode\": \"closest\", \"mapbox\": {\"style\": \"light\"}, \"paper_bgcolor\": \"white\", \"plot_bgcolor\": \"#E5ECF6\", \"polar\": {\"angularaxis\": {\"gridcolor\": \"white\", \"linecolor\": \"white\", \"ticks\": \"\"}, \"bgcolor\": \"#E5ECF6\", \"radialaxis\": {\"gridcolor\": \"white\", \"linecolor\": \"white\", \"ticks\": \"\"}}, \"scene\": {\"xaxis\": {\"backgroundcolor\": \"#E5ECF6\", \"gridcolor\": \"white\", \"gridwidth\": 2, \"linecolor\": \"white\", \"showbackground\": true, \"ticks\": \"\", \"zerolinecolor\": \"white\"}, \"yaxis\": {\"backgroundcolor\": \"#E5ECF6\", \"gridcolor\": \"white\", \"gridwidth\": 2, \"linecolor\": \"white\", \"showbackground\": true, \"ticks\": \"\", \"zerolinecolor\": \"white\"}, \"zaxis\": {\"backgroundcolor\": \"#E5ECF6\", \"gridcolor\": \"white\", \"gridwidth\": 2, \"linecolor\": \"white\", \"showbackground\": true, \"ticks\": \"\", \"zerolinecolor\": \"white\"}}, \"shapedefaults\": {\"line\": {\"color\": \"#2a3f5f\"}}, \"ternary\": {\"aaxis\": {\"gridcolor\": \"white\", \"linecolor\": \"white\", \"ticks\": \"\"}, \"baxis\": {\"gridcolor\": \"white\", \"linecolor\": \"white\", \"ticks\": \"\"}, \"bgcolor\": \"#E5ECF6\", \"caxis\": {\"gridcolor\": \"white\", \"linecolor\": \"white\", \"ticks\": \"\"}}, \"title\": {\"x\": 0.05}, \"xaxis\": {\"automargin\": true, \"gridcolor\": \"white\", \"linecolor\": \"white\", \"ticks\": \"\", \"title\": {\"standoff\": 15}, \"zerolinecolor\": \"white\", \"zerolinewidth\": 2}, \"yaxis\": {\"automargin\": true, \"gridcolor\": \"white\", \"linecolor\": \"white\", \"ticks\": \"\", \"title\": {\"standoff\": 15}, \"zerolinecolor\": \"white\", \"zerolinewidth\": 2}}}},                        {\"responsive\": true}                    ).then(function(){\n",
       "                            \n",
       "var gd = document.getElementById('63d59df0-e6ec-40dc-8d56-dcfaa84b4bd0');\n",
       "var x = new MutationObserver(function (mutations, observer) {{\n",
       "        var display = window.getComputedStyle(gd).display;\n",
       "        if (!display || display === 'none') {{\n",
       "            console.log([gd, 'removed!']);\n",
       "            Plotly.purge(gd);\n",
       "            observer.disconnect();\n",
       "        }}\n",
       "}});\n",
       "\n",
       "// Listen for the removal of the full notebook cells\n",
       "var notebookContainer = gd.closest('#notebook-container');\n",
       "if (notebookContainer) {{\n",
       "    x.observe(notebookContainer, {childList: true});\n",
       "}}\n",
       "\n",
       "// Listen for the clearing of the current output cell\n",
       "var outputEl = gd.closest('.output');\n",
       "if (outputEl) {{\n",
       "    x.observe(outputEl, {childList: true});\n",
       "}}\n",
       "\n",
       "                        })                };                });            </script>        </div>"
      ]
     },
     "metadata": {},
     "output_type": "display_data"
    }
   ],
   "source": [
    "fig = go.Figure(data=[go.Mesh3d(x=xx, y=yy, z=image_chm, color='lightpink', opacity=0.50)])\n",
    "fig.show()"
   ]
  },
  {
   "cell_type": "code",
   "execution_count": 10,
   "id": "specialized-october",
   "metadata": {},
   "outputs": [
    {
     "ename": "NameError",
     "evalue": "name 'go' is not defined",
     "output_type": "error",
     "traceback": [
      "\u001b[1;31m---------------------------------------------------------------------------\u001b[0m",
      "\u001b[1;31mNameError\u001b[0m                                 Traceback (most recent call last)",
      "\u001b[1;32m<ipython-input-10-830bbf89b37e>\u001b[0m in \u001b[0;36m<module>\u001b[1;34m\u001b[0m\n\u001b[1;32m----> 1\u001b[1;33m \u001b[0mgo\u001b[0m\u001b[1;33m\u001b[0m\u001b[1;33m\u001b[0m\u001b[0m\n\u001b[0m",
      "\u001b[1;31mNameError\u001b[0m: name 'go' is not defined"
     ]
    }
   ],
   "source": [
    "go"
   ]
  },
  {
   "cell_type": "code",
   "execution_count": null,
   "id": "dynamic-booking",
   "metadata": {},
   "outputs": [],
   "source": [
    "DSM_tif.read()"
   ]
  },
  {
   "cell_type": "code",
   "execution_count": null,
   "id": "aware-arthur",
   "metadata": {},
   "outputs": [],
   "source": [
    "show(DSM_tif)"
   ]
  },
  {
   "cell_type": "code",
   "execution_count": null,
   "id": "choice-completion",
   "metadata": {},
   "outputs": [],
   "source": []
  },
  {
   "cell_type": "code",
   "execution_count": null,
   "id": "infrared-brisbane",
   "metadata": {},
   "outputs": [],
   "source": []
  },
  {
   "cell_type": "code",
   "execution_count": null,
   "id": "intense-georgia",
   "metadata": {},
   "outputs": [],
   "source": []
  },
  {
   "cell_type": "markdown",
   "id": "internal-sigma",
   "metadata": {},
   "source": [
    "#### Dowload link example"
   ]
  },
  {
   "cell_type": "code",
   "execution_count": null,
   "id": "detailed-contact",
   "metadata": {},
   "outputs": [],
   "source": [
    "https://downloadagiv.blob.core.windows.net/dhm-vlaanderen-ii-dsm-raster-1m/DHMVIIDSMRAS1m_k25.zip"
   ]
  },
  {
   "cell_type": "code",
   "execution_count": null,
   "id": "individual-overall",
   "metadata": {},
   "outputs": [],
   "source": [
    "k_folder"
   ]
  },
  {
   "cell_type": "code",
   "execution_count": null,
   "id": "chicken-monitor",
   "metadata": {},
   "outputs": [],
   "source": [
    "os.path.exists(k_folder)"
   ]
  },
  {
   "cell_type": "code",
   "execution_count": null,
   "id": "accurate-diana",
   "metadata": {},
   "outputs": [],
   "source": []
  }
 ],
 "metadata": {
  "kernelspec": {
   "display_name": "3D_houses",
   "language": "python",
   "name": "3d_houses"
  },
  "language_info": {
   "codemirror_mode": {
    "name": "ipython",
    "version": 3
   },
   "file_extension": ".py",
   "mimetype": "text/x-python",
   "name": "python",
   "nbconvert_exporter": "python",
   "pygments_lexer": "ipython3",
   "version": "3.7.9"
  }
 },
 "nbformat": 4,
 "nbformat_minor": 5
}
