{
 "cells": [
  {
   "cell_type": "code",
   "execution_count": 1,
   "id": "handled-ozone",
   "metadata": {},
   "outputs": [],
   "source": [
    "%config Completer.use_jedi = False"
   ]
  },
  {
   "cell_type": "code",
   "execution_count": 2,
   "id": "collected-vector",
   "metadata": {},
   "outputs": [],
   "source": [
    "from rasterio.warp import transform\n",
    "from rasterio.crs import CRS"
   ]
  },
  {
   "cell_type": "code",
   "execution_count": 3,
   "id": "shared-adelaide",
   "metadata": {},
   "outputs": [],
   "source": [
    "import rasterio\n",
    "from rasterio.plot import show\n",
    "import matplotlib.pyplot as plt\n",
    "import geopandas as gpd\n",
    "\n",
    "%matplotlib inline"
   ]
  },
  {
   "cell_type": "markdown",
   "id": "african-undergraduate",
   "metadata": {},
   "source": [
    "Stationsstraat 205\n",
    "2910 Essen\n",
    "51,462935° - 4,453936°"
   ]
  },
  {
   "cell_type": "code",
   "execution_count": null,
   "id": "assisted-breathing",
   "metadata": {},
   "outputs": [],
   "source": []
  },
  {
   "cell_type": "code",
   "execution_count": 4,
   "id": "curious-navigator",
   "metadata": {},
   "outputs": [],
   "source": [
    "DSM_tif_loc = r'C:\\Users\\simon\\PycharmProjects\\3D_houses\\data\\DSM\\GeoTIFF\\DHMVIIDSMRAS1m_k01.tif'\n",
    "DSM_tif = rasterio.open(DSM_tif_loc)"
   ]
  },
  {
   "cell_type": "code",
   "execution_count": 13,
   "id": "resident-champion",
   "metadata": {},
   "outputs": [
    {
     "data": {
      "text/plain": [
       "BoundingBox(left=145000.0, bottom=238000.0, right=162000.0, top=247000.0)"
      ]
     },
     "execution_count": 13,
     "metadata": {},
     "output_type": "execute_result"
    }
   ],
   "source": [
    "DSM_tif.bounds"
   ]
  },
  {
   "cell_type": "code",
   "execution_count": 11,
   "id": "pursuant-rogers",
   "metadata": {},
   "outputs": [
    {
     "data": {
      "text/plain": [
       "1"
      ]
     },
     "execution_count": 11,
     "metadata": {},
     "output_type": "execute_result"
    }
   ],
   "source": [
    "DSM_tif.count"
   ]
  },
  {
   "cell_type": "code",
   "execution_count": 12,
   "id": "wrapped-georgia",
   "metadata": {},
   "outputs": [
    {
     "data": {
      "text/plain": [
       "17000"
      ]
     },
     "execution_count": 12,
     "metadata": {},
     "output_type": "execute_result"
    }
   ],
   "source": [
    "DSM_tif.width"
   ]
  },
  {
   "cell_type": "code",
   "execution_count": null,
   "id": "strategic-mexico",
   "metadata": {},
   "outputs": [],
   "source": []
  },
  {
   "cell_type": "code",
   "execution_count": 5,
   "id": "better-disclosure",
   "metadata": {},
   "outputs": [
    {
     "data": {
      "text/plain": [
       "BoundingBox(left=145000.0, bottom=238000.0, right=162000.0, top=247000.0)"
      ]
     },
     "execution_count": 5,
     "metadata": {},
     "output_type": "execute_result"
    }
   ],
   "source": [
    "DSM_tif.bounds"
   ]
  },
  {
   "cell_type": "code",
   "execution_count": 6,
   "id": "competitive-subscription",
   "metadata": {},
   "outputs": [
    {
     "data": {
      "text/plain": [
       "CRS.from_epsg(31370)"
      ]
     },
     "execution_count": 6,
     "metadata": {},
     "output_type": "execute_result"
    }
   ],
   "source": [
    "DSM_tif.crs"
   ]
  },
  {
   "cell_type": "code",
   "execution_count": 7,
   "id": "creative-combine",
   "metadata": {},
   "outputs": [],
   "source": [
    "House_coords_wgs84 =  ([51], [4])\n",
    "geopunt_crs = CRS.from_epsg(31370)\n",
    "crs_WGS84 = CRS.from_epsg(4326)   # standard WGS84 coordinates"
   ]
  },
  {
   "cell_type": "code",
   "execution_count": 9,
   "id": "expanded-christian",
   "metadata": {},
   "outputs": [],
   "source": [
    "new_crs = CRS.from_epsg(4326)\n",
    "new_coo = transform(DSM_tif.crs, new_crs, \n",
    "                    xs=[590530], ys=[5790650])"
   ]
  },
  {
   "cell_type": "code",
   "execution_count": 10,
   "id": "offshore-german",
   "metadata": {},
   "outputs": [
    {
     "data": {
      "text/plain": [
       "([174.86010642336456], [87.60018317366878])"
      ]
     },
     "execution_count": 10,
     "metadata": {},
     "output_type": "execute_result"
    }
   ],
   "source": [
    "new_coo"
   ]
  },
  {
   "cell_type": "code",
   "execution_count": 8,
   "id": "regional-adams",
   "metadata": {},
   "outputs": [
    {
     "data": {
      "text/plain": [
       "([-529914.7822260269], [-6145825.314978582])"
      ]
     },
     "execution_count": 8,
     "metadata": {},
     "output_type": "execute_result"
    }
   ],
   "source": [
    "new_coo = transform(crs_WGS84, geopunt_crs, \n",
    "                    xs=[145000], ys=[247000])\n",
    "new_coo"
   ]
  },
  {
   "cell_type": "code",
   "execution_count": 21,
   "id": "unsigned-gamma",
   "metadata": {},
   "outputs": [
    {
     "data": {
      "text/plain": [
       "([2.306201195772758], [49.29396079086412])"
      ]
     },
     "execution_count": 21,
     "metadata": {},
     "output_type": "execute_result"
    }
   ],
   "source": [
    "new_coo = transform(geopunt_crs, crs_WGS84, \n",
    "                    xs=House_coords_wgsd84[0], ys=House_coords_wgsd84[1])\n",
    "new_coo"
   ]
  },
  {
   "cell_type": "code",
   "execution_count": 13,
   "id": "extra-device",
   "metadata": {},
   "outputs": [
    {
     "data": {
      "text/plain": [
       "[51, 462935]"
      ]
     },
     "execution_count": 13,
     "metadata": {},
     "output_type": "execute_result"
    }
   ],
   "source": [
    "House_coords_wgsd84[0]"
   ]
  },
  {
   "cell_type": "markdown",
   "id": "oriental-quarterly",
   "metadata": {},
   "source": [
    "## geopunt crs to long and ..."
   ]
  },
  {
   "cell_type": "code",
   "execution_count": 23,
   "id": "alone-working",
   "metadata": {},
   "outputs": [],
   "source": [
    "geopunt_crs = DSM_tif.crs"
   ]
  },
  {
   "cell_type": "code",
   "execution_count": null,
   "id": "spoken-washington",
   "metadata": {},
   "outputs": [],
   "source": []
  }
 ],
 "metadata": {
  "kernelspec": {
   "display_name": "3D_houses",
   "language": "python",
   "name": "3d_houses"
  },
  "language_info": {
   "codemirror_mode": {
    "name": "ipython",
    "version": 3
   },
   "file_extension": ".py",
   "mimetype": "text/x-python",
   "name": "python",
   "nbconvert_exporter": "python",
   "pygments_lexer": "ipython3",
   "version": "3.7.9"
  }
 },
 "nbformat": 4,
 "nbformat_minor": 5
}
