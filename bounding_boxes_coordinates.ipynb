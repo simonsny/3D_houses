{
 "cells": [
  {
   "cell_type": "code",
   "execution_count": 8,
   "id": "handled-ozone",
   "metadata": {},
   "outputs": [],
   "source": [
    "%config Completer.use_jedi = False"
   ]
  },
  {
   "cell_type": "code",
   "execution_count": 2,
   "id": "collected-vector",
   "metadata": {},
   "outputs": [],
   "source": [
    "from rasterio.warp import transform\n",
    "from rasterio.crs import CRS"
   ]
  },
  {
   "cell_type": "code",
   "execution_count": 3,
   "id": "shared-adelaide",
   "metadata": {},
   "outputs": [],
   "source": [
    "import rasterio\n",
    "from rasterio.plot import show\n",
    "import matplotlib.pyplot as plt\n",
    "import geopandas as gpd\n",
    "\n",
    "%matplotlib inline"
   ]
  },
  {
   "cell_type": "markdown",
   "id": "african-undergraduate",
   "metadata": {},
   "source": [
    "Stationsstraat 205\n",
    "2910 Essen\n",
    "51,462935° - 4,453936°"
   ]
  },
  {
   "cell_type": "code",
   "execution_count": null,
   "id": "assisted-breathing",
   "metadata": {},
   "outputs": [],
   "source": []
  },
  {
   "cell_type": "code",
   "execution_count": 5,
   "id": "curious-navigator",
   "metadata": {},
   "outputs": [],
   "source": [
    "DSM_tif_loc = r'C:\\Users\\simon\\PycharmProjects\\3D_houses\\data\\1\\DSM\\GeoTIFF\\DHMVIIDSMRAS1m_k01.tif'\n",
    "DSM_tif = rasterio.open(DSM_tif_loc)"
   ]
  },
  {
   "cell_type": "code",
   "execution_count": 6,
   "id": "resident-champion",
   "metadata": {},
   "outputs": [
    {
     "data": {
      "text/plain": [
       "BoundingBox(left=145000.0, bottom=238000.0, right=162000.0, top=247000.0)"
      ]
     },
     "execution_count": 6,
     "metadata": {},
     "output_type": "execute_result"
    }
   ],
   "source": [
    "DSM_tif.bounds"
   ]
  },
  {
   "cell_type": "code",
   "execution_count": 9,
   "id": "confused-monitor",
   "metadata": {},
   "outputs": [
    {
     "data": {
      "text/plain": [
       "BoundingBox(left=66000.0, bottom=198000.0, right=98000.0, top=218000.0)"
      ]
     },
     "execution_count": 9,
     "metadata": {},
     "output_type": "execute_result"
    }
   ],
   "source": [
    "DSM_tif_loc13 = r'C:\\Users\\simon\\PycharmProjects\\3D_houses\\data\\13\\DSM\\GeoTIFF\\DHMVIIDSMRAS1m_k13.tif'\n",
    "DSM_tif13 = rasterio.open(DSM_tif_loc13)\n",
    "DSM_tif13.bounds"
   ]
  },
  {
   "cell_type": "code",
   "execution_count": 12,
   "id": "ideal-sharing",
   "metadata": {},
   "outputs": [
    {
     "data": {
      "text/plain": [
       "BoundingBox(left=20000.0, bottom=158000.0, right=34000.0, top=178000.0)"
      ]
     },
     "execution_count": 12,
     "metadata": {},
     "output_type": "execute_result"
    }
   ],
   "source": [
    "DTM_tif_loc27 = r'C:\\Users\\simon\\PycharmProjects\\3D_houses\\data\\27\\DTM\\GeoTIFF\\DHMVIIDTMRAS1m_k27.tif'\n",
    "DTM_tif27 = rasterio.open(DTM_tif_loc27)\n",
    "DTM_tif27.bounds"
   ]
  },
  {
   "cell_type": "code",
   "execution_count": 13,
   "id": "silent-independence",
   "metadata": {},
   "outputs": [
    {
     "data": {
      "text/plain": [
       "BoundingBox(left=194000.0, bottom=158000.0, right=226000.0, top=178000.0)"
      ]
     },
     "execution_count": 13,
     "metadata": {},
     "output_type": "execute_result"
    }
   ],
   "source": [
    "DTM_tif_loc33 = r'C:\\Users\\simon\\PycharmProjects\\3D_houses\\data\\33\\GeoTIFF\\DHMVIIDTMRAS1m_k33.tif'\n",
    "DTM_tif33 = rasterio.open(DTM_tif_loc33)\n",
    "DTM_tif33.bounds"
   ]
  },
  {
   "cell_type": "code",
   "execution_count": 15,
   "id": "given-advance",
   "metadata": {},
   "outputs": [
    {
     "data": {
      "text/plain": [
       "BoundingBox(left=258000.0, bottom=151000.0, right=264000.0, top=158000.0)"
      ]
     },
     "execution_count": 15,
     "metadata": {},
     "output_type": "execute_result"
    }
   ],
   "source": [
    "DTM_tif_loc43 = r'C:\\Users\\simon\\PycharmProjects\\3D_houses\\data\\43\\GeoTIFF\\DHMVIIDTMRAS1m_k43.tif'\n",
    "DTM_tif43 = rasterio.open(DTM_tif_loc43)\n",
    "DTM_tif43.bounds"
   ]
  },
  {
   "cell_type": "code",
   "execution_count": 11,
   "id": "pursuant-rogers",
   "metadata": {},
   "outputs": [
    {
     "data": {
      "text/plain": [
       "1"
      ]
     },
     "execution_count": 11,
     "metadata": {},
     "output_type": "execute_result"
    }
   ],
   "source": [
    "DSM_tif.count"
   ]
  },
  {
   "cell_type": "code",
   "execution_count": null,
   "id": "beginning-expense",
   "metadata": {},
   "outputs": [],
   "source": [
    "x = [20000, 34000, 66000, 98000, 145000, 162000, 194000, 226000]\n",
    "y = [247000, 238000, 218000, 198000, 178000, 158000, 151000]"
   ]
  },
  {
   "cell_type": "code",
   "execution_count": 10,
   "id": "bored-mailing",
   "metadata": {},
   "outputs": [],
   "source": [
    "data = {\n",
    "    'index': [(238000, 247000), (218000, 238000), (198000, 218000), (178000, 198000), (158000, 178000), (151000, 158000)],\n",
    "    (20000, 34000): [0, 0, 11, 19, 27, 0],\n",
    "    (34000, 66000): [0, 4, 12, 20, 28, 36],\n",
    "    (66000, 98000): [0, 5, 13, 21, 29, 37],\n",
    "    (98000, 145000): [0, 6, 14, 22, 30, 38],\n",
    "    (145000, 162000): [1, 7, 15, 23, 31, 39],\n",
    "    (162000, 194000): [2, 8, 16, 24, 32, 40],\n",
    "    (194000, 226000): [3, 9, 17, 25, 33, 41],\n",
    "    (226000, 258000): [0, 10, 18, 26, 34, 42],\n",
    "    (258000, 264000): [0, 0, 0, 0, 35, 43]    \n",
    "}"
   ]
  },
  {
   "cell_type": "code",
   "execution_count": 11,
   "id": "previous-impression",
   "metadata": {},
   "outputs": [],
   "source": [
    "import pandas as pd"
   ]
  },
  {
   "cell_type": "code",
   "execution_count": 12,
   "id": "macro-hampton",
   "metadata": {},
   "outputs": [],
   "source": [
    "data = pd.DataFrame(data)"
   ]
  },
  {
   "cell_type": "code",
   "execution_count": 13,
   "id": "informative-ordering",
   "metadata": {},
   "outputs": [],
   "source": [
    "data.set_index('index', inplace=True)"
   ]
  },
  {
   "cell_type": "code",
   "execution_count": 14,
   "id": "recent-particle",
   "metadata": {},
   "outputs": [],
   "source": [
    "data.to_csv('data/bounding_boxes_coordinates')"
   ]
  },
  {
   "cell_type": "code",
   "execution_count": 21,
   "id": "turkish-hamburg",
   "metadata": {},
   "outputs": [
    {
     "data": {
      "text/html": [
       "<div>\n",
       "<style scoped>\n",
       "    .dataframe tbody tr th:only-of-type {\n",
       "        vertical-align: middle;\n",
       "    }\n",
       "\n",
       "    .dataframe tbody tr th {\n",
       "        vertical-align: top;\n",
       "    }\n",
       "\n",
       "    .dataframe thead th {\n",
       "        text-align: right;\n",
       "    }\n",
       "</style>\n",
       "<table border=\"1\" class=\"dataframe\">\n",
       "  <thead>\n",
       "    <tr style=\"text-align: right;\">\n",
       "      <th></th>\n",
       "      <th>index</th>\n",
       "      <th>(20000, 34000)</th>\n",
       "      <th>(34000, 66000)</th>\n",
       "      <th>(66000, 98000)</th>\n",
       "      <th>(98000, 145000)</th>\n",
       "      <th>(145000, 162000)</th>\n",
       "      <th>(162000, 194000)</th>\n",
       "      <th>(194000, 226000)</th>\n",
       "      <th>(226000, 258000)</th>\n",
       "      <th>(258000, 264000)</th>\n",
       "    </tr>\n",
       "  </thead>\n",
       "  <tbody>\n",
       "    <tr>\n",
       "      <th>0</th>\n",
       "      <td>False</td>\n",
       "      <td>False</td>\n",
       "      <td>False</td>\n",
       "      <td>False</td>\n",
       "      <td>False</td>\n",
       "      <td>False</td>\n",
       "      <td>False</td>\n",
       "      <td>False</td>\n",
       "      <td>False</td>\n",
       "      <td>False</td>\n",
       "    </tr>\n",
       "    <tr>\n",
       "      <th>1</th>\n",
       "      <td>False</td>\n",
       "      <td>False</td>\n",
       "      <td>False</td>\n",
       "      <td>False</td>\n",
       "      <td>False</td>\n",
       "      <td>False</td>\n",
       "      <td>False</td>\n",
       "      <td>False</td>\n",
       "      <td>False</td>\n",
       "      <td>False</td>\n",
       "    </tr>\n",
       "    <tr>\n",
       "      <th>2</th>\n",
       "      <td>False</td>\n",
       "      <td>False</td>\n",
       "      <td>False</td>\n",
       "      <td>False</td>\n",
       "      <td>False</td>\n",
       "      <td>False</td>\n",
       "      <td>False</td>\n",
       "      <td>False</td>\n",
       "      <td>False</td>\n",
       "      <td>False</td>\n",
       "    </tr>\n",
       "    <tr>\n",
       "      <th>3</th>\n",
       "      <td>False</td>\n",
       "      <td>False</td>\n",
       "      <td>True</td>\n",
       "      <td>False</td>\n",
       "      <td>False</td>\n",
       "      <td>False</td>\n",
       "      <td>False</td>\n",
       "      <td>False</td>\n",
       "      <td>False</td>\n",
       "      <td>False</td>\n",
       "    </tr>\n",
       "    <tr>\n",
       "      <th>4</th>\n",
       "      <td>False</td>\n",
       "      <td>False</td>\n",
       "      <td>False</td>\n",
       "      <td>False</td>\n",
       "      <td>False</td>\n",
       "      <td>False</td>\n",
       "      <td>False</td>\n",
       "      <td>False</td>\n",
       "      <td>False</td>\n",
       "      <td>False</td>\n",
       "    </tr>\n",
       "    <tr>\n",
       "      <th>5</th>\n",
       "      <td>False</td>\n",
       "      <td>False</td>\n",
       "      <td>False</td>\n",
       "      <td>False</td>\n",
       "      <td>False</td>\n",
       "      <td>False</td>\n",
       "      <td>False</td>\n",
       "      <td>False</td>\n",
       "      <td>False</td>\n",
       "      <td>False</td>\n",
       "    </tr>\n",
       "  </tbody>\n",
       "</table>\n",
       "</div>"
      ],
      "text/plain": [
       "   index  (20000, 34000)  (34000, 66000)  (66000, 98000)  (98000, 145000)  \\\n",
       "0  False           False           False           False            False   \n",
       "1  False           False           False           False            False   \n",
       "2  False           False           False           False            False   \n",
       "3  False           False            True           False            False   \n",
       "4  False           False           False           False            False   \n",
       "5  False           False           False           False            False   \n",
       "\n",
       "   (145000, 162000)  (162000, 194000)  (194000, 226000)  (226000, 258000)  \\\n",
       "0             False             False             False             False   \n",
       "1             False             False             False             False   \n",
       "2             False             False             False             False   \n",
       "3             False             False             False             False   \n",
       "4             False             False             False             False   \n",
       "5             False             False             False             False   \n",
       "\n",
       "   (258000, 264000)  \n",
       "0             False  \n",
       "1             False  \n",
       "2             False  \n",
       "3             False  \n",
       "4             False  \n",
       "5             False  "
      ]
     },
     "execution_count": 21,
     "metadata": {},
     "output_type": "execute_result"
    }
   ],
   "source": [
    "data.eq(20)"
   ]
  },
  {
   "cell_type": "code",
   "execution_count": 12,
   "id": "wrapped-georgia",
   "metadata": {},
   "outputs": [
    {
     "data": {
      "text/plain": [
       "17000"
      ]
     },
     "execution_count": 12,
     "metadata": {},
     "output_type": "execute_result"
    }
   ],
   "source": [
    "DSM_tif.width"
   ]
  },
  {
   "cell_type": "code",
   "execution_count": null,
   "id": "strategic-mexico",
   "metadata": {},
   "outputs": [],
   "source": []
  },
  {
   "cell_type": "code",
   "execution_count": 5,
   "id": "better-disclosure",
   "metadata": {},
   "outputs": [
    {
     "data": {
      "text/plain": [
       "BoundingBox(left=145000.0, bottom=238000.0, right=162000.0, top=247000.0)"
      ]
     },
     "execution_count": 5,
     "metadata": {},
     "output_type": "execute_result"
    }
   ],
   "source": [
    "DSM_tif.bounds"
   ]
  },
  {
   "cell_type": "code",
   "execution_count": 6,
   "id": "competitive-subscription",
   "metadata": {},
   "outputs": [
    {
     "data": {
      "text/plain": [
       "CRS.from_epsg(31370)"
      ]
     },
     "execution_count": 6,
     "metadata": {},
     "output_type": "execute_result"
    }
   ],
   "source": [
    "DSM_tif.crs"
   ]
  },
  {
   "cell_type": "code",
   "execution_count": 7,
   "id": "creative-combine",
   "metadata": {},
   "outputs": [],
   "source": [
    "House_coords_wgs84 =  ([51], [4])\n",
    "geopunt_crs = CRS.from_epsg(31370)\n",
    "crs_WGS84 = CRS.from_epsg(4326)   # standard WGS84 coordinates"
   ]
  },
  {
   "cell_type": "code",
   "execution_count": 9,
   "id": "expanded-christian",
   "metadata": {},
   "outputs": [],
   "source": [
    "new_crs = CRS.from_epsg(4326)\n",
    "new_coo = transform(DSM_tif.crs, new_crs, \n",
    "                    xs=[590530], ys=[5790650])"
   ]
  },
  {
   "cell_type": "code",
   "execution_count": 10,
   "id": "offshore-german",
   "metadata": {},
   "outputs": [
    {
     "data": {
      "text/plain": [
       "([174.86010642336456], [87.60018317366878])"
      ]
     },
     "execution_count": 10,
     "metadata": {},
     "output_type": "execute_result"
    }
   ],
   "source": [
    "new_coo"
   ]
  },
  {
   "cell_type": "code",
   "execution_count": 8,
   "id": "regional-adams",
   "metadata": {},
   "outputs": [
    {
     "data": {
      "text/plain": [
       "([-529914.7822260269], [-6145825.314978582])"
      ]
     },
     "execution_count": 8,
     "metadata": {},
     "output_type": "execute_result"
    }
   ],
   "source": [
    "new_coo = transform(crs_WGS84, geopunt_crs, \n",
    "                    xs=[145000], ys=[247000])\n",
    "new_coo"
   ]
  },
  {
   "cell_type": "code",
   "execution_count": 21,
   "id": "unsigned-gamma",
   "metadata": {},
   "outputs": [
    {
     "data": {
      "text/plain": [
       "([2.306201195772758], [49.29396079086412])"
      ]
     },
     "execution_count": 21,
     "metadata": {},
     "output_type": "execute_result"
    }
   ],
   "source": [
    "new_coo = transform(geopunt_crs, crs_WGS84, \n",
    "                    xs=House_coords_wgsd84[0], ys=House_coords_wgsd84[1])\n",
    "new_coo"
   ]
  },
  {
   "cell_type": "code",
   "execution_count": 13,
   "id": "extra-device",
   "metadata": {},
   "outputs": [
    {
     "data": {
      "text/plain": [
       "[51, 462935]"
      ]
     },
     "execution_count": 13,
     "metadata": {},
     "output_type": "execute_result"
    }
   ],
   "source": [
    "House_coords_wgsd84[0]"
   ]
  },
  {
   "cell_type": "markdown",
   "id": "oriental-quarterly",
   "metadata": {},
   "source": [
    "## geopunt crs to long and ..."
   ]
  },
  {
   "cell_type": "code",
   "execution_count": 23,
   "id": "alone-working",
   "metadata": {},
   "outputs": [],
   "source": [
    "geopunt_crs = DSM_tif.crs"
   ]
  },
  {
   "cell_type": "code",
   "execution_count": null,
   "id": "accessible-friday",
   "metadata": {},
   "outputs": [],
   "source": []
  }
 ],
 "metadata": {
  "kernelspec": {
   "display_name": "3D_houses",
   "language": "python",
   "name": "3d_houses"
  },
  "language_info": {
   "codemirror_mode": {
    "name": "ipython",
    "version": 3
   },
   "file_extension": ".py",
   "mimetype": "text/x-python",
   "name": "python",
   "nbconvert_exporter": "python",
   "pygments_lexer": "ipython3",
   "version": "3.7.9"
  }
 },
 "nbformat": 4,
 "nbformat_minor": 5
}
