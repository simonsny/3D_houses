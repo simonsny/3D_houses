{
 "cells": [
  {
   "cell_type": "code",
   "execution_count": null,
   "id": "interim-video",
   "metadata": {},
   "outputs": [],
   "source": [
    ">>> wms = WebMapService('http://wms.jpl.nasa.gov/wms.cgi', version='1.1.1')\n",
    ">>> wms.identification.type\n",
    "'OGC:WMS'\n",
    ">>> wms.identification.version\n",
    "'1.1.1'\n",
    ">>> wms.identification.title\n",
    "'JPL Global Imagery Service'\n",
    ">>> wms.identification.abstract\n",
    "'WMS Server maintained by JPL, worldwide satellite imagery.'"
   ]
  },
  {
   "cell_type": "code",
   "execution_count": 3,
   "id": "respective-arizona",
   "metadata": {},
   "outputs": [
    {
     "ename": "ParseError",
     "evalue": "not well-formed (invalid token): line 1, column 2 (<string>)",
     "output_type": "error",
     "traceback": [
      "Traceback \u001b[1;36m(most recent call last)\u001b[0m:\n",
      "  File \u001b[0;32m\"C:\\Users\\simon\\Anaconda3\\envs\\3D_houses\\lib\\site-packages\\IPython\\core\\interactiveshell.py\"\u001b[0m, line \u001b[0;32m3417\u001b[0m, in \u001b[0;35mrun_code\u001b[0m\n    exec(code_obj, self.user_global_ns, self.user_ns)\n",
      "  File \u001b[0;32m\"<ipython-input-3-eda836f7aa38>\"\u001b[0m, line \u001b[0;32m3\u001b[0m, in \u001b[0;35m<module>\u001b[0m\n    wms = WebMapService(url)\n",
      "  File \u001b[0;32m\"C:\\Users\\simon\\Anaconda3\\envs\\3D_houses\\lib\\site-packages\\owslib\\wms.py\"\u001b[0m, line \u001b[0;32m52\u001b[0m, in \u001b[0;35mWebMapService\u001b[0m\n    timeout=timeout, headers=headers, auth=auth)\n",
      "  File \u001b[0;32m\"C:\\Users\\simon\\Anaconda3\\envs\\3D_houses\\lib\\site-packages\\owslib\\map\\wms111.py\"\u001b[0m, line \u001b[0;32m75\u001b[0m, in \u001b[0;35m__init__\u001b[0m\n    self._capabilities = reader.read(self.url, timeout=self.timeout)\n",
      "  File \u001b[0;32m\"C:\\Users\\simon\\Anaconda3\\envs\\3D_houses\\lib\\site-packages\\owslib\\map\\common.py\"\u001b[0m, line \u001b[0;32m69\u001b[0m, in \u001b[0;35mread\u001b[0m\n    return etree.fromstring(raw_text)\n",
      "\u001b[1;36m  File \u001b[1;32m\"C:\\Users\\simon\\Anaconda3\\envs\\3D_houses\\lib\\xml\\etree\\ElementTree.py\"\u001b[1;36m, line \u001b[1;32m1315\u001b[1;36m, in \u001b[1;35mXML\u001b[1;36m\u001b[0m\n\u001b[1;33m    parser.feed(text)\u001b[0m\n",
      "\u001b[1;36m  File \u001b[1;32m\"<string>\"\u001b[1;36m, line \u001b[1;32munknown\u001b[0m\n\u001b[1;31mParseError\u001b[0m\u001b[1;31m:\u001b[0m not well-formed (invalid token): line 1, column 2\n"
     ]
    }
   ],
   "source": [
    "from owslib.wms import WebMapService\n",
    "url = 'https://downloadagiv.blob.core.windows.net/dhm-vlaanderen-ii-dtm-raster-1m/DHMVIIDTMRAS1m_k01.zip'\n",
    "wms = WebMapService(url)"
   ]
  },
  {
   "cell_type": "code",
   "execution_count": 4,
   "id": "ongoing-underwear",
   "metadata": {},
   "outputs": [
    {
     "ename": "NameError",
     "evalue": "name 'wms' is not defined",
     "output_type": "error",
     "traceback": [
      "\u001b[1;31m---------------------------------------------------------------------------\u001b[0m",
      "\u001b[1;31mNameError\u001b[0m                                 Traceback (most recent call last)",
      "\u001b[1;32m<ipython-input-4-eba0cbba95d4>\u001b[0m in \u001b[0;36m<module>\u001b[1;34m\u001b[0m\n\u001b[1;32m----> 1\u001b[1;33m \u001b[0mwms\u001b[0m\u001b[1;33m\u001b[0m\u001b[1;33m\u001b[0m\u001b[0m\n\u001b[0m",
      "\u001b[1;31mNameError\u001b[0m: name 'wms' is not defined"
     ]
    }
   ],
   "source": [
    "wms"
   ]
  },
  {
   "cell_type": "code",
   "execution_count": 5,
   "id": "typical-suffering",
   "metadata": {},
   "outputs": [],
   "source": [
    "from owslib.wms import WebMapService"
   ]
  },
  {
   "cell_type": "code",
   "execution_count": 6,
   "id": "miniature-basket",
   "metadata": {},
   "outputs": [],
   "source": [
    "wms = WebMapService('https://geoservices.informatievlaanderen.be/raadpleegdiensten/DHMV/wms?service=WMS&request=getcapabilities')"
   ]
  },
  {
   "cell_type": "code",
   "execution_count": 7,
   "id": "sorted-space",
   "metadata": {},
   "outputs": [],
   "source": [
    "b, a, d, c = (4.406306555000071, 50.6852160257258, 5.252667763406145, 51.21284144802134)"
   ]
  },
  {
   "cell_type": "code",
   "execution_count": 8,
   "id": "biblical-pierre",
   "metadata": {},
   "outputs": [
    {
     "data": {
      "text/plain": [
       "<owslib.map.wms111.WebMapService_1_1_1 at 0x1dc9694b808>"
      ]
     },
     "execution_count": 8,
     "metadata": {},
     "output_type": "execute_result"
    }
   ],
   "source": [
    "wms"
   ]
  },
  {
   "cell_type": "code",
   "execution_count": 9,
   "id": "young-stephen",
   "metadata": {},
   "outputs": [],
   "source": [
    "img = wms.getmap(layers=['DHMVII_DSM_1m'], srs='EPSG:4258', bbox=(b, a, d, c), size=(900, 750),\n",
    "format='image/tiff', transparent=True)\n",
    "out = open('DSM_selected.tif', 'wb')\n",
    "out.write(img.read())\n",
    "out.close()"
   ]
  },
  {
   "cell_type": "code",
   "execution_count": 11,
   "id": "reliable-fountain",
   "metadata": {},
   "outputs": [
    {
     "ename": "ModuleNotFoundError",
     "evalue": "No module named 'rioxarray'",
     "output_type": "error",
     "traceback": [
      "\u001b[1;31m---------------------------------------------------------------------------\u001b[0m",
      "\u001b[1;31mModuleNotFoundError\u001b[0m                       Traceback (most recent call last)",
      "\u001b[1;32m<ipython-input-11-cda186002bb6>\u001b[0m in \u001b[0;36m<module>\u001b[1;34m\u001b[0m\n\u001b[0;32m      2\u001b[0m \u001b[1;32mimport\u001b[0m \u001b[0mjson\u001b[0m\u001b[1;33m\u001b[0m\u001b[1;33m\u001b[0m\u001b[0m\n\u001b[0;32m      3\u001b[0m \u001b[1;32mimport\u001b[0m \u001b[0mrasterio\u001b[0m \u001b[1;32mas\u001b[0m \u001b[0mrio\u001b[0m\u001b[1;33m\u001b[0m\u001b[1;33m\u001b[0m\u001b[0m\n\u001b[1;32m----> 4\u001b[1;33m \u001b[1;32mimport\u001b[0m \u001b[0mrioxarray\u001b[0m \u001b[1;32mas\u001b[0m \u001b[0mrxr\u001b[0m\u001b[1;33m\u001b[0m\u001b[1;33m\u001b[0m\u001b[0m\n\u001b[0m\u001b[0;32m      5\u001b[0m \u001b[1;32mimport\u001b[0m \u001b[0mpandas\u001b[0m \u001b[1;32mas\u001b[0m \u001b[0mpd\u001b[0m\u001b[1;33m\u001b[0m\u001b[1;33m\u001b[0m\u001b[0m\n\u001b[0;32m      6\u001b[0m \u001b[1;32mfrom\u001b[0m \u001b[0mfiles\u001b[0m \u001b[1;32mimport\u001b[0m \u001b[0mdsm_df\u001b[0m\u001b[1;33m\u001b[0m\u001b[1;33m\u001b[0m\u001b[0m\n",
      "\u001b[1;31mModuleNotFoundError\u001b[0m: No module named 'rioxarray'"
     ]
    }
   ],
   "source": [
    "import requests\n",
    "import json\n",
    "import rasterio as rio\n",
    "import rioxarray as rxr\n",
    "import pandas as pd\n",
    "from files import dsm_df\n",
    "from files import dtm_df\n",
    "\n",
    "import matplotlib.pyplot as plt\n",
    "import earthpy.plot as ep\n",
    "from mpl_toolkits.mplot3d import Axes3D\n",
    "import seaborn as sns\n",
    "\n",
    "import geopandas as gpd\n",
    "\n",
    "import plotly.graph_objects as go\n",
    "\n",
    "import numpy as np"
   ]
  },
  {
   "cell_type": "code",
   "execution_count": 10,
   "id": "pressed-night",
   "metadata": {},
   "outputs": [
    {
     "ename": "NameError",
     "evalue": "name 'rxr' is not defined",
     "output_type": "error",
     "traceback": [
      "\u001b[1;31m---------------------------------------------------------------------------\u001b[0m",
      "\u001b[1;31mNameError\u001b[0m                                 Traceback (most recent call last)",
      "\u001b[1;32m<ipython-input-10-d86410619a37>\u001b[0m in \u001b[0;36m<module>\u001b[1;34m\u001b[0m\n\u001b[1;32m----> 1\u001b[1;33m \u001b[0mimg_dsm\u001b[0m \u001b[1;33m=\u001b[0m \u001b[0mrxr\u001b[0m\u001b[1;33m.\u001b[0m\u001b[0mopen_rasterio\u001b[0m\u001b[1;33m(\u001b[0m\u001b[1;34m'DSM_selected.tif'\u001b[0m\u001b[1;33m,\u001b[0m \u001b[0mmasked\u001b[0m\u001b[1;33m=\u001b[0m\u001b[1;32mTrue\u001b[0m\u001b[1;33m)\u001b[0m\u001b[1;33m.\u001b[0m\u001b[0msqueeze\u001b[0m\u001b[1;33m(\u001b[0m\u001b[1;33m)\u001b[0m\u001b[1;33m\u001b[0m\u001b[1;33m\u001b[0m\u001b[0m\n\u001b[0m",
      "\u001b[1;31mNameError\u001b[0m: name 'rxr' is not defined"
     ]
    }
   ],
   "source": [
    "img_dsm = rxr.open_rasterio('DSM_selected.tif', masked=True).squeeze()"
   ]
  },
  {
   "cell_type": "code",
   "execution_count": null,
   "id": "medieval-register",
   "metadata": {},
   "outputs": [],
   "source": []
  }
 ],
 "metadata": {
  "kernelspec": {
   "display_name": "3D_houses",
   "language": "python",
   "name": "3d_houses"
  },
  "language_info": {
   "codemirror_mode": {
    "name": "ipython",
    "version": 3
   },
   "file_extension": ".py",
   "mimetype": "text/x-python",
   "name": "python",
   "nbconvert_exporter": "python",
   "pygments_lexer": "ipython3",
   "version": "3.7.9"
  }
 },
 "nbformat": 4,
 "nbformat_minor": 5
}
